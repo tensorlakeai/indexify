{
  "cells": [
    {
      "cell_type": "markdown",
      "metadata": {
        "id": "r9NVuXFG3qGw"
      },
      "source": [
        "### Install the Indexify Extractor SDK, Langchain Retriever and the Indexify Client"
      ]
    },
    {
      "cell_type": "code",
      "execution_count": 1,
      "metadata": {
        "id": "udB1A9ee1RFv"
      },
      "outputs": [],
      "source": [
        "%%capture\n",
        "!pip install indexify-extractor-sdk indexify-langchain indexify"
      ]
    },
    {
      "cell_type": "markdown",
      "metadata": {
        "id": "nGrirc_G3zSI"
      },
      "source": [
        "### Start the Indexify Server"
      ]
    },
    {
      "cell_type": "code",
      "execution_count": null,
      "metadata": {
        "id": "prTC7y7i3UCu"
      },
      "outputs": [],
      "source": [
        "!./indexify server -d"
      ]
    },
    {
      "cell_type": "markdown",
      "metadata": {
        "id": "KEHbUyCM3-vm"
      },
      "source": [
        "### Download an Embedding Extractor\n",
        "On another terminal we'll download and start the embedding extractor which we will use to index text from the Rental pdf document."
      ]
    },
    {
      "cell_type": "code",
      "execution_count": null,
      "metadata": {
        "id": "GYQmZBoR4UsY"
      },
      "outputs": [],
      "source": [
        "!indexify-extractor download hub://embedding/minilm-l6\n",
        "!indexify-extractor join-server"
      ]
    },
    {
      "cell_type": "markdown",
      "metadata": {},
      "source": [
        "### Download an Chunking Extractor\n",
        "On another terminal we'll download and start the chunking extractor that will create chunks from the text and embeddings."
      ]
    },
    {
      "cell_type": "code",
      "execution_count": null,
      "metadata": {},
      "outputs": [],
      "source": [
        "!indexify-extractor download hub://text/chunking\n",
        "!indexify-extractor join-server"
      ]
    },
    {
      "cell_type": "markdown",
      "metadata": {
        "id": "IfA8GSfG4cF7"
      },
      "source": [
        "### Download the Markdown Extractor\n",
        "On another terminal we'll install the necessary dependencies and start the Markdown extractor which we will use to get text out of Rental PDF documents in a markdown format."
      ]
    },
    {
      "cell_type": "markdown",
      "metadata": {
        "id": "n3EDV6Xk6LbU"
      },
      "source": [
        "Download and start the Markdown extractor"
      ]
    },
    {
      "cell_type": "code",
      "execution_count": null,
      "metadata": {
        "id": "_167kZaE6b3Q"
      },
      "outputs": [],
      "source": [
        "!indexify-extractor download hub://pdf/markdown\n",
        "!indexify-extractor join-server"
      ]
    },
    {
      "cell_type": "markdown",
      "metadata": {},
      "source": [
        "### Download the Rental PDF"
      ]
    },
    {
      "cell_type": "code",
      "execution_count": 3,
      "metadata": {},
      "outputs": [],
      "source": [
        "import requests\n",
        "req = requests.get(\"https://www.timescar-rental.com/pdf/agreement/en_agreement_200401.pdf\")\n",
        "\n",
        "with open('en_agreement_200401.pdf','wb') as f:\n",
        "    f.write(req.content)"
      ]
    },
    {
      "cell_type": "markdown",
      "metadata": {},
      "source": [
        "### Test the extractors\n",
        "\n",
        "We will try MarkdownExtractor first. The MarkdownExtractor can extract all the values from text in one shot and passes it to the next chained extractors as a markdown formatted document which can be used for question answering."
      ]
    },
    {
      "cell_type": "code",
      "execution_count": 4,
      "metadata": {},
      "outputs": [
        {
          "name": "stderr",
          "output_type": "stream",
          "text": [
            "/Users/rishiraj/miniconda3/envs/tensorlake/lib/python3.10/site-packages/tqdm/auto.py:21: TqdmWarning: IProgress not found. Please update jupyter and ipywidgets. See https://ipywidgets.readthedocs.io/en/stable/user_install.html\n",
            "  from .autonotebook import tqdm as notebook_tqdm\n"
          ]
        },
        {
          "name": "stdout",
          "output_type": "stream",
          "text": [
            "Loaded texify model to mps with torch.float16 dtype\n"
          ]
        },
        {
          "name": "stderr",
          "output_type": "stream",
          "text": [
            "/Users/rishiraj/miniconda3/envs/tensorlake/lib/python3.10/site-packages/transformers/modeling_utils.py:962: FutureWarning: The `device` argument is deprecated and will be removed in v5 of Transformers.\n",
            "  warnings.warn(\n"
          ]
        },
        {
          "data": {
            "text/plain": [
              "'\\n## Times Car Rental Terms And Conditions\\n\\nThis Agreement shall take effect starting April 1st, 2020. \\n\\n## Chapter 1 ‒ General Provisions Article 1: Application Of Agreement\\n\\n1. \\nTIMES MOBILITY CO., LTD. (hereinafter referred to as the \"Company\") shall rent out a vehicle (hereinafter referred to \\nas \"Rental Car\") to the Renter, and the Renter shall rent the Rental Car from the Company, all in accordance with the \\nprovisions in this Agreement. Matters not provided for in this Agreement shall be governed by relevant laws and regulations, and common practice. \\n2. \\nThe Company may make special provisions as long as they do not violate the purport of this Agreement, laws and regulations, administrative issuances, and common practice. If a special provision is made, such provision shall take precedence over this Agreement. \\n3. \\nIf the Renter has designated another Driver as described in Article 7, Paragraph 1, then the Renter shall ensure that the other Driver understands and complies with the provisions of this Agreement that concern the Driver. \\n\\n## Chapter 2 - Reservations Article 2: Making A Reservation\\n\\n1. \\nHaving consented to this Agreement, the separately prescribed price list, and other terms and conditions, the Renter may make a reservation, in accordance with the method separately provided by the Company, clearly specifying in advance the model or vehicle class, rental start date and time, rental location, rental period, return location, the name of the driver, requests for accessories such as toddler seats, and any other rental conditions (hereinafter referred to as \"Rental Conditions\"). \\n2. \\nWhen the Renter has made a reservation, the Company shall offer the Rental Cars for rent in its possession. Upon reservation, the Company may request payment of a separately prescribed reservation fee, and the Renter shall pay the fee accordingly. \\n\\n## Article 3: Changes To Reservations\\n\\nThe Renter must obtain the consent of the Company prior to the rental start date and time for any changes to the Rental Conditions provided for in paragraph 1 of the preceding Article. \\n\\n## Article 4: Reservation Cancellations, Etc.\\n\\n1. \\nThe Renter may cancel a reservation by obtaining the consent of the Company. \\n2. \\nA reservation shall be deemed to have been cancelled when, due to the Renter\\'s circumstances, the procedure for \\nconcluding the Rental Car Rental Agreement (hereinafter referred to as \"Rental Agreement\") has not been commenced \\nwithin one (1) hour of the rental start time indicated in the reservation. \\n3. \\nIf the Renter has failed to pay the reservation fee specified in Article 2, Paragraph 2, by the deadline specified by the Company, then the Company may cancel the reservation. \\n4. \\nIf a reservation has been cancelled by virtue of the preceding two paragraphs, the Renter shall pay the Company the reservation cancellation fee prescribed separately by the Company. If the reservation cancellation fee has been paid when a reservation fee had been paid, the Company shall reimburse the Renter the reservation fee. \\n5. \\nThe Company shall promptly inform the Renter when it is not possible to rent out the Rental Car reserved due to reasons attributable to the Company. In such a case, when it is not possible to rent out a different Rental Car of the same model or vehicle class (hereinafter referred to as \"Substitute Rental Car\"), or when the Renter does not agree to rent a Substitute Rental Car, the reservation shall be cancelled, and the Company shall reimburse the Renter the reservation fee. \\n6. \\nThe Company shall promptly notify the Renter according to the method it determined in advance when it is not possible to rent out a Rental Car reserved by the Renter due to natural disasters, accidents, theft, vehicle malfunctions or defects, recalls, delayed return by other renters, malfunctions in telecommunications operations such as landline phones, mobile phones, or internet connections, malfunctions or bugs in the system used to run the Company\\'s Rental Car operations, or other force majeure events which cannot be attributed to the Company, or when it objectively deems inappropriate to rent out a vehicle to the Renter. In such a case, when it is not possible to rent out a Substitute Rental Car, or when the Renter does not agree to rent a Substitute Rental Car, the reservation shall be deemed to have been cancelled. If a reservation has been cancelled, the Company shall reimburse the Renter the reservation fee received, \\nand the Company shall not be liable for any damage incurred by the Renter due to the cancellation of such reservation. \\n7. \\nIf the Renter has agreed to rent a Substitute Rental Car in the cases mentioned in the preceding two paragraphs, the Company shall rent out a Substitute Rental Car under the same Rental Conditions set at the time of reservation, except for the model or vehicle class; provided, however, that when the rental fee for the Substitute Rental Car is lower than that of the model or vehicle class reserved, the rental fee for the model or vehicle class of the Substitute Rental Car shall apply. \\n\\n## Article 5: Exemptions\\n\\nExcept in the cases provided for in the preceding Article, both the Company and the Renter shall not assume any liability whatsoever if a reservation is cancelled or a Rental Agreement is not concluded. \\n\\n## Article 6: Reservation Agents\\n\\n1. \\nThe Renter may make a reservation through a travel agency or an affiliated company (hereinafter referred to as \"Agency\") that handles reservations on behalf of the Company. \\n2. \\nA Renter who has made a reservation through an Agency by virtue of the preceding paragraph, notwithstanding the provisions in Article 3 and Article 4, can only makes changes to or cancel the reservation with the concerned Agency. \\n\\n## Chapter 3 ‒ Rental Article 7: Concluding A Rental Agreement\\n\\n1. \\nPursuant to 2 (10) and (11) of the Basic Instructions Concerning Rental Vehicles (Passenger Car No. 138, June 13, 1995) issued by the competent authority, the Company is required to state the driver\\'s name, address, type of driver\\'s \\nlicense, and driver\\'s license number on the rental ledger (rent payment stub) and the rental certificate as provided for in \\nparagraph 1 of Article 9, or affix a copy of the driver\\'s driving license; thus, when concluding the Rental Agreement, the Company shall request the Renter to present and submit a copy of the driver\\'s license of the Renter or the driver designated by the Renter (hereinafter referred to as \"Driver\"), with which the Renter and the Driver shall comply. The copy of the driver\\'s license and all other documents submitted by the Renter or the Driver at the time when the Rental Agreement is concluded shall not be returned to them by the Company for any reason. \\n2. \\nWhen concluding the Rental Agreement, the Company may request that, in addition to the driver\\'s license, the Renter and the Driver present and submit a copy of other documents for identity verification purposes, with which the Renter and the Driver shall comply. \\n3. \\nWhen concluding the Rental Agreement, the Company shall request to be notified of the mobile phone number and other numbers to contact the Renter and the Driver during the rental period, with which the Renter and the Driver shall comply. \\n4. \\nWhen concluding the Rental Agreement, the Company shall request payment by either credit card or in cash from the \\nRenter; provided, however, that when the Company has approved payment by some other method, the Renter may pay rental fees by such method. \\n5. \\nRental Agreements shall come into effect when the Rental Car is handed over to the Renter, with the Renter having paid rental fees to the Company after the Rental Conditions have been clearly stated, the Company having clearly stated the Rental Conditions from this Agreement, price list, etc., and the Company having judged that concluding the Rental Agreement is appropriate and in accordance with the checking and other provisions in paragraphs 1 to 4 of this Article. \\n6. \\nWhen a reservation agreement is already in place with the Renter, the handover of the Rental Car shall take place at the rental location specified in paragraph 1 of Article 2 upon the commencement of the rental period prescribed in the same paragraph. The reservation fee received shall be appropriated to form part of the rental fee once the Rental Agreement has been concluded. \\n7. \\nWhen a reservation agreement with the Renter is already in place and the Company has judged, based on the outcome of the checking prescribed in paragraphs 1 to 4 of this Article, that it is not appropriate to conclude the Rental \\nAgreement due to any of the reasons provided for in paragraph 1 of Article 8, or when the Renter has not complied with the checking and other provisions in paragraphs 1 to 4 of this Article, the cancellation of the reservation shall be deemed attributable to the Renter\\'s circumstances. In such a case, the Renter shall pay the Company the reservation cancellation fee pursuant to paragraph 4 of Article 4. If the reservation cancellation fee has been paid when a reservation fee had been paid, the Company shall reimburse the Renter the reservation fee. \\n\\n## Article 8: Refusal To Conclude A Rental Agreement\\n\\n1. \\nThe Company may refuse to conclude the Rental Agreement when any of the following items applies to the Renter or the Driver: \\n(1) \\nWhen the driver\\'s license necessary to drive the Rental Car has not been presented; \\n(2) \\nWhen deemed to be under the influence of alcohol; \\n(3) \\nWhen deemed to be intoxicated by substances such as drugs, stimulants, and thinners; \\n(4) \\nWhen traveling with a child under the age of six without a toddler seat; \\n(5) \\nWhen he or she has been determined to be a member of or involved with a crime syndicate or organization affiliated with a crime syndicate, or a member of some other antisocial organization (\"organized crime etc.\" hereinafter), or facts have been identified that show that he or she has cooperated or been involved in maintenance and management of a crime syndicate or organization affiliated with a crime syndicate or has interacted with organized crime etc; \\n(6) \\nWhen the Driver specified at the time of reservation differs from the Driver at the time of concluding the Rental Agreement; \\n(7) \\nWhen there is evidence of belated payment of debt to the Company in past rental transactions; \\n(8) \\nWhen any of the acts provided for in Article 22 were committed in past rental transactions; \\n(9) \\nWhen any of the acts provided for in paragraph 6 of Article 26 or paragraph 1 of Article 35 were committed in past rental transactions (including past transactions with other car rental companies); \\n(10) \\nWhen there is evidence that automobile insurance was not applied in past rental transactions due to a violation of the Times CAR RENTAL Terms and Conditions or insurance terms and conditions; \\n(11) \\nWhen Rental Conditions prescribed separately by the Company have not been fulfilled; or \\n(12) \\nViolation of the terms and conditions or agreements concerning services provided by a PARK24 GROUP company; suspension or cancellation of membership eligibility for use of such a service, which shall qualify as grounds for suspension or cancellation of membership eligibility under such terms and conditions or agreements. \\n(13) \\nWhen the Company deems the rental to be inappropriate. \\n2. \\nIn any of the cases provided for in the preceding paragraph, when a reservation agreement with the Renter is already in place, the cancellation of the reservation shall be deemed attributable to the Renter\\'s circumstances, and the Renter \\nshall pay the Company the reservation cancellation fee pursuant to paragraph 4 of Article 4. If the reservation cancellation fee has been paid when a reservation fee had been paid, the Company shall reimburse the Renter the reservation fee. \\n\\n## Article 9: Issuance And Carrying Of Rental Certificate, Etc.\\n\\n1. \\nWhen handing over the Rental Car to the Renter, the Company shall issue the Renter or the Driver a rental certificate that indicates items prescribed by the Director of the relevant District Transport Bureau Branch (the Director of the Hyogo Land Transport Division of the Kobe District Transport Bureau in the case of Hyogo Prefecture, or the Director of the Land Transport Office of the Okinawa General Bureau in the case of Okinawa Prefecture; the same shall apply in paragraph 2 of Article 10) . \\n2. \\nWhen using the Rental Car, the Renter or the Driver must have on hand the rental certificate received in accordance with the preceding paragraph. \\n3. \\nThe Renter or the Driver shall immediately notify the Company if the rental certificate has been lost. \\n4. \\nThe Renter or the Driver shall return to the Company the rental certificate and the Rental Car at the same time. \\n\\n## Article 10: Rental Fees\\n\\n1. \\nRental fees shall refer to the total of the following fees. The Company shall clearly state in the price list the amount, basis for calculation, and other details of each fee. \\n(1) \\nBasic fee \\n(2) \\nInsurance/compensation fee (Safety Package fee, non-operation charge, Super Safety Package fee, etc.) \\n(3) \\nAuxiliary fee (accessories/options) \\n(4) \\nOne-way (drop-off) fee \\n(5) \\nRefueling/recharging fee \\n(6) \\nMileage fee (based on the distance traveled during the rental period) \\n(7) \\nCar delivery/collection fee \\n(8) \\nOther fees \\n2. \\nThe basic fee shall be the fee in force the Company has filed with the Director of the relevant District Transport Bureau Branch at the time of concluding the Rental Agreement. \\n3. \\nIf the Company revises the rental fees after a reservation has been established pursuant to Article 2, the applicable amount is the rental fees at the time of reservation or the rental fees at the time of concluding the Rental Agreement, whichever is lower. \\n\\n## Article 11: Rental Fees Upon Changing The Rental Period\\n\\nWhen the rental period has been changed pursuant to Article 18, the Renter shall pay rental fees corresponding to the new rental period; provided, however, that when a Rental Agreement is terminated midway through the rental period due to the Renter\\'s circumstances, the Renter shall pay the termination fee provided for in paragraph 2 of Article 17 in addition to the rental fees corresponding to the period up to termination. \\n\\n## Article 12: Offsetting\\n\\nWhen the Company bears monetary obligations to the Renter pursuant to this Agreement, the Company may, at any time, offset such monetary obligations with the rental fees and other monetary obligations the Renter bears to the Company, regardless of the due date of the Renter\\'s monetary obligations. \\n\\n## Article 13: Cancellation Of The Rental Agreement\\n\\nIf the Renter or the Driver has violated these Terms of Use while using the Rental Car or meets any of the descriptions enumerated under Article 8, Paragraph 1, then the Company may, with no notice or warning, release the Rental Agreement and immediately demand the return of the Rental Car and may process settlement as described below. \\n\\n1. \\nIf the Company already has received any rental fees, then it shall refund to the Renter the balance thereof remaining after deducting the rental fees corresponding to the period from the actual handing over of the Rental Car to the Renter to the release of the Rental Agreement. \\n2. \\nIf the Renter has caused any damage to the Company as described in Article 24, Paragraphs 1 and 2, then the Company shall demand from the Renter compensation for such damage. \\n3. \\nIn a case that does not meet the descriptions of the preceding subparagraph, the Company shall demand from the Renter payment of a termination fee as described in Article 17, Paragraph 2, pursuant to the provisions of Article 17. \\n4. \\nThe Company may offset obligations under Subparagraphs (1) and (2) or Subparagraph (3) pursuant to the provisions of the preceding article. \\n\\n## Article 14: Cancellation Due To Rental Car Defects\\n\\nThe Renter may cancel the Rental Agreement when the Rental Car cannot be used due to defects that existed prior to rental by the Renter. \\n\\n## Article 15: Early Termination Of Rental Due To Force Majeure Events\\n\\n1. \\nThe Rental Agreement shall be terminated when, during the rental period, the Rental Car can no longer be used due to natural disasters or other force majeure events, accidents not attributable to the Renter, theft, malfunctions, or other reasons which cannot be attributed to the Renter. In such a case, the Company shall exempt the Renter from the rental \\nfees from the time when the Rental Car can no longer be used, in accordance with the price list prescribed separately by the Company. \\n\\n2. \\nWhen any of the circumstances provided for in the preceding paragraph has occurred, the Renter shall immediately inform the Company thereof. \\n\\n## Article 16: Early Termination Of Rental Due To Reasons Attributable To The Renter\\n\\n1. \\nIn the event that, during the rental period, the Rental Car can no longer be used due to an accident, malfunction, or other reasons attributable to the Renter or the Driver, the Renter or the Driver must immediately notify the Company of such occurrence. The Rental Agreement shall be terminated once the notification to the Company has been made. \\n2. \\nIn the event that, during the rental period, the Renter or the Driver parks on private property or other locations where parking is prohibited without permission, and the Company is required by the landowner, police, or other concerned parties to remove the Rental Car, the Company may remove or collect the Rental Car upon judging that it is difficult for the Renter or the Driver to immediately remove the Rental Car. \\n3. \\nIn the case provided for in the preceding paragraph, the Rental Agreement shall be terminated once the Company removes or recovers the Rental Car. The Company may claim from the Renter the expenses incurred, such as those \\nrequired to locate and remove or recover the Rental Car. \\n4. \\nIn the event that the Rental Agreement is terminated pursuant to Paragraph 1 or Paragraph 2 of this article, the Company shall process settlement as described below in addition to demanding payment of the costs described in the preceding paragraph. \\n(1) \\nIf the Company already has received any rental fees, then it shall refund to the Renter the balance thereof remaining after deducting the rental fees corresponding to the period from the actual handing over of the Rental Car to the Renter to the release of the Rental Agreement. \\n(2) \\nIf the Renter has caused any damage to the Company as described in Article 24, Paragraphs 1 and 2, then the Company shall demand from the Renter compensation for such damage. \\n(3) \\nIn a case that does not meet the descriptions of the preceding subparagraph, the Company shall demand from the Renter payment of a termination fee as described in Article 17, Paragraph 2, pursuant to the provisions of Article 17. \\n(4) \\nThe Company may offset obligations under Subparagraphs (1) and (2) or Subparagraph (3) pursuant to the provisions of Article 12. \\n\\n## Article 17: Early Termination Of Rental Due To The Renter\\'S Circumstances\\n\\n1. \\nThe Renter may, during the period of use of the Rental Car, terminate the Rental Agreement after obtaining the consent of the Company and paying the termination fee prescribed in the next paragraph. In such a case, the Company shall deduct the rental fees for the period from rental until the return of the Rental Car from the rental fees received and reimburse the difference to the Renter. \\n2. \\nWhen the Rental Agreement is terminated pursuant to the preceding paragraph, the Renter shall pay the Company the following termination fee. [Termination Fee] (Rental fees corresponding to the Rental Agreement period ‒ Rental fees corresponding to the period from rental until termination) x 50% \\nProvided, however, that such an appropriation shall be limited to the amount specified separately by the Company. \\n\\n## Article 18: Changes To Rental Conditions\\n\\nThe Renter must obtain prior approval from the Company when, after the establishment of the Rental Agreement, the Renter wishes to change the Rental Conditions set at the time of conclusion of the Rental Agreement. The Company shall not approve the changes if it would not be possible to rent out under such Rental Conditions. \\n\\n## Chapter 4 - Responsibilities Article 19: Regular Inspections And Maintenance\\n\\n1. \\nThe Company shall rent out a Rental Car that has undergone the regular inspections and maintenance provided for in \\nArticle 48 of the Road Transport Vehicle Act. \\n2. \\nThe Company shall take appropriate measures such as replacing parts when a Rental Car is discovered to be poorly maintained during the inspections provided for in the preceding paragraph or during the checking of the vehicle prior to rental. \\n3. \\nWhen, upon conducting the inspections provided for in paragraph 1 or checking the vehicle prior to rental, the Company deems the use of the Rental Car to be inappropriate, the reservation agreement entered into by the Renter in accordance with paragraph 5 of Article 4 shall be cancelled. The Company shall not be liable for any damage or loss incurred by the Renter following the cancellation of such reservation agreement. \\n\\n## Article 20: Daily Inspections And Maintenance\\n\\n1. \\nThe Renter shall, during the rental period, conduct the daily inspections and maintenance work prescribed in Article 47.2 of the Road Transport Vehicle Act on the Rental Car prior to use each day, including but not limited to visual and other inspections of the lamps in the lighting system, the brake system operation, and other components that should be inspected on a daily basis. \\n2. \\nThe Renter shall promptly inform the Company and follow the instructions provided in the event that abnormalities are discovered in the Rental Car upon conducting daily inspections and maintenance work. \\n\\n## Article 21: Maintenance Responsibility\\n\\n1. \\nThe Renter is obligated to exercise due diligence in the use and care of the Rental Car. \\n2. \\nThe maintenance responsibility referred to in the preceding paragraph shall begin upon the establishment of the Rental Agreement and shall cease upon the termination of the same Agreement. \\n3. \\nWhen the Renter fails to exercise the due diligence prescribed in paragraph 1 and the Rental Car has been scratched, defaced, destroyed, or damaged, he/she must immediately inform the Company thereof. \\n\\n## Article 22: Prohibited Acts\\n\\nThe Renter and the Driver shall not engage in the following acts during the rental period. \\n\\n1. \\nUsing the Rental Car for the purpose of vehicle transportation business or for other similar purposes, without obtaining the consent of the Company and the permit required by the Road Transportation Act; \\n2. \\nAllowing the use of or sub-renting the Rental Car to a party other than the Driver stated in the rental certificate prescribed in paragraph 1 of Article 7 and persons approved by the Company; performing acts which infringe on the Company\\'s rights such as pledging the Rental Car as collateral to a third party, and all other acts which impede the Company\\'s operations; \\n3. \\nCounterfeiting or defacing the Rental Car\\'s registration number plate or license plate, or changing the original state of the Rental Car such as modifying or remodeling the Rental Car; \\n4. \\nUsing the Rental Car in any kind of test or competition or using it to tow or support other vehicles without obtaining the consent of the Company; \\n5. \\nUsing the Rental Car in violation of laws and regulations, or public order and morals; \\n6. \\nEnrolling in an insurance against loss for the Rental Car without obtaining the consent of the Company; \\n7. \\nTaking the Rental Car out of Japan; \\n8. \\nIllegally parking the Rental Car; and \\n9. \\nEngaging in acts that cause significant trouble to the Company or other renters, such as smoking inside the Rental Car, leaving items in the Rental Car, and defacing the Rental Car. \\n\\n## Article 23: Refusal Of Provided Drivers\\n\\nUnless permitted by law, the Renter may not accept the services of a driver provided by the Company together with the rental of the vehicle (including referral and mediation services of drivers). \\n\\n## Article 24: Liability For Compensation\\n\\n1. \\nWhen the Rental Car cannot be used by the Company due to an accident, breakdown, or other grounds attributable to \\nthe Renter or the Driver during the rental period, the Renter shall pay the Company the fees separately prescribed by the Company as compensation for business interruption for the period the Rental Car cannot be used or the repair period. \\n2. \\nIn addition to those provided for in the preceding paragraph, the Renter shall assume liability for compensation for damages if the Renter commits acts in violation of the articles, rules, and special provisions under this Agreement, the detailed regulations stipulated in Article 42, and other terms and conditions. The Renter shall also be liable for compensation for damages when a third party or the Company has suffered damages following use of the Rental Car due to reasons attributable to the Renter. \\n3. \\nUnless due to intent or gross misconduct on the part of the Company, when damage has been incurred to the Renter due to reasons attributable to the Company upon the performance of the Rental Agreement, the Company shall be responsible for compensation resulting from breach of contract or torts, up to an amount equivalent to the rental fees in such Rental Agreement, limited to actual damages incurred under normal conditions. The Company shall not be liable for compensation for damages incurred due to exceptional circumstances or for loss of profits. \\n\\n## Article 25: Compensation\\n\\n1. \\nThe Company shall pay the Renter, within the following limits, the compensation for damages borne by the Renter as provided for in paragraph 2 of the preceding Article, in accordance with the insurance agreement concluded with regard to the Rental Car and the compensation system prescribed by the Company. \\n(1) \\nBodily Injury Compensation: No limit - One person (including compulsory automobile liability insurance) \\n(2) \\nProperty Damage Compensation: No limit - One accident Deductible: JPY 50,000 \\n(3) \\nVehicle Damage Compensation: Market value - one accident Deductible for minibuses, regular cargo trucks, or special-use vehicles: JPY 100,000 Deductible for other vehicles: JPY 50,000 \\n(4) \\nPersonal Injury Compensation: Up to JPY 30 million per person. The cost of bodily injury (including physical \\nimpairment) or death of passenger caused by an accident shall be compensated regardless of the degree of the \\ndriver\\'s responsibility for the accident. Damage amounts shall be calculated based on the insurance policy. \\n2. \\nInsurance benefits or compensation prescribed in paragraph 1 shall not be paid if exclusions in the insurance contract or the compensation system apply. \\n3. \\nThe insurance or compensation stipulated in paragraph 1 shall not be paid if the Renter or the Driver violates the detailed regulations stipulated in Article 42 of this Agreement or other terms and conditions or rules applied to the Rental Agreement. \\n4. \\nThe Renter and the Driver shall be responsible for damages not compensated for by the insurance benefit or compensation, and for damages exceeding the amount of insurance benefit or compensation paid in accordance with the provisions of paragraph 1; provided, however, that the Renter and the Driver shall be responsible for the damage exceeding the limit prescribed in special provisions, in the event that the limit provided for in paragraph 1 is changed under special provisions at the time of the conclusion of the Rental Agreement. \\n5. \\nUnless otherwise there are special provisions, the Renter and the Driver shall be responsible for damages equivalent to \\nthe deductible amount of the insurance benefit or compensation provided for in item 2 or 3 of paragraph 1. \\n\\n## Article 26: Measures In Case Of Parking Violations, Etc.\\n\\n1. \\nIf the Renter or the Driver has committed a parking violation under the Road Traffic Act with respect to the Rental Car during the rental period, the Renter shall go to the police station that has jurisdiction over the area in which the parking violation took place (hereinafter referred to as \"Jurisdictional Police Station\"), immediately pay the fine for the parking violation, and be responsible for various expenses related to the parking violation, such as those for removing, storing, and picking up the Rental Car. \\n2. \\nIn the case of the preceding paragraph, if the Company is informed of the parking violation by the police, the Company shall contact the Renter or the Driver and promptly have the Rental Car brought to the location it specifies, and provide instructions for carrying out administrative procedures, such as appearing at the Jurisdictional Police Station not later than the time of returning the Rental Car or the time indicated by the Company and paying the fine for the violation. Furthermore, at the same time, the Company shall request the Renter or the Driver to sign a document (hereinafter referred to as \"Acknowledgement Letter\") prescribed by the Company in which the Renter or the Driver attests to having appeared at a police station, the fact of a parking violation and compliance with legal measures as an offender \\nwith which the Renter or the Driver shall comply. If the Renter or the Driver does not pay the fine for the parking violation or the various expenses provided for in Paragraph 1 of this Article, the Company may not accept return of the Rental Car, even during the rental period, until the Renter completes the payment of the fine. \\n\\n3. \\nIn the case provided for in the preceding paragraph, if the Rental Car is returned after the lapse of the rental period, the Renter shall pay separate usage fees for the excess period. \\n4. \\nIf deemed necessary by the Company, the Company may submit to the police and the Public Safety Commission the Acknowledgement Letter and Rental Conditions, information of the Renter or the Driver registered with the Company, and documentation, such as data containing information, such as the license plate number of the Rental Car rented to the Renter, to which the Renter and the Driver shall consent in advance. \\n5. \\nIf the Company receives a notice of parking violation from the police or a municipal public safety commission, the Company may claim payment of a deposit equivalent to the Expenses Related to the Parking Violation defined in the following paragraph from the Renter. When the Renter pays the deposit and also pays the fine for the parking violation before the Company pays an abandonment fine provided for in the following paragraph, the Company shall reimburse the Renter for the deposit less various costs relevant to the parking violation. \\n6. \\nIf the Company receives an order to pay the abandonment fine provided for in Paragraph 4 of Article 51-4 of the Road Traffic Act and the Company remits such payment, or if the Company incurs expenses required to locate the Renter or the Driver or remove, store, or pick up the Rental Car, or if the Company is restricted from using (prohibited from driving) cars by the municipal public safety commission, the Company may demand the amount stated below from the Renter (hereinafter referred to as \"Expenses Related to the Parking Violation\"). In such a case, the Renter shall pay the Expenses Related to the Parking Violation by the deadline specified by the Company. \\n(1) \\nAmount equivalent to the abandonment parking fine; \\n(2) \\nParking violation penalty fee prescribed separately by the Company; and \\n(3) \\nExpenses required to locate, remove, store, or pick up the vehicle. \\n(4) \\nCompensation for loss of business operation due to restriction on using (prohibition of driving) cars specified separately by us. \\n7. \\nWhen the Company has received an order to pay the abandonment parking fines provided for in the preceding paragraph, or when the Renter does not pay the amount specified in the same paragraph in full by the deadline specified by the Company, the Company shall take measures such as registering the name, address, driver\\'s license number, and other information of the Renter in the All Japan Rent-a-Car Association information management system (hereinafter referred to as \"All Japan Rent-a-Car Association System\"). \\n8. \\nIf the Renter needs to pay the fine and other fees for the parking violation in accordance with the provisions of paragraph 1, and the Renter does not comply with the Company\\'s instructions to perform the procedures for the violation pursuant to paragraph 2 or the Company\\'s request to sign the Acknowledgement Letter provided for in paragraph 2, the Company may demand a parking violation fee in an amount prescribed separately (hereinafter \\nreferred to as \"Parking Violation Fee\") and appropriate such fee to the abandonment parking fine prescribed in paragraph 5 and the parking violation penalty fee. \\n\\n9. \\nNotwithstanding the provisions of paragraph 6, once the Company has received from the Renter the Parking Violation \\nFee and the full amount of the expenses provided for in item 3 of paragraph 5, the Company shall delete all data registered in the All Japan Rent-a-Car Association System provided for in paragraph 6. \\n10. If the Renter has paid the Company the amount demanded by the Company pursuant to paragraph 5, and when the \\norder to pay the abandonment parking penalty fee has been revoked due to the Renter paying the fine for the parking violation or a public action that has been filed against the Renter, and the Company receives a refund of the parking violation fine, the Company shall refund to the Renter only the amount equivalent to the parking violation fine from the \\nExpenses Related to the Parking Violation which have already been paid to the Company. The same shall apply if the \\nCompany has received the Parking Violation Fee from the Renter pursuant to paragraph 7. \\n11. If information has been registered in the All Japan Rent-a-Car Association System in accordance with the provisions of \\nparagraph 6, the Company shall delete the data registered in the System when the order to pay the abandonment parking penalty fee has been revoked due to the fine having been paid, etc., or when the amount demanded by the Company in accordance with the provisions of paragraph 5 has been paid to the Company in full. \\n12. When the Company incurs losses from a problem or accident due to illegal parking of the Rental Car (including repair \\ncosts and towing fees in case the illegally parked Rental Car has been damaged), the Renter shall be liable for compensation therefrom , and the Company shall not be liable for any damages incurred by the Renter or the Driver as a result of the said problem or accident. \\n\\n## Chapter 5 ‒ Measures For Accidents And Theft Article 27: Handling Of Accidents\\n\\n1. \\nWhen an accident involving the Rental Car occurs during the rental period, the Renter shall take measures provided for in laws and regulations and shall handle the situation in accordance with the provisions below regardless of the seriousness of the accident. \\n(1) \\nImmediately inform the Company of the details of the accident; \\n(2) \\nPromptly submit documentation or evidence required by the Company and the insurance company contracted by the Company in relation to the accident; \\n(3) \\nObtain prior approval from the Company when settling or reaching agreements with a third party in relation to the accident; and \\n(4) \\nDo not carry out repairs; the Rental Car shall be repaired by the Company. \\n2. \\nIn addition to those provided for in the preceding paragraph, the Renter shall endeavor to resolve the accident on their own responsibility. \\n3. \\nThe Company shall provide the Renter advice on handling the accident involving the Rental Car and shall cooperate to resolve the situation. \\n4. \\nNotwithstanding the provisions in item (4) of paragraph 1, if the Rental Car is equipped with a puncture repair kit or a \\nspare tire, the Renter and the Driver may repair the flat tire themselves with the same. However, the Company shall not be liable for any damage caused to the Renter or the Driver by their repairs using the puncture repair kit or spare tire for reasons not attributable to the Company. \\n\\n## Article 28: Theft\\n\\nWhen the Rental Car has been stolen during the rental period, the Renter shall take the measures prescribed below. \\n\\n1. \\nImmediately report the theft to the nearest police station; \\n2. \\nImmediately inform the Company of the state of the damage; and \\n3. \\nPromptly submit documentation and other information required by the Company and the insurance company contracted by the Company in relation to the theft. \\n\\n## Article 29: Measures For Malfunctions, Etc.\\n\\n1. \\nWhen any abnormalities or defects are discovered in the Rental Car during the rental period, the Renter shall immediately stop using it, inform the Company, and follow the Company\\'s instructions. \\n2. \\nWhen the abnormality or defect of the Rental Car is due to reasons attributable to the Renter, the Renter shall be liable for the expenses required to pick up and repair the Rental Car. In such a case, the Rental Agreement shall terminate immediately upon informing the Company, and the Renter shall pay fees equivalent to the period from the start of the rental period, which was specified at the time of reservation of the Rental Car, up to the time of informing the Company. \\n3. \\nIf the Rental Car cannot be used due to defects that existed prior to rental, the Company shall not demand rental fees. \\n4. \\nIf the Rental Car can no longer be used due to malfunctions which have arisen despite the Company conducting regular inspections and maintenance work prescribed in Article 19, the Renter shall not hold the Company liable for any damages incurred as a result of such malfunctions. \\n\\n## Article 30: Exemptions Due To Force Majeure Events\\n\\n1. \\nIf the Renter is unable to return the Rental Car by the end of the rental period due to natural disasters, accidents, theft, or other force majeure events which cannot be attributed to the Renter, the Company shall not hold the Renter liable for any damages incurred as a result thereof. In such a case, the Renter shall immediately inform the Company and follow the Company\\'s instructions. \\n2. \\nIf the Company is unable to rent out a Rental Car due to natural disasters, accidents, theft, vehicle malfunctions or defects, delayed return by other renters, malfunctions in telecommunications operations such as landline phones, mobile phones, or internet connections, malfunctions or bugs in the system used to run the Company\\'s Rental Car operations, or other force majeure events which cannot be attributed to the Company, the Company shall not be liable for compensation for damages suffered by the Renter as a result thereof. \\n\\n## Chapter 6 - Return Article 31: Responsibility To Return The Rental Car\\n\\n1. \\nThe Renter or the Driver shall return the Rental Car to the Company at the specified return location by the end of the rental period. \\n2. \\nWhen the Renter or the Driver has violated the preceding paragraph, the Renter shall pay compensation for all damages incurred by the Company, in addition to paying the surcharge prescribed in the following paragraph. \\n3. \\nWhen the return time specified at the time of concluding the Rental Agreement has passed, the Renter shall pay the \\nsurcharge prescribed separately by the Company; provided, however, that this shall not apply when extension \\nprocedures have been undertaken prior to the expiration of the rental period. \\n\\n## Article 32: Checks Upon Return, Etc.\\n\\n1. \\nThe Renter or the Driver shall return the Rental Car in the same condition as at the time of commencement of the rental to the location specified in the Rental Agreement in the presence of the Company. Except in cases of deterioration due to normal daily use, the Renter shall be liable for the expenses required to restore the Rental Car to the same condition as at the time of commencement of the rental if the Rental Car has been defaced, damaged, fixtures have been lost, or offensive smells remain (as a result of smoking or other possible causes), etc. for reasons attributable to the Renter or the Driver. \\n2. \\nIn addition to those provided for in the preceding paragraph, when returning the Rental Car, the Renter shall promptly inform the Company of any abnormalities discovered in the Rental Car. \\n3. \\nWhen returning the Rental Car, the Renter shall, at his/her own responsibility, confirm that there are no items left behind (hereinafter referred to as \"Items Left Behind\") in the Rental Car that belong to the Renter or passengers. The \\nCompany shall not be liable for any Items Left Behind after the return of the Rental Car. \\n4. \\nIf there are any outstanding rental or other fees, the Renter must complete its payment by the time the Rental Car is returned. \\n5. \\nIn addition to those provided for in the preceding paragraph, when the Rental Car is returned and the tank is not filled with fuel such as gasoline or diesel (in other words, does not have a\" full tank\"), the Renter shall immediately pay the Company a refueling fee calculated according to the conversion table prescribed by the Company in accordance with the distance traveled. \\n\\n## Article 33: Handling Of Items Left Behind\\n\\n1. \\nThe Renter shall be responsible for confirming that there are no Items Left Behind in the Rental Car when returning the Rental Car. \\n2. \\nThe Company shall not be obligated to check for any Items Left Behind in the Rental Car and shall not be in any way liable for compensation for damages incurred by the Renter, passengers, or other third parties as a result of Items Left Behind. \\n3. \\nWhen Items Left Behind are recovered from the Rental Car, the Company shall handle the items in accordance with the following items; provided, however, that Items Left Behind that have no property value and are difficult to store on a continuous basis may be disposed of immediately and not in accordance with the following items. \\n(1) \\nItems Left Behind that have no property value, or items which are in danger of spoiling, are dangerous, or are difficult to be stored on a continuous basis, shall be stored for three (3) days including the day the items have been recovered, and shall be disposed of if their owner does not apply to collect them during such period. \\n(2) \\nDriver\\'s licenses, passports, credit cards (including ETC cards; the same shall apply hereinafter), coins, banknotes, documentary stamps, postage stamps, securities, tradable coupons, precious metals, mobile phones, and precious stones shall be formally handed over as lost property to the police station with jurisdiction; provided, however, that when they are not accepted by the police, the items shall be stored for three (3) months from the day the items have been recovered; and if the name and address of the owner are identified during such period, then such owner (issuing company in the case of credit cards) shall be notified to collect the items. Such items shall be disposed of when, during the three (3) months from the day on which the items have been recovered, the name and address of the owner are not identified or the owner has not applied to collect the items. \\n(3) \\nGuns, swords, drugs, or other items for which ownership is prohibited by law shall immediately be formally handed over to the police station with jurisdiction. \\n(4) \\nItems Left Behind that do not fall under any of (1) to (3) above shall be stored for one (1) month from the day the items are recovered and shall be disposed of if the owner has not applied to collect the items during such period. \\n4. \\nWhen returning Items Left Behind to the Renter, the Company shall hand over the Items Left Behind to the Renter at \\nthe location specified by the Company or send by post such items to the Renter by cash on delivery. \\n\\n## Article 34: Return Location, Etc.\\n\\n1. \\nWhen the Renter or the Driver has changed the return location specified in accordance with Article 18, the Renter shall bear the expenses required to transfer the Rental Car following the change of location. \\n2. \\nWhen the Renter or the Driver has returned the Rental Car to a location other than the location specified without obtaining the consent of the Company in accordance with Article 18, the Renter shall pay the return location change penalty fee prescribed below. \\n[Return Location Change Penalty Fee] Amount equivalent to the actual cost and damage incurred by the Company, including the costs necessary to transfer the Rental Car following the change of return location. \\n\\n## Article 35: Measures For When The Rental Car Is Not Returned\\n\\n1. \\nWhen the Renter does not return the Rental Car within 12 hours after the expiration of the rental period and does not respond to the Company\\'s demands for its return, or when the Rental Car is considered to have been stolen such as when the whereabouts of the Renter are unknown, the Company, in addition to taking legal action such as criminal \\nprosecution, and taking measures such as reporting the matter of the stolen vehicle to the All Japan Rent-a-Car Association, shall report the damage caused by the unreturned vehicle to the All Japan Rent-a-Car Association and take measures such as registration of details in the All Japan Rent-a-Car Association System, etc. \\n\\n2. \\nIn the case of the preceding paragraph, the Company shall locate the Rental Car using all available methods. \\n3. \\nIn the case of paragraph 1 of this Article, the Renter shall bear the expenses required to recover the Rental Car and to locate the Renter, in addition to being liable for compensation for damages suffered by the Company in accordance with the provisions of Article 24. \\n\\n## Chapter 7 ‒ Miscellaneous Provisions Article 36: Purposes Of Handling Of Personal Information\\n\\n1. \\nThe Company shall use the Renter\\'s or the Driver\\'s personal information acquired from the Renter and information obtained from use of the Service by the Renter or the Driver (hereinafter referred to as \"Usage Information\") for the purposes provided in the following items. Except for reasons authorized by the Personal Information Protection Act and other laws and regulations, personal information shall not be used in excess of this scope. \\n(1) \\nFor examination when concluding the Rental Agreement, identification, automatic indication of the information of the Renter or the Driver in displays of various applications, provision of reservation and rental services, issuance of rental certificate, settlement of rental fees, record management of vehicle rentals, grant of benefits, and implementation of other transactions (However, when a joint user handles information on the Renter or the Driver for the joint use of information as described in in Paragraph 3, this refers to use within the scope necessary for the content of the contract with the Renter or the Driver and execution thereof); \\n(2) \\nFor verification and judgment of membership qualification for the services offered by the PARK24 GROUP and provision propriety of other services; \\n(3) \\nFor advertising products, services, privileges, and other information handled by the PARK24 GROUP and its business partners (direct mail, mail magazines, customer support, etc.); \\n(4) \\nFor marketing activities for the products and services handled by the PARK24 GROUP and its business partners (questionnaire surveys, promotions, sending of presents, purchase analysis, etc.); and \\n(5) \\nFor the execution of other work incidental or relating to the above. \\n2. \\nThe Company shall not provide personal information that it has collected to any third party, except in the following cases: \\n(1) \\nWhen the individual concerned by the personal information (i.e., the Renter or the Driver) has consented to such provision \\n(2) \\nWhen required under laws or regulations \\n(3) \\nWhen necessary to protect human life, health, or property, and it would be difficult to obtain the consent of the individual concerned \\n(4) \\nWhen it is necessary to cooperate in the performance, by a national or local government agency or a party \\nentrusted with authority by such an agency, of activities prescribed by laws or regulations, and obtaining the consent of the individual concerned could impede the execution of such activities \\n(5) \\nWhen entrusting such information to third parties within the scope necessary to achieve the purposes of use \\n(6) \\nIn cases involving succession of business due to a merger or other reason \\n(7) \\nIn the cases described under Paragraphs 3 to 7 \\n3. \\nThe Company may engage in joint use of personal information and Usage Information provided to it, as follows. \\n(1) \\nPersonal information for joint use \\nName, date of birth, gender, occupation, nationality, address, telephone number, email address, vehicle model, vehicle registration number, driver\\'s license information, credit card information (hereinafter, this includes the cardholder name, card number, expiration date, and usage history), camera images (taken by onboard cameras, such as dash cams, cameras installed in parking facilities), service usage history, and other items necessary to achieve the purposes of use. \\n\\n(2) \\nRange of joint use PARK24 GROUP Companies (Please refer to the following website) \\nhttps://www.park24.co.jp/en/company/about/group.html Not including overseas companies \\n\\n(3) \\nPurpose of joint use \\nSame as the purposes in (1) to (4) of Paragraph 1 of this article, and for execution of operations attendant and related thereto (however, for the purposes under (1), this refers to use within the scope necessary for the content of the contract with the Renter or the Driver [including the Terms of Use of other services provided by the Company] and execution thereof) \\n\\n(4) \\nName of party responsible for the management of personal information for joint use The Company \\n(5) \\nAcquisition method \\nVerbal communication (including telephones), web forms, contracts, application forms, questionnaires, and other written communication methods (including records created through electromagnetic or other means) User information also will be acquired and collected through the relevant joint user when the Renter or the Driver uses a service provided by a joint user. \\n\\n4. \\nThe Company may handle user information by providing it to and sharing it with franchisees who have entered into franchise agreements with the Company. However, such franchisees may handle user information within the scope necessary to achieve the purposes of use under Paragraph 1 only when the Renter or the Driver receives provision of a service related to these Terms of Use. \\n5. \\nThe Company may handle user information by providing it to and sharing it with its partners in Japan and overseas (only when an application for a rental car reservation has been made via such partners). However, such partners may handle user information within the scope necessary to achieve the purposes of use under Paragraph 1 (1) and (2) only when the Renter or the Driver receives provision of a service related to these Terms of Use. \\n6. \\nIf any of the following items apply, the Renter or the Driver shall agree that personal information, including the name, date of birth, driver\\'s license number, and other information of the Renter or the Driver shall be registered for a period not exceeding seven (7) years in the All Japan Rent-a-Car Association System, and that such personal information shall be used in investigations by the All Japan Rent-a-Car Association and its various affiliated regional car rental associations, as well as car rental operators who are members of such associations, when entering into rental agreements. \\n(1) \\nWhen the Company has been ordered to pay the abandonment fine provided in Article 51-4 (1) of the Road Traffic Act; \\n(2) \\nWhen the full amount of expenses for parking violations provided for in paragraph 5 of Article 26 has not been paid to the Company; or \\n(3) \\n When the vehicle is deemed to be unreturned as provided for in paragraph 1 of Article 35. \\n7. \\nInformation (hereinafter referred to as \"Usage Information\") acquired through the Renter\\'s use of the Company\\'s services, including the information indicated below, may be used continuously by the Company or provided to the parties below for the following purposes. In providing information, the Company shall implement data anonymization so that specific individuals cannot be identified from the Usage Information. \\n(1) \\nPrimary Usage Information \\nRental information (vehicle model, date and time, station, mileage, fees, bonuses, promotions, compensation package, options, liabilities from accidents, etc.), information on reservations (method, date and time, changes, cancellations, etc.), Rental Car\\'s GPS device, dash cam, recorded information of devices installed in the vehicle, etc. \\n\\n(2) \\nPurpose of use \\nTo improve and enhance the Company\\'s services, as well as the products and services offered by the PARK24 GROUP and its business partners To consider and implement new services of the PARK24 GROUP and its business partners, as well as to establish and maintain infrastructure, and to organize and implement safety management \\n\\n(3) \\nReceiving parties \\nPARK24 GROUP, PARK24 GROUP business partners, research institution \\n\\n(4) \\nMeans of provision \\nSending or transmission by written, electromagnetic, or verbal communication methods (including telephones) \\n\\n8. \\nIn addition to those provided for in this Article, the Company\\'s initiatives for protecting personal information shall be in accordance with the Privacy Policy and the policy for Handling of Personal Information published on the Company\\'s \\nhome page. Privacy Policy Handling of Personal Information \\n\\n## Article 37: Gps Function\\n\\n1. \\nThe Renter and the Driver shall unconditionally agree that when the Rental Car is equipped with a Global Positioning System (hereinafter referred to as \"GPS Function\"), the Rental Car\\'s real-time location, navigation route, and other information are recorded in the system designated by the Company, and that the Company shall use such records (including Usage Information) in the following cases. \\n(1) \\nTo confirm whether the Rental Car has been returned to the designated place at the end of the Rental Agreement; \\n(2) \\nCases falling under paragraph 1 of Article 35; cases where the Company judges that it needs to determine the real-time position, navigation route, and other information of the Rental Car with the GPS Function in order to take responsibility for the Rental Car, Rental Agreement, etc.; and \\n(3) \\nCases where the Company shall use the records for marketing analysis in order to increase the satisfaction of renters, drivers, and other customers, such as for the improvement of commodities and services provided to renters and drivers. \\n2. \\nInformation recorded with the GPS device may be disclosed to third parties in the following cases: \\n(1) \\nWhen it is deemed necessary to resolve an accident or other problems involving our services or the rented vehicle. (Recipients: The partner insurance company of the Company and the people involved in the accident or problem) \\n(2) \\nCases falling under Paragraph 2 of Article 36 \\n3. \\nInformation recorded with the GPS shall be saved for a certain period of time (roughly seven years after it was \\nobtained) and then promptly deleted after the end of that period. \\n\\n## Article 38: Dash Cam\\n\\n1. \\nThe Renter and the Driver shall unconditionally agree that when the Rental Car is equipped with a dash cam, the driving conditions of the Renter or the Driver are recorded, and that the Company shall use such records (including Usage Information) in the following cases. \\n(1) \\nCases where the Company judges that it needs to determine the driving conditions of the Renter or the Driver in order to take responsibility for the Rental Car and the Lease Agreement; and \\n(2) \\nCases where the Company shall use the records for marketing analysis in order to increase the satisfaction of renters, drivers, and other customers, such as for improvement of commodities and services provided to renters and drivers. \\n2. \\nInformation recorded with the dash cam may be disclosed to third parties in the following cases: \\n(1) \\nWhen it is deemed necessary to resolve an accident or other problems involving our services or the rented vehicle (Recipients: The partner insurance company of the Company and the people involved in the accident or problem). \\n(2) \\nCases falling under Paragraph 2 of Article 36 \\n3. \\nInformation recorded with the dash cam shall be saved for a certain period of time (roughly three months after it was obtained) and then promptly deleted after the end of that period. \\n\\n## Article 39: Late Payment Charges\\n\\nIn the event that rental fees or other monetary obligations are not paid when the payment due date has already passed, the Renter shall immediately pay the rental fees and other unpaid amounts together with a late payment charge of 14.6% per annum for the number of days from the day immediately following the payment due date until the day on which payment is made. \\n\\n## Article 40: Rental Suspension\\n\\n1. \\nThe Company shall reserve the right to temporarily suspend the rental without any prior notification to the Renter for the following reasons. \\n(1) \\nEmergency maintenance of the Rental Car, communication network, system, software programs, and other items relating to the rental \\n(2) \\nFire, power outage, natural disasters such as earthquake, volcanic eruption, flood, tsunami, or telecommunication problems or system errors. \\n(3) \\nWarfare, disturbances, riots, civil commotions or strikes \\n(4) \\nSystem overload or when the Company judges that a security vulnerability exists \\n(5) \\nWhen the Company deems that the temporary suspension of the rental is necessary for other operational and technical reasons \\n2. \\nThe Company shall not be liable for any losses incurred by the Renter from the delay or suspension of the rental due to the aforementioned reasons. \\n\\n## Article 41: (Change Of Communication Network, System, Software, And Other Items, And Exemption From Liability)\\n\\n1. \\nThe Company shall reserve the right to fix, update, or suspend the operations of the communication network, system, software, and other items relating to the rental, without giving notification or obtaining the consent of the Renter. The Company shall not be liable for any losses incurred by the Renter due to the aforementioned reasons. \\n2. \\nThe Company shall not guarantee that emails and contents sent from the website, server, domain, and similar sources do not contain computer virus or other malware, except in cases attributable to the Company. \\n\\n## Article 42: Acquisition Of Information On Cars By The Automobile Manufacturer Or Others\\n\\nThe Renter or the driver shall accept without objection that manufacturers or others may acquire information on cars as specified below since some of our Rental Cars are equipped with car navigation systems or other in-vehicle equipment of automobile manufacturers, automobile retail companies, or business associates of automobile manufacturers (hereinafter collectively \"Automobile Manufacturers\"). \\n\\n(1) Primary information on cars  \\nInformation on hours, mileage, and speed of driving, conditions, and location of cars \\n\\n(2) Purpose of use  \\nPurposes of use of information shall comply with those prescribed by the Automobile Manufacturers, including purposes to confirm situations in the event of emergency, develop merchandise to be provided by Automobile Manufacturers, control safety, or improve services \\n\\n(3) Acquirer and responsible person of information on cars under this article  \\nAutomobile Manufacturers \\n\\n(4) Retention period  \\nRetention period shall comply with the period prescribed by the Automobile Manufacturers. \\n\\n## Article 43: Detailed Regulations\\n\\n1. \\nThe Company may separately prescribe detailed regulations for this Agreement, and such detailed regulations shall have the same force and effect as this Agreement. \\n2. \\nWhen detailed regulations have been prescribed separately, the Company shall display such regulations in the Company\\'s sale offices and include them in its website, price lists, and other materials. The same shall apply when detailed regulations are changed. \\n\\n## Article 44: Amendment Of Terms & Conditions\\n\\n1. \\nThe Company may modify this Agreement and other Terms & Conditions without the prior consent of the Renter by the \\nmethods provided for in the following paragraph. \\n2. \\nModification of this Agreement and other Terms & Conditions shall be made by posting the modifications on our homepage set forth in Paragraph 8 of Article 36 or by notifying the Renter in the appropriate way in light of the modifications. \\n3. \\nModification of this Agreement and other Terms & Conditions made pursuant to the preceding paragraph shall become effective on the effective date posted on our homepage or specified in the appropriate way of notice mentioned in the preceding paragraph. \\n\\n## Article 45: Court Of Competent Jurisdiction\\n\\nWhen a dispute concerning rights and obligations based on this Agreement and the Rental Agreement arises, the court of first instance with exclusive competent jurisdiction shall be the Tokyo Summary Court or the Tokyo District Court, depending on the amount being claimed, unless otherwise agreed by both parties. \\n\\n## Special Provisions For Rental Of Plug-In Hybrid Vehicles And Electric Vehicles\\n\\n1. \\nIf the Rental Car is a plug-in hybrid vehicle or electric vehicle (hereinafter collectively referred to as \"Electric Vehicles\"), the Renter and the Driver shall follow the vehicle\\'s user manual and other detailed regulations regarding use of the said Electric Vehicles and their chargers (hereinafter referred to as \"Chargers\"), which are prescribed separately by the Company. \\n2. \\nThe Renter and the Driver shall agree beforehand that the Electric Vehicle is not necessarily fully charged at the time of rental; and in such a case, the Renter and the Driver shall charge it at their own expense, and the time required for charging shall be included in the chargeable time. \\n3. \\nIf the Charger has been lost, damaged, or stained for reasons attributable to the Renter or the Driver, the Renter and the Driver shall compensate for the damage caused to the Company. \\n4. \\nThe Company shall not assume responsibilities for accidents, problems, and other issues due to reasons attributable to the Renter or the Driver, such as incorrect handling of the Electric Vehicle or Charger or negligence. \\n5. \\nWhen returning the Electric Vehicle, the Renter and the Driver shall follow the provisions in Article 32 and Article 34 of the Times CAR RENTAL Terms and Conditions and connect the charging cable of the Charger to the charging equipment of the Electric Vehicle. If the Renter or the Driver returns the Electric Vehicle without connecting the charging cable of the Charger to the Electric Vehicle, the Renter and the Driver shall be pay for the required fees and damages in case a subsequent rental problem occurs. \\n6. \\nThe Renter and the Driver shall be aware that mileage varies depending on the way of driving, driving conditions, and the usage of equipment that require electric power, such as the air conditioner and the car navigation system. The Renter and the Driver shall charge the Electric Vehicle at his/her own responsibility and expense. \\n7. \\nIf the Electric Vehicle cannot be used due to undercharge, the Company shall not be held liable, and the Renter and the Driver shall bear the towing fees and all expenses required to return the Electric Vehicle to the designated place. \\n\\n## Special Provisions For The ピッとGo Service\\n\\n1. \\nThe Special Provisions herein shall apply to users of the ピッとGo service who are renters based on this Agreement. \\n2. \\nThe ピッとGo service (hereinafter referred to as \"Service\") refers to the service where the driver\\'s license of a member is registered upon using a service (hereinafter referred to as \"Target Service\") among the respective services operated by the companies of the PARK24 GROUP (https://www.park24.co.jp/en/company/about/group.html).It allows members to carry out the procedures for rental and return of a Rental Car of the Company using the Target Service membership card. \\n3. \\nIn case the Renter uses the Service, notwithstanding the provisions in paragraph 1 of Article 7 of the Times CAR RENTAL Terms and Conditions, the Company shall check the driver\\'s license of the Renter or the Driver by requesting the Renter or the Driver to present their driver\\'s license and submit a copy thereof, or by verifying the information pertaining to the driver\\'s license of the Renter or the Driver as registered in the Target Service. The rental certificate stipulated in Article 9 of the Times CAR RENTAL Terms and Conditions shall be issued online. \\n4. \\nWhen using the Service, the Renter and the Driver may, notwithstanding the provisions in paragraph 1 of Article 32 of the Times CAR RENTAL Terms and Conditions, return the Rental Car even without the presence of our Company, provided that the Company has given its consent. \\n Supplementary Provision: This Agreement shall take effect starting April 1, 2020. '"
            ]
          },
          "execution_count": 4,
          "metadata": {},
          "output_type": "execute_result"
        }
      ],
      "source": [
        "from indexify_extractor_sdk import load_extractor, Content\n",
        "\n",
        "mdextractor, mdconfig_cls = load_extractor(\"markdown.markdown_extractor:MarkdownExtractor\")\n",
        "content = Content.from_file(\"en_agreement_200401.pdf\")\n",
        "\n",
        "md_result = mdextractor.extract(content)\n",
        "text_content = next(content.data.decode('utf-8') for content in md_result)\n",
        "text_content"
      ]
    },
    {
      "cell_type": "markdown",
      "metadata": {
        "id": "sTIlKuPp6wxg"
      },
      "source": [
        "### Create Extraction Policies\n",
        "Instantiate the Indexify Client"
      ]
    },
    {
      "cell_type": "code",
      "execution_count": null,
      "metadata": {
        "id": "HZNysNl-631k"
      },
      "outputs": [],
      "source": [
        "from indexify import IndexifyClient\n",
        "client = IndexifyClient()"
      ]
    },
    {
      "cell_type": "markdown",
      "metadata": {
        "id": "GQr1749x6_CW"
      },
      "source": [
        "First, create a policy to get texts and contents out of the Rental PDF."
      ]
    },
    {
      "cell_type": "code",
      "execution_count": null,
      "metadata": {
        "id": "uff8cBlq7Mrv"
      },
      "outputs": [],
      "source": [
        "client.add_extraction_policy(extractor='tensorlake/markdown-extractor', name=\"md-extraction\")"
      ]
    },
    {
      "cell_type": "markdown",
      "metadata": {
        "id": "JunwusCA7ZA5"
      },
      "source": [
        "Second, from the texts and contents create an embedding based index."
      ]
    },
    {
      "cell_type": "code",
      "execution_count": null,
      "metadata": {},
      "outputs": [],
      "source": [
        "client.add_extraction_policy(extractor='tensorlake/chunk-extractor', name=\"chunks\", content_source=\"pdf-extraction\", input_params={\"chunk_size\": 512, \"overlap\": 150})"
      ]
    },
    {
      "cell_type": "code",
      "execution_count": null,
      "metadata": {
        "id": "v8jQ3zcJ7htj"
      },
      "outputs": [],
      "source": [
        "client.add_extraction_policy(extractor='tensorlake/minilm-l6', name=\"get-embeddings\", content_source=\"chunks\")"
      ]
    },
    {
      "cell_type": "markdown",
      "metadata": {
        "id": "ZGqpkx3P7gsh"
      },
      "source": [
        "### Upload a Rental PDF File"
      ]
    },
    {
      "cell_type": "code",
      "execution_count": null,
      "metadata": {
        "id": "ETideBqK8GGp"
      },
      "outputs": [],
      "source": [
        "client.upload_file(path=\"en_agreement_200401.pdf\")"
      ]
    },
    {
      "cell_type": "markdown",
      "metadata": {
        "id": "I2WDexIU8LFy"
      },
      "source": [
        "### What is happening behind the scenes\n",
        "\n",
        "Indexify is designed to seamlessly respond to ingestion events by assessing all existing policies and triggering the necessary extractors for extraction. Once the PDF extractor completes the process of extracting texts, bytes, and JSONs from the document, it automatically initiates the embedding extractor to chunk the content, extract embeddings, and populate an index.\n",
        "\n",
        "With Indexify, you have the ability to upload hundreds of Rental PDF files simultaneously, and the platform will efficiently handle the extraction and indexing of the contents without requiring manual intervention. To expedite the extraction process, you can deploy multiple instances of the extractors, and Indexify's built-in scheduler will transparently distribute the workload among them, ensuring optimal performance and efficiency."
      ]
    },
    {
      "cell_type": "markdown",
      "metadata": {
        "id": "B6SQ0xDt9a_9"
      },
      "source": [
        "### Perform RAG\n",
        "Initialize the Langchain Retriever."
      ]
    },
    {
      "cell_type": "code",
      "execution_count": null,
      "metadata": {
        "id": "2raD6aeB9Th1"
      },
      "outputs": [],
      "source": [
        "from indexify_langchain import IndexifyRetriever\n",
        "params = {\"name\": \"get-embeddings.embedding\", \"top_k\": 3}\n",
        "retriever = IndexifyRetriever(client=client, params=params)"
      ]
    },
    {
      "cell_type": "markdown",
      "metadata": {
        "id": "K8Q1ulDM9u-e"
      },
      "source": [
        "Now create a chain to prompt OpenAI with data retrieved from Indexify to create a simple Q&A bot"
      ]
    },
    {
      "cell_type": "code",
      "execution_count": null,
      "metadata": {
        "id": "8FUO8cLA9unF"
      },
      "outputs": [],
      "source": [
        "from langchain_core.output_parsers import StrOutputParser\n",
        "from langchain_core.prompts import ChatPromptTemplate\n",
        "from langchain_core.runnables import RunnablePassthrough\n",
        "from langchain_openai import ChatOpenAI"
      ]
    },
    {
      "cell_type": "code",
      "execution_count": null,
      "metadata": {
        "id": "yfgv3imm9ZPG"
      },
      "outputs": [],
      "source": [
        "template = \"\"\"Answer the question based only on the following context:\n",
        "{context}\n",
        "\n",
        "Question: {question}\n",
        "\"\"\"\n",
        "prompt = ChatPromptTemplate.from_template(template)\n",
        "\n",
        "model = ChatOpenAI()\n",
        "\n",
        "chain = (\n",
        "    {\"context\": retriever, \"question\": RunnablePassthrough()}\n",
        "    | prompt\n",
        "    | model\n",
        "    | StrOutputParser()\n",
        ")"
      ]
    },
    {
      "cell_type": "markdown",
      "metadata": {
        "id": "ckexWnEe-B3c"
      },
      "source": [
        "Now ask any question related to the ingested Rental PDF document"
      ]
    },
    {
      "cell_type": "code",
      "execution_count": null,
      "metadata": {
        "id": "cSc4uBLA-IEB"
      },
      "outputs": [],
      "source": [
        "chain.invoke(\"Who will be responsible for damages not compensated by the insurance?\")\n",
        "# The Renter and the Driver shall be responsible for damages not compensated for by the insurance benefit or compensation."
      ]
    }
  ],
  "metadata": {
    "colab": {
      "provenance": []
    },
    "kernelspec": {
      "display_name": "Python 3",
      "name": "python3"
    },
    "language_info": {
      "codemirror_mode": {
        "name": "ipython",
        "version": 3
      },
      "file_extension": ".py",
      "mimetype": "text/x-python",
      "name": "python",
      "nbconvert_exporter": "python",
      "pygments_lexer": "ipython3",
      "version": "3.10.14"
    }
  },
  "nbformat": 4,
  "nbformat_minor": 0
}
