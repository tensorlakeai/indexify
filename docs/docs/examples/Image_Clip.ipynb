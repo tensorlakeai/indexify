{
 "cells": [
  {
   "cell_type": "code",
   "execution_count": 11,
   "id": "2b6dc1c3-90af-4f53-93a5-07ffb3957ce1",
   "metadata": {},
   "outputs": [],
   "source": [
    "from indexify import IndexifyClient\n",
    "client = IndexifyClient()"
   ]
  },
  {
   "cell_type": "code",
   "execution_count": 22,
   "id": "a8197d2c-144b-4932-8c93-ae4233ce8e65",
   "metadata": {},
   "outputs": [
    {
     "data": {
      "text/plain": [
       "{'content_id': 'j7HyAjec5rtcPZJr'}"
      ]
     },
     "execution_count": 22,
     "metadata": {},
     "output_type": "execute_result"
    }
   ],
   "source": [
    "file_names=[\"skate.jpg\", \"congestion.jpg\", \"bushwick-bred.jpg\", \"141900.jpg\", \"132500.jpg\", \"123801.jpg\",\"120701.jpg\", \"103701.jpg\"]\n",
    "file_urls = [f\"https://extractor-files.diptanu-6d5.workers.dev/images/{file_name}\" for file_name in file_names]\n",
    "for file_url in file_urls:\n",
    "    client.ingest_remote_file(file_url, \"image/png\", {})"
   ]
  },
  {
   "cell_type": "code",
   "execution_count": 19,
   "id": "e6c146f9-6863-406f-ac26-70866cc661fb",
   "metadata": {},
   "outputs": [],
   "source": [
    "client.add_extraction_policy(extractor='tensorlake/clip-extractor', name=\"clip_embedding\")"
   ]
  },
  {
   "cell_type": "code",
   "execution_count": 27,
   "id": "421ce243-03d5-48b6-9214-4238cef63144",
   "metadata": {},
   "outputs": [
    {
     "data": {
      "text/plain": [
       "[{'content_id': 'j7HyAjec5rtcPZJr',\n",
       "  'text': '',\n",
       "  'mime_type': 'image/png',\n",
       "  'confidence_score': 167.11382,\n",
       "  'labels': {}},\n",
       " {'content_id': '67361eab2b38f7ac',\n",
       "  'text': '',\n",
       "  'mime_type': 'image/jpeg',\n",
       "  'confidence_score': 196.61049,\n",
       "  'labels': {}}]"
      ]
     },
     "execution_count": 27,
     "metadata": {},
     "output_type": "execute_result"
    }
   ],
   "source": [
    "client.search_index(name=\"clip_embedding.embedding\", query=\"skateboard\", top_k=2)"
   ]
  },
  {
   "cell_type": "code",
   "execution_count": 29,
   "id": "7b000da2-1aa6-4b3d-b381-6847ede4dcce",
   "metadata": {},
   "outputs": [
    {
     "data": {
      "text/plain": [
       "[{'name': 'clip_embedding.embedding',\n",
       "  'embedding_schema': {'dim': 512, 'distance': 'cosine'}}]"
      ]
     },
     "execution_count": 29,
     "metadata": {},
     "output_type": "execute_result"
    }
   ],
   "source": [
    "client.indexes()"
   ]
  },
  {
   "cell_type": "code",
   "execution_count": null,
   "id": "559cca5d-d8d5-4960-b694-2ac877aba485",
   "metadata": {},
   "outputs": [],
   "source": []
  }
 ],
 "metadata": {
  "kernelspec": {
   "display_name": "Python 3 (ipykernel)",
   "language": "python",
   "name": "python3"
  },
  "language_info": {
   "codemirror_mode": {
    "name": "ipython",
    "version": 3
   },
   "file_extension": ".py",
   "mimetype": "text/x-python",
   "name": "python",
   "nbconvert_exporter": "python",
   "pygments_lexer": "ipython3",
   "version": "3.12.1"
  }
 },
 "nbformat": 4,
 "nbformat_minor": 5
}
