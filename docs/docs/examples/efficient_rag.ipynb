{
 "cells": [
  {
   "cell_type": "markdown",
   "metadata": {},
   "source": [
    "# Efficient and supercharged RAG for mixed context texts with Indexify's framework, Gemini's 1M context & Arctic's embeddings\n",
    "\n",
    "<div class=\"align-center\">\n",
    "  <a href=\"https://getindexify.ai/\"><img src=\"https://getindexify.ai/Indexify_Logo_Wordmark.svg\" width=\"145\"></a>\n",
    "  <a href=\"https://discord.com/invite/kF8UZACA7r\"><img src=\"https://raw.githubusercontent.com/rishiraj/random/main/Discord%20button.png\" width=\"145\"></a><br>\n",
    "  Join Discord if you need help + ⭐ <i>Star us on <a href=\"https://github.com/tensorlakeai/indexify\">Github</a></i> ⭐\n",
    "</div>\n",
    "\n",
    "## Introduction\n",
    "\n",
    "Retrieval-augmented generation (RAG) systems have emerged as a groundbreaking approach in natural language processing, enabling the generation of accurate and contextually relevant responses by leveraging external knowledge. These systems have the potential to revolutionize various applications, from question answering and content generation to dialogue systems and beyond. However, despite their immense promise, modern RAG systems face a significant challenge when it comes to efficiently processing large mixed context texts.\n",
    "\n",
    "In this blog post, we delve into the intricacies of this problem and explore how Indexify, an Open Source data framework, has developed an innovative pipeline to overcome these limitations. We will discuss the challenges posed by mixed context texts, the shortcomings of existing chunking algorithms, and how Indexify's solution combines advanced data extraction, intelligent text restructuring, enhanced chunking, and state-of-the-art embedding creation to deliver highly efficient and accurate RAG systems.\n",
    "\n",
    "## The Complexity of Mixed Context Texts\n",
    "\n",
    "Mixed context texts, such as research papers, technical documents, or even web pages, often contain a diverse range of information spanning multiple domains. For instance, a single document might include random sentences from physics, chemistry, biology, and computer science, scattered throughout its content. This heterogeneous nature of the text poses a significant challenge for RAG systems, which rely on identifying and retrieving relevant information to generate accurate responses.\n",
    "\n",
    "When a user asks a question related to a specific topic, such as the various systems of the human body, RAG systems need to efficiently locate and extract the relevant information from the mixed context text. However, popular chunking algorithms, like LangChain's RecursiveCharacterTextSplitter, struggle to handle such texts effectively.\n",
    "\n",
    "These algorithms typically create chunks based on a fixed number of characters or tokens, without considering the semantic coherence of the sentences within each chunk. As a result, the generated chunks often contain a lot of unnecessary information from unrelated domains, as sentences from different topics are placed together haphazardly. This leads to a waste of precious tokens when these chunks are passed to subsequent API calls to Large Language Models (LLMs), which are often limited in their context length.\n",
    "\n",
    "Moreover, if the mixed context text mentions four different systems of the human body at different places, a similarity search with a top-k value of 2 would fetch at most two relevant chunks. This limitation sacrifices the quality of the produced output when these chunks are passed as context to an LLM in subsequent API calls, as the model may not have access to all the necessary information to generate a comprehensive response.\n",
    "\n",
    "## LLM Assisted Restructuring for RAG (LLMARRAG) Pipeline\n",
    "\n",
    "At Indexify, we recognized the need for a more efficient and accurate approach to processing mixed context texts in RAG systems. Our team has developed an innovative pipeline that combines cutting-edge technologies and techniques to overcome the limitations of existing solutions.\n",
    "\n",
    "### Step 1: Data Extraction with Robust Extractors\n",
    "\n",
    "The first step in Indexify's pipeline is to extract data, such as text, from various sources like PDF files and other documents. We understand that unstructured data poses a significant challenge, which is why we have developed a fast real-time extraction engine and a collection of robust pre-built extractors.\n",
    "\n",
    "One notable integration in our pipeline is Vik Paruchuri's Marker, a powerful tool for extracting structured data from unstructured sources. By leveraging Marker, we ensure that we can comprehensively extract text data from a wide range of documents, providing a solid foundation for the subsequent steps in our pipeline.\n",
    "\n",
    "### Step 2: Intelligent Text Restructuring with Gemini 1.5 Flash LLM\n",
    "\n",
    "Once the text data is extracted, the next crucial step is to restructure it in a way that facilitates efficient processing and retrieval. This is where Indexify's pipeline truly shines, as we leverage Google's state-of-the-art Gemini 1.5 Flash LLM, which was recently unveiled at Google I/O 2024.\n",
    "\n",
    "The Gemini 1.5 Flash LLM boasts an impressive 2M context length, making it exceptionally well-suited for processing large mixed context texts. By harnessing the power of this advanced language model, we can intelligently restructure the entire text of a PDF or other document, grouping sentences from similar topics together.\n",
    "\n",
    "This semantic restructuring is a game-changer, as it ensures that related information is placed in close proximity, creating topic-coherent segments within the text. By bringing together sentences that discuss the same subject matter, we lay the groundwork for more accurate and efficient chunking in the subsequent steps of our pipeline.\n",
    "\n",
    "### Step 3: Enhanced Chunking with RecursiveCharacterTextSplitter\n",
    "\n",
    "With the text restructured into topic-coherent segments, Indexify's pipeline proceeds to perform chunking using the RecursiveCharacterTextSplitter algorithm. This algorithm has been specifically designed to handle large texts and create meaningful chunks based on a specified maximum chunk size.\n",
    "\n",
    "Thanks to the intelligent restructuring performed in the previous step, the RecursiveCharacterTextSplitter can now generate chunks that are more information-dense and focused on specific domains. This enhanced chunking process greatly improves the efficiency of RAG systems by providing chunks that are highly relevant to the question at hand.\n",
    "\n",
    "By eliminating the inclusion of unnecessary information from unrelated domains, our pipeline saves valuable tokens in subsequent API calls to LLMs. This optimization ensures that the LLMs receive only the most pertinent information, enabling them to generate accurate and contextually relevant responses without wasting computational resources on irrelevant data.\n",
    "\n",
    "### Step 4: Embedding Creation with Snowflake's Arctic Model\n",
    "\n",
    "The final step in Indexify's pipeline is the creation of embeddings using Snowflake's Arctic embedding model. Embeddings are critical for enabling efficient similarity search and retrieval of relevant information from the chunked text.\n",
    "\n",
    "Snowflake's Arctic model is a state-of-the-art embedding model that captures the semantic meaning of text chunks with remarkable accuracy. By representing each chunk as a high-dimensional vector, the Arctic model allows for fast and precise similarity comparisons between the query and the available chunks.\n",
    "\n",
    "Indexify's pipeline leverages the power of the Arctic model to create high-quality embeddings for each chunk generated in the previous step. These embeddings serve as the basis for retrieving the most relevant chunks when a user poses a question to the RAG system.\n",
    "\n",
    "By utilizing Snowflake's Arctic model, Indexify ensures that the RAG system can effectively identify and retrieve the chunks that are most pertinent to the given query. This enhances the accuracy of the generated responses and greatly improves the overall performance of the RAG system.\n",
    "\n",
    "## Creating LLMARRAG Pipeline is Simple with Indexify\n",
    "\n",
    "#### Install Indexify, Start the Server & Download the Extractors"
   ]
  },
  {
   "cell_type": "code",
   "execution_count": 1,
   "metadata": {},
   "outputs": [
    {
     "name": "stdout",
     "output_type": "stream",
     "text": [
      "Note: you may need to restart the kernel to use updated packages.\n"
     ]
    }
   ],
   "source": [
    "%pip install indexify indexify-extractor-sdk\n",
    "\n",
    "# Download Indexify Server\n",
    "!curl https://getindexify.ai | sh\n",
    "\n",
    "# Download Extractors\n",
    "!indexify-extractor download hub://pdf/marker\n",
    "!indexify-extractor download hub://text/llm\n",
    "!indexify-extractor download hub://text/chunking\n",
    "!indexify-extractor download hub://embedding/arctic"
   ]
  },
  {
   "cell_type": "markdown",
   "metadata": {},
   "source": [
    "After installing the necessary libraries, download the server, and the extractors, you need to restart the runtime. Then, you have to run Indexify Server with the Extractors.\n",
    "\n",
    "Open 2 terminals and run the following commands:\n",
    "\n",
    "```bash\n",
    "# Terminal 1\n",
    "./indexify server -d\n",
    "\n",
    "# Terminal 2\n",
    "indexify-extractor join-server\n",
    "```"
   ]
  },
  {
   "cell_type": "markdown",
   "metadata": {},
   "source": [
    "#### Create a Client, Define Extraction Graph & Ingest Contents"
   ]
  },
  {
   "cell_type": "code",
   "execution_count": 2,
   "metadata": {},
   "outputs": [],
   "source": [
    "from indexify import IndexifyClient\n",
    "client = IndexifyClient()"
   ]
  },
  {
   "cell_type": "code",
   "execution_count": 3,
   "metadata": {},
   "outputs": [],
   "source": [
    "from indexify import ExtractionGraph\n",
    "\n",
    "extraction_graph_spec = \"\"\"\n",
    "name: 'llmarrag'\n",
    "extraction_policies:\n",
    "   - extractor: 'tensorlake/marker'\n",
    "     name: 'mdextractor'\n",
    "   - extractor: 'tensorlake/llm'\n",
    "     name: 'txtprocessor'\n",
    "     input_params:\n",
    "        service: 'gemini'\n",
    "        prompt: 'Rearrange and rewrite the following text by grouping similar topics together while preserving the original sentences.'\n",
    "     content_source: 'mdextractor'\n",
    "   - extractor: 'tensorlake/chunk-extractor'\n",
    "     name: 'chunker'\n",
    "     input_params:\n",
    "        chunk_size: 1000\n",
    "        overlap: 100\n",
    "     content_source: 'txtprocessor'\n",
    "   - extractor: 'tensorlake/arctic'\n",
    "     name: 'embedder'\n",
    "     content_source: 'chunker'\n",
    "\"\"\"\n",
    "\n",
    "extraction_graph = ExtractionGraph.from_yaml(extraction_graph_spec)\n",
    "client.create_extraction_graph(extraction_graph)"
   ]
  },
  {
   "cell_type": "code",
   "execution_count": 4,
   "metadata": {},
   "outputs": [
    {
     "data": {
      "text/plain": [
       "'29e347f7f00d02ad'"
      ]
     },
     "execution_count": 4,
     "metadata": {},
     "output_type": "execute_result"
    }
   ],
   "source": [
    "content_id = client.upload_file(\"llmarrag\", \"random_topics.pdf\")\n",
    "client.wait_for_extraction(content_id)"
   ]
  },
  {
   "cell_type": "markdown",
   "metadata": {},
   "source": [
    "## The Impact of LLMARRAG Pipeline\n",
    "\n",
    "Indexify's innovative pipeline has the potential to revolutionize the way RAG systems process and utilize mixed context texts. By addressing the limitations of existing approaches and leveraging cutting-edge technologies, our solution offers several key benefits:\n",
    "\n",
    "1. **Efficient Processing**: By intelligently restructuring the text and performing enhanced chunking, Indexify's pipeline enables RAG systems to process mixed context texts efficiently. The topic-coherent segments and information-dense chunks minimize the inclusion of irrelevant information, saving valuable computational resources and reducing token waste in subsequent API calls to LLMs.\n",
    "\n",
    "2. **Improved Accuracy**: The combination of intelligent text restructuring, enhanced chunking, and state-of-the-art embedding creation using Snowflake's Arctic model significantly improves the accuracy of RAG systems. By retrieving the most relevant chunks for a given query, the LLMs can generate responses that are more contextually appropriate and precise, enhancing the overall quality of the generated output.\n",
    "\n",
    "3. **Scalability**: Indexify's pipeline is designed to handle large mixed context texts effectively. With the Gemini 1.5 Flash LLM's 2M context length and the efficient chunking algorithm, our solution can scale to process extensive documents and datasets, making it suitable for a wide range of applications and domains.\n",
    "\n",
    "4. **Flexibility and Customization**: As an Open Source data framework, Indexify provides users with the flexibility to customize and extend the pipeline according to their specific needs. Researchers and developers can leverage our robust extractors, integrate their own models and algorithms, and adapt the pipeline to suit their particular use cases, fostering innovation and collaboration within the community.\n",
    "\n",
    "## Benchmarking\n",
    "\n",
    "| Metrics                                                                          | Scores |\n",
    "| -------------------------------------------------------------------------------- | ------ |\n",
    "| Number of chunks required by traditional RAG to include all relevant information | 5      |\n",
    "| Number of chunks required by LLMARRAG to include all relevant information        | 2      |\n",
    "|                                                                                  |        |\n",
    "| Number of tokens required by traditional RAG to include all relevant information | 651    |\n",
    "| Number of tokens required by LLMARRAG to include all relevant information        | 255    |\n",
    "|                                                                                  |        |\n",
    "| Number of irrelevant tokens in the most relevant chunk by traditional RAG        | 100    |\n",
    "| Number of irrelevant tokens in the most relevant chunk by LLMARRAG               | 6      |\n",
    "|                                                                                  |        |\n",
    "| Difference between least relevant and irrelevant chunks by traditional RAG       | 5.59%  |\n",
    "| Difference between least relevant and irrelevant chunks by LLMARRAG              | 12.81% |"
   ]
  },
  {
   "cell_type": "markdown",
   "metadata": {},
   "source": [
    "## Performing RAG with LLMARRAG and OpenAI"
   ]
  },
  {
   "cell_type": "code",
   "execution_count": 5,
   "metadata": {},
   "outputs": [],
   "source": [
    "def get_context(question: str, index: str, top_k=2):\n",
    "    results = client.search_index(name=index, query=question, top_k=top_k)\n",
    "    context = \"\"\n",
    "    for result in results:\n",
    "        context = context + f\"content id: {result['content_id']} \\n\\n passage: {result['text']}\\n\"\n",
    "    return context"
   ]
  },
  {
   "cell_type": "code",
   "execution_count": 12,
   "metadata": {},
   "outputs": [
    {
     "data": {
      "text/plain": [
       "'content id: 1af5ba1bb5955335 \\n\\n passage: **Organ Systems:**\\n\\n* **The endocrine system** is a network of glands that secrete hormones directly into the bloodstream, regulating various physiological processes such as growth, metabolism, and reproduction.\\n* **The immune system** is a complex network of cells, tissues, and organs that work together to defend the body against infectious agents and other harmful substances.\\n* **The nervous system** is a highly organized network of cells that transmits signals between different parts of the body, enabling communication, coordination, and response to stimuli.\\n* **The circulatory system** is a network of blood vessels and the heart that transports oxygen, nutrients, and other essential substances throughout the body, while also removing waste products.\\n* **The digestive system** is a series of organs that work together to break down food into nutrients that can be absorbed and used by the body for growth, repair, and energy production. \\n\\n## Computer Science and Related Fields:\\ncontent id: fb5215bceaf1bb2a \\n\\n passage: **Genetics and Evolution:**\\n\\n* **DNA (deoxyribonucleic acid)** is the genetic material that carries the instructions for the development, functioning, and reproduction of all known living organisms.\\n* **Genetics** is the study of heredity and the variation of inherited characteristics, based on the principles of Mendelian inheritance and the molecular structure of DNA.\\n* **The theory of evolution by natural selection**, proposed by Charles Darwin, explains how species change over time through the inheritance of beneficial traits that increase their fitness in a given environment.\\n\\n**Organ Systems:**\\n'"
      ]
     },
     "execution_count": 12,
     "metadata": {},
     "output_type": "execute_result"
    }
   ],
   "source": [
    "question = \"Write an essay on the various organ systems like nervous system, digestive system.\"\n",
    "context = get_context(question, \"llmarrag.embedder.embedding\")\n",
    "context"
   ]
  },
  {
   "cell_type": "code",
   "execution_count": 13,
   "metadata": {},
   "outputs": [],
   "source": [
    "def create_prompt(question, context):\n",
    "    return f\"Answer the question, based on the context.\\n question: {question} \\n context: {context}\"\n",
    "\n",
    "prompt = create_prompt(question, context)"
   ]
  },
  {
   "cell_type": "code",
   "execution_count": 14,
   "metadata": {},
   "outputs": [],
   "source": [
    "from openai import OpenAI\n",
    "client_openai = OpenAI()"
   ]
  },
  {
   "cell_type": "code",
   "execution_count": 15,
   "metadata": {},
   "outputs": [
    {
     "name": "stdout",
     "output_type": "stream",
     "text": [
      "Based on the context provided, the essay on various organ systems like the nervous system and the digestive system would include information about the endocrine system, the immune system, the nervous system, the circulatory system, and the digestive system. The nervous system is described as a network of cells that transmit signals between different parts of the body, enabling communication and response to stimuli. The digestive system is highlighted as a series of organs that work together to break down food into nutrients for growth, repair, and energy production.\n"
     ]
    }
   ],
   "source": [
    "chat_completion = client_openai.chat.completions.create(\n",
    "    messages=[\n",
    "        {\n",
    "            \"role\": \"user\",\n",
    "            \"content\": prompt,\n",
    "        }\n",
    "    ],\n",
    "    model=\"gpt-3.5-turbo\",\n",
    ")\n",
    "print(chat_completion.choices[0].message.content)"
   ]
  },
  {
   "cell_type": "markdown",
   "metadata": {},
   "source": [
    "## Conclusion\n",
    "\n",
    "Indexify's innovative pipeline presents a comprehensive solution to the challenges faced by modern RAG systems when processing mixed context texts. By combining advanced data extraction, intelligent text restructuring using Google's Gemini 1.5 Flash LLM, enhanced chunking with RecursiveCharacterTextSplitter, and embedding creation using Snowflake's Arctic model, our approach enables efficient and accurate retrieval-augmented generation.\n",
    "\n",
    "The pipeline's ability to handle large mixed context texts, reduce token wastage, and improve the accuracy of generated responses makes it a valuable tool for organizations and researchers seeking to unlock the full potential of RAG systems. With Indexify's Open Source data framework and robust extractors, users can easily integrate our solution into their existing workflows and benefit from its powerful capabilities.\n",
    "\n",
    "As the field of natural language processing continues to evolve, Indexify remains committed to driving innovation and pushing the boundaries of what is possible with RAG systems. We believe that our pipeline represents a significant step forward in enabling the efficient processing of complex, unstructured data and generating high-quality outputs that meet the diverse needs of users.\n",
    "\n",
    "We invite researchers, developers, and organizations to explore Indexify's pipeline, contribute to its development, and join us in shaping the future of retrieval-augmented generation. Together, we can unlock the immense potential of RAG systems and revolutionize the way we interact with and derive insights from mixed context texts."
   ]
  }
 ],
 "metadata": {
  "kernelspec": {
   "display_name": "tensorlake",
   "language": "python",
   "name": "python3"
  },
  "language_info": {
   "codemirror_mode": {
    "name": "ipython",
    "version": 3
   },
   "file_extension": ".py",
   "mimetype": "text/x-python",
   "name": "python",
   "nbconvert_exporter": "python",
   "pygments_lexer": "ipython3",
   "version": "3.10.14"
  }
 },
 "nbformat": 4,
 "nbformat_minor": 2
}
