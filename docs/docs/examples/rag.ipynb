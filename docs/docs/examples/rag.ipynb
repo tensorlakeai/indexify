{
 "cells": [
  {
   "cell_type": "markdown",
   "id": "2a784b7a",
   "metadata": {},
   "source": [
    "## **Setup**\n",
    "\n",
    "<div class=\"align-center\">\n",
    "  <a href=\"https://getindexify.ai/\"><img src=\"https://getindexify.ai/Indexify_Logo_Wordmark.svg\" width=\"145\"></a>\n",
    "  <a href=\"https://discord.com/invite/kF8UZACA7r\"><img src=\"https://raw.githubusercontent.com/rishiraj/random/main/Discord%20button.png\" width=\"145\"></a><br>\n",
    "  Join Discord if you need help + ⭐ <i>Star us on <a href=\"https://github.com/tensorlakeai/indexify\">Github</a></i> ⭐\n",
    "</div>"
   ]
  },
  {
   "cell_type": "code",
   "execution_count": 109,
   "id": "c1eb1947-6679-4f17-81e6-edf09645af76",
   "metadata": {},
   "outputs": [
    {
     "name": "stdout",
     "output_type": "stream",
     "text": [
      "Note: you may need to restart the kernel to use updated packages.\n"
     ]
    }
   ],
   "source": [
    "%pip install --upgrade --quiet  wikipedia\n",
    "\n",
    "# Download Indexify Server\n",
    "!curl https://getindexify.ai | sh\n",
    "\n",
    "# Download Extractors\n",
    "!indexify-extractor download hub://text/chunking\n",
    "!indexify-extractor download hub://embedding/minilm-l6"
   ]
  },
  {
   "cell_type": "markdown",
   "id": "c821f4b6",
   "metadata": {},
   "source": [
    "After installing the necessary libraries, download the server, and the extractors, you need to restart the runtime. Then, you have to run Indexify Server with the Extractors.\n",
    "\n",
    "Open 2 terminals and run the following commands:\n",
    "\n",
    "```bash\n",
    "# Terminal 1\n",
    "./indexify server -d\n",
    "\n",
    "# Terminal 2\n",
    "indexify-extractor join-server\n",
    "```"
   ]
  },
  {
   "cell_type": "markdown",
   "id": "6fbce697",
   "metadata": {},
   "source": [
    "## **Creating Extraction Graph**"
   ]
  },
  {
   "cell_type": "code",
   "execution_count": 110,
   "id": "7392249d-f498-4a19-9afd-e6652817fa1a",
   "metadata": {},
   "outputs": [],
   "source": [
    "from indexify import IndexifyClient, ExtractionGraph\n",
    "client = IndexifyClient()"
   ]
  },
  {
   "cell_type": "code",
   "execution_count": 111,
   "id": "b08c8ec1-6c44-41ce-8bbc-a87984bdb09e",
   "metadata": {},
   "outputs": [],
   "source": [
    "extraction_graph_spec = \"\"\"\n",
    "name: 'sportsknowledgebase'\n",
    "extraction_policies:\n",
    "   - extractor: 'tensorlake/chunk-extractor'\n",
    "     name: 'chunker'\n",
    "     input_params:\n",
    "        chunk_size: 1000\n",
    "        overlap: 100\n",
    "   - extractor: 'tensorlake/minilm-l6'\n",
    "     name: 'wikiembedding'\n",
    "     content_source: 'chunker'\n",
    "\"\"\"\n",
    "\n",
    "extraction_graph = ExtractionGraph.from_yaml(extraction_graph_spec)\n",
    "client.create_extraction_graph(extraction_graph)                                            "
   ]
  },
  {
   "cell_type": "markdown",
   "id": "946b0b31",
   "metadata": {},
   "source": [
    "## **Indexify Retriever for RAG**"
   ]
  },
  {
   "cell_type": "code",
   "execution_count": 112,
   "id": "1b557954-0112-4cc6-b8b7-0aeecd6bb821",
   "metadata": {},
   "outputs": [],
   "source": [
    "from langchain_community.document_loaders import WikipediaLoader\n",
    "\n",
    "docs = WikipediaLoader(query=\"Kevin Durant\", load_max_docs=1).load()\n",
    "for doc in docs:\n",
    "    content_id = client.add_documents(\"sportsknowledgebase\", doc.page_content)\n",
    "    client.wait_for_extraction(content_id)  "
   ]
  },
  {
   "cell_type": "code",
   "execution_count": 84,
   "id": "63c9016f-70c7-49e8-9bcd-217955f21dd4",
   "metadata": {},
   "outputs": [
    {
     "data": {
      "text/plain": [
       "[{'name': 'sportsknowledgebase.wikiembedding.embedding',\n",
       "  'embedding_schema': {'dim': 384, 'distance': 'cosine'}}]"
      ]
     },
     "execution_count": 84,
     "metadata": {},
     "output_type": "execute_result"
    }
   ],
   "source": [
    "client.indexes()"
   ]
  },
  {
   "cell_type": "code",
   "execution_count": 93,
   "id": "f88f28d1-5118-43a8-831d-e444bd356fbe",
   "metadata": {},
   "outputs": [],
   "source": [
    "def get_context(question: str, index: str, top_k=3):\n",
    "    results = client.search_index(name=index, query=question, top_k=3)\n",
    "    context = \"\"\n",
    "    for result in results:\n",
    "        context = context + f\"content id: {result['content_id']} \\n\\n passage: {result['text']}\\n\"\n",
    "    return context"
   ]
  },
  {
   "cell_type": "code",
   "execution_count": 101,
   "id": "27a90930-f111-49eb-8999-9144b58683c4",
   "metadata": {},
   "outputs": [],
   "source": [
    "question = \"When and where did Kevin Durant win his championships?\"\n",
    "context = get_context(question, \"sportsknowledgebase.wikiembedding.embedding\")"
   ]
  },
  {
   "cell_type": "code",
   "execution_count": 102,
   "id": "a2d0e936-e5c4-4071-ad6d-1621c8c7cf32",
   "metadata": {},
   "outputs": [],
   "source": [
    "prompt = f\"Answer the question, based on the question.\\n question: {question} \\n context: {context}\""
   ]
  },
  {
   "cell_type": "code",
   "execution_count": 100,
   "id": "1283d7cc-85ba-4422-957a-8e20eb2df4c5",
   "metadata": {},
   "outputs": [],
   "source": [
    "from openai import OpenAI\n",
    "client_openai = OpenAI()"
   ]
  },
  {
   "cell_type": "code",
   "execution_count": 104,
   "id": "a3c472f8-c557-47e0-846e-ac7c94be5b21",
   "metadata": {},
   "outputs": [],
   "source": [
    "chat_completion = client_openai.chat.completions.create(\n",
    "    messages=[\n",
    "        {\n",
    "            \"role\": \"user\",\n",
    "            \"content\": prompt,\n",
    "        }\n",
    "    ],\n",
    "    model=\"gpt-3.5-turbo\",\n",
    ")\n"
   ]
  },
  {
   "cell_type": "code",
   "execution_count": 108,
   "id": "31493fd7-c16a-4178-a4e0-52c0d58b15aa",
   "metadata": {},
   "outputs": [
    {
     "name": "stdout",
     "output_type": "stream",
     "text": [
      "Kevin Durant won his championships with the Golden State Warriors in 2017 and 2018.\n"
     ]
    }
   ],
   "source": [
    "print(chat_completion.choices[0].message.content)"
   ]
  }
 ],
 "metadata": {
  "kernelspec": {
   "display_name": "Python 3 (ipykernel)",
   "language": "python",
   "name": "python3"
  },
  "language_info": {
   "codemirror_mode": {
    "name": "ipython",
    "version": 3
   },
   "file_extension": ".py",
   "mimetype": "text/x-python",
   "name": "python",
   "nbconvert_exporter": "python",
   "pygments_lexer": "ipython3",
   "version": "3.12.2"
  }
 },
 "nbformat": 4,
 "nbformat_minor": 5
}
