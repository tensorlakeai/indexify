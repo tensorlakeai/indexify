{
 "cells": [
  {
   "cell_type": "code",
   "execution_count": 28,
   "id": "c1eb1947-6679-4f17-81e6-edf09645af76",
   "metadata": {},
   "outputs": [
    {
     "name": "stdout",
     "output_type": "stream",
     "text": [
      "\n",
      "\u001b[1m[\u001b[0m\u001b[34;49mnotice\u001b[0m\u001b[1;39;49m]\u001b[0m\u001b[39;49m A new release of pip is available: \u001b[0m\u001b[31;49m23.3.2\u001b[0m\u001b[39;49m -> \u001b[0m\u001b[32;49m24.0\u001b[0m\n",
      "\u001b[1m[\u001b[0m\u001b[34;49mnotice\u001b[0m\u001b[1;39;49m]\u001b[0m\u001b[39;49m To update, run: \u001b[0m\u001b[32;49mpip install --upgrade pip\u001b[0m\n",
      "Note: you may need to restart the kernel to use updated packages.\n"
     ]
    }
   ],
   "source": [
    "%pip install --upgrade --quiet  wikipedia langchain_openai"
   ]
  },
  {
   "cell_type": "code",
   "execution_count": null,
   "id": "07f69549-9ac0-4bfc-b5c0-243cdde49993",
   "metadata": {},
   "outputs": [],
   "source": [
    "# brew install ffmpeg"
   ]
  },
  {
   "cell_type": "code",
   "execution_count": 3,
   "id": "1b557954-0112-4cc6-b8b7-0aeecd6bb821",
   "metadata": {},
   "outputs": [],
   "source": [
    "from langchain_community.document_loaders import WikipediaLoader"
   ]
  },
  {
   "cell_type": "code",
   "execution_count": 4,
   "id": "742ccbae-e287-4590-b962-64ec7d341716",
   "metadata": {},
   "outputs": [],
   "source": [
    "docs = WikipediaLoader(query=\"Kevin Durant\", load_max_docs=10).load()"
   ]
  },
  {
   "cell_type": "code",
   "execution_count": 5,
   "id": "7392249d-f498-4a19-9afd-e6652817fa1a",
   "metadata": {},
   "outputs": [],
   "source": [
    "from indexify import IndexifyClient\n",
    "client = IndexifyClient()"
   ]
  },
  {
   "cell_type": "code",
   "execution_count": 10,
   "id": "dc34f407-71c1-4298-9e5d-193056402e7b",
   "metadata": {},
   "outputs": [],
   "source": [
    "client = IndexifyClient()\n",
    "for doc in docs:\n",
    "    client.add_documents(doc.page_content)"
   ]
  },
  {
   "cell_type": "code",
   "execution_count": 9,
   "id": "93fee389-65fe-429f-bec2-b68e6744f17e",
   "metadata": {},
   "outputs": [],
   "source": [
    "client.add_extraction_policy(extractor='tensorlake/chunk-extractor', name=\"chunker\")\n",
    "client.add_extraction_policy(extractor='tensorlake/minilm-l6', name=\"wikiembedding\", content_source=\"chunker\")"
   ]
  },
  {
   "cell_type": "code",
   "execution_count": 34,
   "id": "63c9016f-70c7-49e8-9bcd-217955f21dd4",
   "metadata": {},
   "outputs": [
    {
     "data": {
      "text/plain": [
       "[{'name': 'wikiembedding.embedding',\n",
       "  'schema': {'dim': 384, 'distance': 'cosine'}}]"
      ]
     },
     "execution_count": 34,
     "metadata": {},
     "output_type": "execute_result"
    }
   ],
   "source": [
    "client.indexes()"
   ]
  },
  {
   "cell_type": "code",
   "execution_count": 35,
   "id": "c2985ba7-9bfb-40c3-a9c7-3d10544f48e8",
   "metadata": {},
   "outputs": [],
   "source": [
    "from indexify_langchain import IndexifyRetriever"
   ]
  },
  {
   "cell_type": "code",
   "execution_count": 36,
   "id": "f88f28d1-5118-43a8-831d-e444bd356fbe",
   "metadata": {},
   "outputs": [],
   "source": [
    "params = {\"name\": \"wikiembedding.embedding\", \"top_k\": 50}\n",
    "retriever = IndexifyRetriever(client=client, params=params)\n"
   ]
  },
  {
   "cell_type": "code",
   "execution_count": 37,
   "id": "27a90930-f111-49eb-8999-9144b58683c4",
   "metadata": {},
   "outputs": [],
   "source": [
    "from langchain_core.output_parsers import StrOutputParser\n",
    "from langchain_core.prompts import ChatPromptTemplate\n",
    "from langchain_core.runnables import RunnablePassthrough\n",
    "from langchain_openai import ChatOpenAI"
   ]
  },
  {
   "cell_type": "code",
   "execution_count": 38,
   "id": "b3186be7-7ef9-4d6c-baa6-78b9a8da15ac",
   "metadata": {},
   "outputs": [],
   "source": [
    "template = \"\"\"Answer the question based only on the following context:\n",
    "{context}\n",
    "\n",
    "Question: {question}\n",
    "\"\"\"\n",
    "prompt = ChatPromptTemplate.from_template(template)\n",
    "\n",
    "model = ChatOpenAI()\n",
    "\n",
    "chain = (\n",
    "    {\"context\": retriever, \"question\": RunnablePassthrough()}\n",
    "    | prompt\n",
    "    | model\n",
    "    | StrOutputParser()\n",
    ")\n"
   ]
  },
  {
   "cell_type": "code",
   "execution_count": 40,
   "id": "731b9289-4294-475c-961a-ec1db303b029",
   "metadata": {},
   "outputs": [
    {
     "data": {
      "text/plain": [
       "'Kevin Durant won his championships in 2017 and 2018 with the Golden State Warriors.'"
      ]
     },
     "execution_count": 40,
     "metadata": {},
     "output_type": "execute_result"
    }
   ],
   "source": [
    "chain.invoke(\"When and where did KD win his championships?\")"
   ]
  }
 ],
 "metadata": {
  "kernelspec": {
   "display_name": "Python 3 (ipykernel)",
   "language": "python",
   "name": "python3"
  },
  "language_info": {
   "codemirror_mode": {
    "name": "ipython",
    "version": 3
   },
   "file_extension": ".py",
   "mimetype": "text/x-python",
   "name": "python",
   "nbconvert_exporter": "python",
   "pygments_lexer": "ipython3",
   "version": "3.10.14"
  }
 },
 "nbformat": 4,
 "nbformat_minor": 5
}
