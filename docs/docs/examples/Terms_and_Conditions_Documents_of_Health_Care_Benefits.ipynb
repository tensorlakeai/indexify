{
  "cells": [
    {
      "cell_type": "markdown",
      "metadata": {},
      "source": [
        "## **Setup**\n",
        "\n",
        "<div class=\"align-center\">\n",
        "  <a href=\"https://getindexify.ai/\"><img src=\"https://getindexify.ai/Indexify_Logo_Wordmark.svg\" width=\"145\"></a>\n",
        "  <a href=\"https://discord.com/invite/kF8UZACA7r\"><img src=\"https://raw.githubusercontent.com/rishiraj/random/main/Discord%20button.png\" width=\"145\"></a><br>\n",
        "  Join Discord if you need help + ⭐ <i>Star us on <a href=\"https://github.com/tensorlakeai/indexify\">Github</a></i> ⭐\n",
        "</div>"
      ]
    },
    {
      "cell_type": "code",
      "execution_count": null,
      "metadata": {},
      "outputs": [],
      "source": [
        "%pip install indexify-extractor-sdk indexify-langchain indexify\n",
        "\n",
        "# Download Indexify Server\n",
        "!curl https://getindexify.ai | sh\n",
        "\n",
        "# Install Poppler (required for PDF extraction)\n",
        "# You can use brew on MacOS.\n",
        "!sudo apt-get install -y poppler-utils\n",
        "\n",
        "# Download Extractors\n",
        "!indexify-extractor download tensorlake/chunk-extractor\n",
        "!indexify-extractor download tensorlake/minilm-l6\n",
        "!indexify-extractor download tensorlake/pdfextractor"
      ]
    },
    {
      "cell_type": "markdown",
      "metadata": {},
      "source": [
        "After installing the necessary libraries, download the server, and the extractors, you need to restart the runtime. Then, you have to run Indexify Server with the Extractors.\n",
        "\n",
        "Open 2 terminals and run the following commands:\n",
        "\n",
        "```bash\n",
        "# Terminal 1\n",
        "./indexify server -d\n",
        "\n",
        "# Terminal 2\n",
        "indexify-extractor join-server\n",
        "```"
      ]
    },
    {
      "cell_type": "markdown",
      "metadata": {
        "id": "sTIlKuPp6wxg"
      },
      "source": [
        "## **Create Extraction Graph**\n",
        "\n",
        "Instantiate the Indexify Client"
      ]
    },
    {
      "cell_type": "code",
      "execution_count": null,
      "metadata": {
        "id": "HZNysNl-631k"
      },
      "outputs": [],
      "source": [
        "from indexify import IndexifyClient, ExtractionGraph\n",
        "client = IndexifyClient()"
      ]
    },
    {
      "cell_type": "markdown",
      "metadata": {
        "id": "GQr1749x6_CW"
      },
      "source": [
        "First, create policies to get contents out of the Insurance PDF and then create chunks and embeddings."
      ]
    },
    {
      "cell_type": "code",
      "execution_count": null,
      "metadata": {},
      "outputs": [],
      "source": [
        "extraction_graph_spec = \"\"\"\n",
        "name: 'knowledgebase'\n",
        "extraction_policies:\n",
        "  - extractor: 'tensorlake/pdfextractor'\n",
        "    name: 'pdfextractor'\n",
        "  - extractor: 'tensorlake/chunk-extractor'\n",
        "    name: 'chunks'\n",
        "    content_source: 'pdfextractor'\n",
        "    input_params:\n",
        "      chunk_size: 512\n",
        "      overlap: 150\n",
        "  - extractor: 'tensorlake/minilm-l6'\n",
        "    name: 'getembeddings'\n",
        "    content_source: 'chunks'\n",
        "\"\"\"\n",
        "extraction_graph = ExtractionGraph.from_yaml(extraction_graph_spec)\n",
        "client.create_extraction_graph(extraction_graph)  "
      ]
    },
    {
      "cell_type": "markdown",
      "metadata": {
        "id": "ZGqpkx3P7gsh"
      },
      "source": [
        "## **Upload a Insurance PDF File**"
      ]
    },
    {
      "cell_type": "code",
      "execution_count": null,
      "metadata": {
        "id": "Eaw5wDEL79dy"
      },
      "outputs": [],
      "source": [
        "import requests\n",
        "req = requests.get(\"https://irdai.gov.in/documents/37343/931203/CHIHMGP22132V012122_HEALTH2083.pdf/b5c15df2-8a5a-5927-10d8-c3d136055139?version=1.1&t=1668769248703&download=true\")\n",
        "\n",
        "with open('HEALTH2083.pdf','wb') as f:\n",
        "    f.write(req.content)"
      ]
    },
    {
      "cell_type": "code",
      "execution_count": null,
      "metadata": {
        "id": "ETideBqK8GGp"
      },
      "outputs": [],
      "source": [
        "cid = client.upload_file(\"knowledgebase\", path=\"HEALTH2083.pdf\")\n",
        "client.wait_for_extraction(cid)"
      ]
    },
    {
      "cell_type": "markdown",
      "metadata": {
        "id": "I2WDexIU8LFy"
      },
      "source": [
        "## **What is happening behind the scenes**\n",
        "\n",
        "Indexify is designed to seamlessly respond to ingestion events by assessing all existing policies and triggering the necessary extractors for extraction. Once the PDF extractor completes the process of extracting texts, bytes, and JSONs from the document, it automatically initiates the embedding extractor to chunk the content, extract embeddings, and populate an index.\n",
        "\n",
        "With Indexify, you have the ability to upload hundreds of Insurance PDF files simultaneously, and the platform will efficiently handle the extraction and indexing of the contents without requiring manual intervention. To expedite the extraction process, you can deploy multiple instances of the extractors, and Indexify's built-in scheduler will transparently distribute the workload among them, ensuring optimal performance and efficiency."
      ]
    },
    {
      "cell_type": "markdown",
      "metadata": {
        "id": "B6SQ0xDt9a_9"
      },
      "source": [
        "## **Perform RAG**\n",
        "Initialize the Langchain Retriever."
      ]
    },
    {
      "cell_type": "code",
      "execution_count": null,
      "metadata": {
        "id": "2raD6aeB9Th1"
      },
      "outputs": [],
      "source": [
        "from indexify_langchain import IndexifyRetriever\n",
        "params = {\"name\": \"knowledgebase.getembeddings.embedding\", \"top_k\": 3}\n",
        "retriever = IndexifyRetriever(client=client, params=params)"
      ]
    },
    {
      "cell_type": "markdown",
      "metadata": {
        "id": "K8Q1ulDM9u-e"
      },
      "source": [
        "Now create a chain to prompt OpenAI with data retrieved from Indexify to create a simple Q&A bot"
      ]
    },
    {
      "cell_type": "code",
      "execution_count": null,
      "metadata": {
        "id": "8FUO8cLA9unF"
      },
      "outputs": [],
      "source": [
        "from langchain_core.output_parsers import StrOutputParser\n",
        "from langchain_core.prompts import ChatPromptTemplate\n",
        "from langchain_core.runnables import RunnablePassthrough\n",
        "from langchain_openai import ChatOpenAI"
      ]
    },
    {
      "cell_type": "code",
      "execution_count": null,
      "metadata": {
        "id": "yfgv3imm9ZPG"
      },
      "outputs": [],
      "source": [
        "template = \"\"\"Answer the question based only on the following context:\n",
        "{context}\n",
        "\n",
        "Question: {question}\n",
        "\"\"\"\n",
        "prompt = ChatPromptTemplate.from_template(template)\n",
        "\n",
        "model = ChatOpenAI()\n",
        "\n",
        "chain = (\n",
        "    {\"context\": retriever, \"question\": RunnablePassthrough()}\n",
        "    | prompt\n",
        "    | model\n",
        "    | StrOutputParser()\n",
        ")"
      ]
    },
    {
      "cell_type": "markdown",
      "metadata": {
        "id": "ckexWnEe-B3c"
      },
      "source": [
        "Now ask any question related to the ingested Insurance PDF document"
      ]
    },
    {
      "cell_type": "code",
      "execution_count": null,
      "metadata": {
        "id": "cSc4uBLA-IEB"
      },
      "outputs": [],
      "source": [
        "chain.invoke(\"What is a Ayush Hospital?\")\n",
        "# AYUSH Hospital is a healthcare facility wherein medical/surgical/para-surgical treatment procedures and interventions are carried out by AYUSH Medical Practitioner(s)."
      ]
    }
  ],
  "metadata": {
    "colab": {
      "provenance": []
    },
    "kernelspec": {
      "display_name": "Python 3",
      "name": "python3"
    },
    "language_info": {
      "name": "python"
    }
  },
  "nbformat": 4,
  "nbformat_minor": 0
}
