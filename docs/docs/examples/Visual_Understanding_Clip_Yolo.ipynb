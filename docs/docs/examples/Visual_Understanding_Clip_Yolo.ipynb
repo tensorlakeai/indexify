{
 "cells": [
  {
   "cell_type": "markdown",
   "id": "bae9b789",
   "metadata": {},
   "source": [
    "# Querying Images using CLIP and YOLO\n",
    "\n",
    "<div class=\"align-center\">\n",
    "  <a href=\"https://getindexify.ai/\"><img src=\"https://getindexify.ai/Indexify_Logo_Wordmark.svg\" width=\"145\"></a>\n",
    "  <a href=\"https://discord.com/invite/kF8UZACA7r\"><img src=\"https://raw.githubusercontent.com/rishiraj/random/main/Discord%20button.png\" width=\"145\"></a><br>\n",
    "  Join Discord if you need help + ⭐ <i>Star us on <a href=\"https://github.com/tensorlakeai/indexify\">Github</a></i> ⭐\n",
    "</div>\n",
    "\n",
    "This notebook demonstrates creating CLIP embeddings to search images based on a text query and YOLO object detection allowing you to query images containing specific objects."
   ]
  },
  {
   "cell_type": "code",
   "execution_count": 1,
   "id": "2b6dc1c3-90af-4f53-93a5-07ffb3957ce1",
   "metadata": {},
   "outputs": [],
   "source": [
    "from indexify import IndexifyClient, ExtractionGraph\n",
    "client = IndexifyClient()"
   ]
  },
  {
   "cell_type": "markdown",
   "id": "fd90f818",
   "metadata": {},
   "source": [
    "### Setup Extraction Graph\n",
    "Create an Extraction Graph named visualknowledgebase with 2 extraction policies for clip and yolo extractors.\n",
    "\n",
    "When an image is uploaded:\n",
    "\n",
    "- The clipindex Extraction Policy will extract CLIP embeddings from this image and store it in clipindex.\n",
    "\n",
    "- The objects Extraction Policy uses our YOLO Extractor and will add object metadata to the image content."
   ]
  },
  {
   "cell_type": "code",
   "execution_count": 76,
   "id": "e6c146f9-6863-406f-ac26-70866cc661fb",
   "metadata": {},
   "outputs": [],
   "source": [
    "extraction_graph_spec = \"\"\"\n",
    "name: 'visualknowledgebase'\n",
    "extraction_policies:\n",
    "   - extractor: 'tensorlake/clip-extractor'\n",
    "     name: 'clipindex'\n",
    "   - extractor: 'tensorlake/yolo-extractor'\n",
    "     name: 'objects'\n",
    "\"\"\"\n",
    "\n",
    "extraction_graph = ExtractionGraph.from_yaml(extraction_graph_spec)\n",
    "client.create_extraction_graph(extraction_graph)                                            "
   ]
  },
  {
   "cell_type": "markdown",
   "id": "2ed4401d",
   "metadata": {},
   "source": [
    "### Upload Files\n",
    "\n",
    "Upload image files to our visualknowledgebase extraction graph for extraction."
   ]
  },
  {
   "cell_type": "code",
   "execution_count": 77,
   "id": "a8197d2c-144b-4932-8c93-ae4233ce8e65",
   "metadata": {},
   "outputs": [],
   "source": [
    "file_names=[\"skate.jpg\", \"congestion.jpg\", \"bushwick-bred.jpg\", \"141900.jpg\", \"132500.jpg\", \"123801.jpg\",\"120701.jpg\", \"103701.jpg\"]\n",
    "file_urls = [f\"https://extractor-files.diptanu-6d5.workers.dev/images/{file_name}\" for file_name in file_names]\n",
    "for file_url in file_urls:\n",
    "    cid = client.ingest_remote_file(\"visualknowledgebase\", file_url, \"image/png\", {})\n",
    "    client.wait_for_extraction(cid)"
   ]
  },
  {
   "cell_type": "markdown",
   "id": "1b1e84ab",
   "metadata": {},
   "source": [
    "### View Indexes\n",
    "View what indexes we can query"
   ]
  },
  {
   "cell_type": "code",
   "execution_count": 78,
   "id": "a202d8b5-60ae-43e9-9438-f36e1489e35d",
   "metadata": {},
   "outputs": [
    {
     "data": {
      "text/plain": [
       "[{'name': 'visualknowledgebase.clipindex.embedding',\n",
       "  'embedding_schema': {'dim': 512, 'distance': 'cosine'}}]"
      ]
     },
     "execution_count": 78,
     "metadata": {},
     "output_type": "execute_result"
    }
   ],
   "source": [
    "client.indexes()"
   ]
  },
  {
   "cell_type": "markdown",
   "id": "04843fd6",
   "metadata": {},
   "source": [
    "### Query images with CLIP\n",
    "Search the clip index to retrieve the most relevant results from your query. In this case we are searching for most relevant results for \"skateboard\""
   ]
  },
  {
   "cell_type": "code",
   "execution_count": 79,
   "id": "421ce243-03d5-48b6-9214-4238cef63144",
   "metadata": {},
   "outputs": [
    {
     "data": {
      "text/plain": [
       "[{'content_id': 'jfWdw1dsF8X80pxq',\n",
       "  'text': '',\n",
       "  'mime_type': 'image/png',\n",
       "  'confidence_score': 0.7877066,\n",
       "  'labels': {'bounding_box': '\"[96.36837005615234, 73.69854736328125, 124.2857894897461, 106.82938385009766]\"',\n",
       "   'object_name': '\"traffic light\"'},\n",
       "  'root_content_metadata': None,\n",
       "  'content_metadata': {'id': 'jfWdw1dsF8X80pxq',\n",
       "   'parent_id': '',\n",
       "   'root_content_id': '',\n",
       "   'namespace': 'default',\n",
       "   'name': 'https://extractor-files.diptanu-6d5.workers.dev/images/skate.jpg',\n",
       "   'mime_type': 'image/png',\n",
       "   'labels': {},\n",
       "   'extraction_graph_names': ['visualknowledgebase'],\n",
       "   'storage_url': 'https://extractor-files.diptanu-6d5.workers.dev/images/skate.jpg',\n",
       "   'created_at': 1715626710,\n",
       "   'source': '',\n",
       "   'size': 0,\n",
       "   'hash': ''}},\n",
       " {'content_id': '5PEkB9nTk0SGTwfV',\n",
       "  'text': '',\n",
       "  'mime_type': 'image/png',\n",
       "  'confidence_score': 0.81712943,\n",
       "  'labels': {'object_name': '\"\\\\\"person\\\\\"\"',\n",
       "   'bounding_box': '\"[497.01715087890625,308.41412353515625,527.5113525390625,469.8289184570313]\"'},\n",
       "  'root_content_metadata': None,\n",
       "  'content_metadata': {'id': '5PEkB9nTk0SGTwfV',\n",
       "   'parent_id': '',\n",
       "   'root_content_id': '',\n",
       "   'namespace': 'default',\n",
       "   'name': 'https://extractor-files.diptanu-6d5.workers.dev/images/bushwick-bred.jpg',\n",
       "   'mime_type': 'image/png',\n",
       "   'labels': {},\n",
       "   'extraction_graph_names': ['visualknowledgebase'],\n",
       "   'storage_url': 'https://extractor-files.diptanu-6d5.workers.dev/images/bushwick-bred.jpg',\n",
       "   'created_at': 1715626710,\n",
       "   'source': '',\n",
       "   'size': 0,\n",
       "   'hash': ''}}]"
      ]
     },
     "execution_count": 79,
     "metadata": {},
     "output_type": "execute_result"
    }
   ],
   "source": [
    "client.search_index(name=\"visualknowledgebase.clipindex.embedding\", query=\"skateboard\", top_k=2)"
   ]
  },
  {
   "cell_type": "markdown",
   "id": "021d719c",
   "metadata": {},
   "source": [
    "### Query Structured Data with SQL\n",
    "Indexify syncs the structured data with the vector data, so users can do semantic search on images with specific objects\n"
   ]
  },
  {
   "cell_type": "code",
   "execution_count": 82,
   "id": "559cca5d-d8d5-4960-b694-2ac877aba485",
   "metadata": {},
   "outputs": [
    {
     "data": {
      "text/plain": [
       "SqlQueryResult(result=[{'bounding_box': [1536.345947265625, 1004.9735717773438, 1863.748779296875, 1330.083984375], 'content_id': 'yRR24K8T5FAsaFBO', 'object_name': 'boat'}, {'bounding_box': [203.15135192871097, 647.0704956054688, 635.392333984375, 1677.705810546875], 'content_id': 'yRR24K8T5FAsaFBO', 'object_name': 'boat'}, {'bounding_box': [599.879638671875, 277.8057861328125, 1368.181640625, 1384.4854736328125], 'content_id': 'yRR24K8T5FAsaFBO', 'object_name': 'boat'}, {'bounding_box': [99.08174896240234, 1202.60693359375, 164.80130004882812, 1330.62890625], 'content_id': 'yRR24K8T5FAsaFBO', 'object_name': 'boat'}, {'bounding_box': [2258.1826171875, 1236.341064453125, 2389.37353515625, 1328.902587890625], 'content_id': 'yRR24K8T5FAsaFBO', 'object_name': 'boat'}, {'bounding_box': [1410.8212890625, 1248.16259765625, 1551.63623046875, 1311.60888671875], 'content_id': 'yRR24K8T5FAsaFBO', 'object_name': 'boat'}, {'bounding_box': [601.3385009765625, 1207.789794921875, 1344.281982421875, 1379.853271484375], 'content_id': 'yRR24K8T5FAsaFBO', 'object_name': 'boat'}, {'bounding_box': [1369.98388671875, 1144.9931640625, 1403.34375, 1239.646240234375], 'content_id': 'yRR24K8T5FAsaFBO', 'object_name': 'boat'}, {'bounding_box': [0.0, 1503.0771484375, 202.0264129638672, 1573.959716796875], 'content_id': 'UHP6mh8VPdzZfZZm', 'object_name': 'boat'}, {'bounding_box': [233.91880798339844, 1485.51904296875, 536.6917114257812, 1564.3922119140625], 'content_id': 'UHP6mh8VPdzZfZZm', 'object_name': 'boat'}, {'bounding_box': [854.6151733398438, 1134.522705078125, 1016.0646362304688, 1346.176513671875], 'content_id': 'UHP6mh8VPdzZfZZm', 'object_name': 'boat'}, {'bounding_box': [1466.7825927734375, 1448.8431396484375, 1619.1068115234375, 1496.2242431640625], 'content_id': 'UHP6mh8VPdzZfZZm', 'object_name': 'boat'}, {'bounding_box': [2230.18310546875, 1245.7110595703125, 2424.33349609375, 1319.60546875], 'content_id': 'UHP6mh8VPdzZfZZm', 'object_name': 'boat'}, {'bounding_box': [992.2587890625, 1483.6248779296875, 1128.6966552734375, 1536.2808837890625], 'content_id': 'UHP6mh8VPdzZfZZm', 'object_name': 'boat'}, {'bounding_box': [1889.5821533203125, 1180.5648193359375, 2034.2816162109375, 1358.6412353515625], 'content_id': 'UHP6mh8VPdzZfZZm', 'object_name': 'boat'}, {'bounding_box': [2616.85302734375, 1281.9305419921875, 2749.81494140625, 1343.726318359375], 'content_id': 'UHP6mh8VPdzZfZZm', 'object_name': 'boat'}, {'bounding_box': [1201.8408203125, 1471.49462890625, 1390.7271728515625, 1521.1890869140625], 'content_id': 'UHP6mh8VPdzZfZZm', 'object_name': 'boat'}, {'bounding_box': [1584.722412109375, 1409.031982421875, 1814.170654296875, 1469.9052734375], 'content_id': 'UHP6mh8VPdzZfZZm', 'object_name': 'boat'}, {'bounding_box': [306.38128662109375, 1287.4404296875, 467.9479370117187, 1332.912109375], 'content_id': 'UHP6mh8VPdzZfZZm', 'object_name': 'boat'}, {'bounding_box': [1524.9898681640625, 1251.3372802734375, 1682.94189453125, 1303.1583251953125], 'content_id': 'UHP6mh8VPdzZfZZm', 'object_name': 'boat'}, {'bounding_box': [2138.30224609375, 1249.344970703125, 2210.534912109375, 1296.322998046875], 'content_id': 'UHP6mh8VPdzZfZZm', 'object_name': 'boat'}, {'bounding_box': [2248.88037109375, 1343.6827392578125, 2358.420166015625, 1383.0936279296875], 'content_id': 'UHP6mh8VPdzZfZZm', 'object_name': 'boat'}, {'bounding_box': [305.8475341796875, 1148.652099609375, 467.99371337890625, 1333.40087890625], 'content_id': 'UHP6mh8VPdzZfZZm', 'object_name': 'boat'}, {'bounding_box': [1448.1566162109375, 1346.4918212890625, 1654.06396484375, 1392.3958740234375], 'content_id': 'UHP6mh8VPdzZfZZm', 'object_name': 'boat'}, {'bounding_box': [1430.428466796875, 1227.5875244140625, 1564.73291015625, 1270.1346435546875], 'content_id': 'UHP6mh8VPdzZfZZm', 'object_name': 'boat'}, {'bounding_box': [1121.3489990234375, 1437.370849609375, 1316.21435546875, 1506.724853515625], 'content_id': 'UHP6mh8VPdzZfZZm', 'object_name': 'boat'}, {'bounding_box': [2720.699951171875, 1382.88623046875, 2815.247314453125, 1435.394775390625], 'content_id': 'UHP6mh8VPdzZfZZm', 'object_name': 'boat'}, {'bounding_box': [388.4330139160156, 1036.228759765625, 1239.1964111328125, 1801.063720703125], 'content_id': 'FEKsY-Esg1xj3j2e', 'object_name': 'boat'}, {'bounding_box': [0.8316650390625, 1237.356689453125, 521.960205078125, 1630.031494140625], 'content_id': 'FEKsY-Esg1xj3j2e', 'object_name': 'boat'}, {'bounding_box': [1294.3302001953125, 1393.479736328125, 2020.7562255859375, 1914.078125], 'content_id': 'FEKsY-Esg1xj3j2e', 'object_name': 'boat'}, {'bounding_box': [1246.451416015625, 1178.26025390625, 1573.894287109375, 1327.439453125], 'content_id': 'FEKsY-Esg1xj3j2e', 'object_name': 'boat'}, {'bounding_box': [1226.4371337890625, 762.6260375976562, 1536.4381103515625, 856.8369750976562], 'content_id': 'FEKsY-Esg1xj3j2e', 'object_name': 'boat'}, {'bounding_box': [434.2020263671875, 1021.7205810546876, 710.611572265625, 1211.7542724609375], 'content_id': 'FEKsY-Esg1xj3j2e', 'object_name': 'boat'}, {'bounding_box': [1851.852783203125, 804.754150390625, 2083.878173828125, 939.9508056640624], 'content_id': 'FEKsY-Esg1xj3j2e', 'object_name': 'boat'}, {'bounding_box': [2248.013671875, 1013.64306640625, 2558.7734375, 1370.5712890625], 'content_id': 'FEKsY-Esg1xj3j2e', 'object_name': 'boat'}, {'bounding_box': [45.48066711425781, 1832.5855712890625, 531.8731079101562, 1919.0357666015625], 'content_id': 'FEKsY-Esg1xj3j2e', 'object_name': 'boat'}, {'bounding_box': [1485.960693359375, 1786.294677734375, 2516.024169921875, 1919.032958984375], 'content_id': 'FEKsY-Esg1xj3j2e', 'object_name': 'boat'}, {'bounding_box': [0.776214599609375, 1119.4390869140625, 294.57366943359375, 1281.3753662109375], 'content_id': 'FEKsY-Esg1xj3j2e', 'object_name': 'boat'}, {'bounding_box': [61.85447692871094, 933.8797607421876, 475.056884765625, 1032.059326171875], 'content_id': 'FEKsY-Esg1xj3j2e', 'object_name': 'boat'}, {'bounding_box': [24.1795654296875, 9.68157958984375, 1051.2513427734375, 1002.1470336914062], 'content_id': 'FEKsY-Esg1xj3j2e', 'object_name': 'boat'}, {'bounding_box': [1848.59619140625, 160.37149047851562, 2085.654296875, 937.5672607421876], 'content_id': 'FEKsY-Esg1xj3j2e', 'object_name': 'boat'}, {'bounding_box': [1012.938232421875, 850.9739990234375, 1236.481689453125, 977.3895263671876], 'content_id': 'FEKsY-Esg1xj3j2e', 'object_name': 'boat'}, {'bounding_box': [738.340576171875, 778.3231201171875, 1233.472900390625, 979.952880859375], 'content_id': 'FEKsY-Esg1xj3j2e', 'object_name': 'boat'}])"
      ]
     },
     "execution_count": 82,
     "metadata": {},
     "output_type": "execute_result"
    }
   ],
   "source": [
    "client.sql_query(\"select * from visualknowledgebase where object_name='boat';\")"
   ]
  }
 ],
 "metadata": {
  "kernelspec": {
   "display_name": "Python 3 (ipykernel)",
   "language": "python",
   "name": "python3"
  },
  "language_info": {
   "codemirror_mode": {
    "name": "ipython",
    "version": 3
   },
   "file_extension": ".py",
   "mimetype": "text/x-python",
   "name": "python",
   "nbconvert_exporter": "python",
   "pygments_lexer": "ipython3",
   "version": "3.12.2"
  }
 },
 "nbformat": 4,
 "nbformat_minor": 5
}
