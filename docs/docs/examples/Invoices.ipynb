{
  "cells": [
    {
      "cell_type": "markdown",
      "metadata": {
        "id": "r9NVuXFG3qGw"
      },
      "source": [
        "### Install the Indexify Extractor SDK, Langchain Retriever and the Indexify Client"
      ]
    },
    {
      "cell_type": "code",
      "execution_count": null,
      "metadata": {
        "id": "udB1A9ee1RFv"
      },
      "outputs": [],
      "source": [
        "%%capture\n",
        "!pip install indexify-extractor-sdk indexify-langchain indexify"
      ]
    },
    {
      "cell_type": "markdown",
      "metadata": {
        "id": "nGrirc_G3zSI"
      },
      "source": [
        "### Start the Indexify Server"
      ]
    },
    {
      "cell_type": "code",
      "execution_count": null,
      "metadata": {
        "id": "prTC7y7i3UCu"
      },
      "outputs": [],
      "source": [
        "!./indexify server -d"
      ]
    },
    {
      "cell_type": "markdown",
      "metadata": {
        "id": "KEHbUyCM3-vm"
      },
      "source": [
        "### Download an Embedding Extractor\n",
        "On another terminal we'll download and start the embedding extractor which we will use to index text from the pdf document."
      ]
    },
    {
      "cell_type": "code",
      "execution_count": null,
      "metadata": {
        "id": "GYQmZBoR4UsY"
      },
      "outputs": [],
      "source": [
        "!indexify-extractor download hub://embedding/minilm-l6\n",
        "!indexify-extractor join-server"
      ]
    },
    {
      "cell_type": "markdown",
      "metadata": {
        "id": "IfA8GSfG4cF7"
      },
      "source": [
        "### Download the Donut Invoice Extractor\n",
        "On another terminal we'll download and start the Invoice extractor which we will use to get text out of Invoice documents."
      ]
    },
    {
      "cell_type": "code",
      "execution_count": null,
      "metadata": {
        "id": "_167kZaE6b3Q"
      },
      "outputs": [],
      "source": [
        "!indexify-extractor download hub://invoices/donut_invoice\n",
        "!indexify-extractor join-server"
      ]
    },
    {
      "cell_type": "markdown",
      "metadata": {
        "id": "sTIlKuPp6wxg"
      },
      "source": [
        "### Create Extraction Policies\n",
        "Instantiate the Indexify Client"
      ]
    },
    {
      "cell_type": "code",
      "execution_count": null,
      "metadata": {
        "id": "HZNysNl-631k"
      },
      "outputs": [],
      "source": [
        "from indexify import IndexifyClient\n",
        "client = IndexifyClient()"
      ]
    },
    {
      "cell_type": "markdown",
      "metadata": {
        "id": "GQr1749x6_CW"
      },
      "source": [
        "First, create a policy to get texts and contents out of the invoices."
      ]
    },
    {
      "cell_type": "code",
      "execution_count": null,
      "metadata": {
        "id": "uff8cBlq7Mrv"
      },
      "outputs": [],
      "source": [
        "client.add_extraction_policy(extractor='tensorlake/donut-invoice', name=\"invoice-extraction\")"
      ]
    },
    {
      "cell_type": "markdown",
      "metadata": {
        "id": "JunwusCA7ZA5"
      },
      "source": [
        "Second, from the texts and contents create an embedding based index."
      ]
    },
    {
      "cell_type": "code",
      "execution_count": null,
      "metadata": {
        "id": "v8jQ3zcJ7htj"
      },
      "outputs": [],
      "source": [
        "client.add_extraction_policy(extractor='tensorlake/minilm-l6', name=\"get-embeddings\", content_source=\"invoice-extraction\")"
      ]
    },
    {
      "cell_type": "markdown",
      "metadata": {
        "id": "ZGqpkx3P7gsh"
      },
      "source": [
        "### Upload a Invoice File"
      ]
    },
    {
      "cell_type": "code",
      "execution_count": null,
      "metadata": {
        "id": "Eaw5wDEL79dy"
      },
      "outputs": [],
      "source": [
        "import requests\n",
        "req = requests.get(\"https://extractor-files.diptanu-6d5.workers.dev/invoice-example.jpg\")\n",
        "\n",
        "with open('invoice-example.jpg','wb') as f:\n",
        "    f.write(req.content)"
      ]
    },
    {
      "cell_type": "code",
      "execution_count": null,
      "metadata": {
        "id": "ETideBqK8GGp"
      },
      "outputs": [],
      "source": [
        "client.upload_file(path=\"invoice-example.jpg\")"
      ]
    },
    {
      "cell_type": "markdown",
      "metadata": {
        "id": "I2WDexIU8LFy"
      },
      "source": [
        "### What is happening behind the scenes\n",
        "\n",
        "Indexify is designed to seamlessly respond to ingestion events by assessing all existing policies and triggering the necessary extractors for extraction. Once the Invoice extractor completes the process of extracting texts from the document, it automatically initiates the embedding extractor to chunk the content, extract embeddings, and populate an index.\n",
        "\n",
        "With Indexify, you have the ability to upload hundreds of Invoice files simultaneously, and the platform will efficiently handle the extraction and indexing of the contents without requiring manual intervention. To expedite the extraction process, you can deploy multiple instances of the extractors, and Indexify's built-in scheduler will transparently distribute the workload among them, ensuring optimal performance and efficiency."
      ]
    },
    {
      "cell_type": "markdown",
      "metadata": {
        "id": "B6SQ0xDt9a_9"
      },
      "source": [
        "### Perform RAG\n",
        "Initialize the Langchain Retriever."
      ]
    },
    {
      "cell_type": "code",
      "execution_count": null,
      "metadata": {
        "id": "2raD6aeB9Th1"
      },
      "outputs": [],
      "source": [
        "from indexify_langchain import IndexifyRetriever\n",
        "params = {\"name\": \"get-embeddings.embedding\", \"top_k\": 3}\n",
        "retriever = IndexifyRetriever(client=client, params=params)"
      ]
    },
    {
      "cell_type": "markdown",
      "metadata": {
        "id": "K8Q1ulDM9u-e"
      },
      "source": [
        "Now create a chain to prompt OpenAI with data retreived from Indexify to create a simple Q&A bot"
      ]
    },
    {
      "cell_type": "code",
      "execution_count": null,
      "metadata": {
        "id": "8FUO8cLA9unF"
      },
      "outputs": [],
      "source": [
        "from langchain_core.output_parsers import StrOutputParser\n",
        "from langchain_core.prompts import ChatPromptTemplate\n",
        "from langchain_core.runnables import RunnablePassthrough\n",
        "from langchain_openai import ChatOpenAI"
      ]
    },
    {
      "cell_type": "code",
      "execution_count": null,
      "metadata": {
        "id": "yfgv3imm9ZPG"
      },
      "outputs": [],
      "source": [
        "template = \"\"\"Answer the question based only on the following context:\n",
        "{context}\n",
        "\n",
        "Question: {question}\n",
        "\"\"\"\n",
        "prompt = ChatPromptTemplate.from_template(template)\n",
        "\n",
        "model = ChatOpenAI()\n",
        "\n",
        "chain = (\n",
        "    {\"context\": retriever, \"question\": RunnablePassthrough()}\n",
        "    | prompt\n",
        "    | model\n",
        "    | StrOutputParser()\n",
        ")"
      ]
    },
    {
      "cell_type": "markdown",
      "metadata": {
        "id": "ckexWnEe-B3c"
      },
      "source": [
        "Now ask any question related to the ingested Invoice"
      ]
    },
    {
      "cell_type": "code",
      "execution_count": null,
      "metadata": {
        "id": "cSc4uBLA-IEB"
      },
      "outputs": [],
      "source": [
        "chain.invoke(\"How much does the Camisol Top cost?\")\n",
        "# The Eggshell Camisol Top costs $123"
      ]
    }
  ],
  "metadata": {
    "colab": {
      "provenance": []
    },
    "kernelspec": {
      "display_name": "Python 3",
      "name": "python3"
    },
    "language_info": {
      "name": "python"
    }
  },
  "nbformat": 4,
  "nbformat_minor": 0
}
