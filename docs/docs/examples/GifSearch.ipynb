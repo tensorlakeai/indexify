{
 "cells": [
  {
   "cell_type": "markdown",
   "id": "6a46702b-89d8-4717-98c7-983335d802ce",
   "metadata": {},
   "source": [
    "# Gif search with MiniLM-L6 and CLIP embeddings\n",
    "using tumblr gif dataset https://github.com/raingo/TGIF-Release"
   ]
  },
  {
   "cell_type": "code",
   "execution_count": null,
   "id": "69e1ff27",
   "metadata": {},
   "outputs": [],
   "source": [
    "!pip install requests indexify"
   ]
  },
  {
   "cell_type": "code",
   "execution_count": null,
   "id": "d1207479-0f99-49d8-9cc0-8400ed07688c",
   "metadata": {},
   "outputs": [],
   "source": [
    "from indexify import IndexifyClient, Document\n",
    "client = IndexifyClient()"
   ]
  },
  {
   "cell_type": "code",
   "execution_count": null,
   "id": "2cec223d-aa8c-4bec-afe9-9fb40b38302e",
   "metadata": {},
   "outputs": [],
   "source": [
    "for e in client.extractors():\n",
    "    print(e.name)"
   ]
  },
  {
   "cell_type": "markdown",
   "id": "653b3f3f-af3e-4834-b4f7-ef736dd02b17",
   "metadata": {},
   "source": [
    "# Add policies"
   ]
  },
  {
   "cell_type": "code",
   "execution_count": null,
   "id": "1e30fdf7-dadb-423f-be7b-e78c97a4934b",
   "metadata": {},
   "outputs": [],
   "source": [
    "client.add_extraction_policy(\"tensorlake/clip-extractor\", name=\"clip-gif\", labels_eq=\"content:image\")"
   ]
  },
  {
   "cell_type": "code",
   "execution_count": null,
   "id": "42ac71cb-bd1a-44ea-83d8-2ef9ca18f721",
   "metadata": {},
   "outputs": [],
   "source": [
    "client.add_extraction_policy(\"tensorlake/minilm-l6\", name=\"minilm-description\")"
   ]
  },
  {
   "cell_type": "code",
   "execution_count": null,
   "id": "2c13a05d-2b67-405e-85a2-67656b9b18e4",
   "metadata": {},
   "outputs": [],
   "source": [
    "client.indexes()"
   ]
  },
  {
   "cell_type": "code",
   "execution_count": null,
   "id": "5808e72b-064a-498f-ae65-773092a956fc",
   "metadata": {
    "scrolled": true
   },
   "outputs": [],
   "source": [
    "import requests\n",
    "res = requests.get(\"https://raw.githubusercontent.com/raingo/TGIF-Release/master/data/tgif-v1.0.tsv\")\n",
    "items = res.text.split(\"\\n\")"
   ]
  },
  {
   "cell_type": "markdown",
   "id": "c2c316e8-a32b-4398-b2fd-c99a573292d7",
   "metadata": {},
   "source": [
    "# Ingest data"
   ]
  },
  {
   "cell_type": "code",
   "execution_count": null,
   "id": "0e7707aa-b7ff-442e-8daa-0f267921163c",
   "metadata": {
    "scrolled": true
   },
   "outputs": [],
   "source": [
    "for item in items[0:1000]:\n",
    "    url, text = item.split('\\t')\n",
    "    # validate image\n",
    "    r = requests.get(url)\n",
    "    if r.headers.get(\"Content-Type\") != \"image/gif\":\n",
    "        print(\"image removed\", url)\n",
    "        continue\n",
    "    print(\"ingesting\", url)\n",
    "    client.ingest_remote_file(url, \"image/gif\", {\"url\":url, \"content\":\"image\"})\n",
    "    client.add_documents(Document(text=text, labels={\"url\": url}))"
   ]
  },
  {
   "cell_type": "markdown",
   "id": "159eed02-f975-4a5d-9506-b39d64e4dfd6",
   "metadata": {},
   "source": [
    "# Search Data"
   ]
  },
  {
   "cell_type": "code",
   "execution_count": null,
   "id": "05f78341-8664-401d-b937-dda8f8a9ce43",
   "metadata": {},
   "outputs": [],
   "source": [
    "query = \"cats being curious\"\n",
    "max_results = 10"
   ]
  },
  {
   "cell_type": "code",
   "execution_count": null,
   "id": "68b8287d-7508-48d4-b57f-e1fd7c56cfff",
   "metadata": {
    "scrolled": true
   },
   "outputs": [],
   "source": [
    "minilm_results = client.search_index(\"minilm-description.embedding\", \"person dancing on camera\", max_results)\n",
    "clip_results = client.search_index(\"clip-gif.embedding\", \"person dancing on camera\", max_results)"
   ]
  },
  {
   "cell_type": "markdown",
   "id": "e3e916ff-dc70-4eef-9513-b5086605c7ef",
   "metadata": {},
   "source": [
    "#### Merge results"
   ]
  },
  {
   "cell_type": "code",
   "execution_count": null,
   "id": "631216ef-9fbc-4fd3-a761-ef9afd537ed2",
   "metadata": {},
   "outputs": [],
   "source": [
    "results = set()\n",
    "for i in range(max_results):\n",
    "    minilm_url = minilm_results[i].get(\"labels\",{}).get(\"url\")\n",
    "    if minilm_url and minilm_url not in results:\n",
    "        results.add(minilm_url)\n",
    "\n",
    "    clip_url = clip_results[i].get(\"labels\",{}).get(\"url\")\n",
    "    if clip_url and clip_url not in results:\n",
    "        results.add(clip_url)"
   ]
  },
  {
   "cell_type": "code",
   "execution_count": null,
   "id": "41e5c460-b302-4855-b9bb-77b933a4a245",
   "metadata": {},
   "outputs": [],
   "source": [
    "list(results)"
   ]
  }
 ],
 "metadata": {
  "kernelspec": {
   "display_name": "Python 3 (ipykernel)",
   "language": "python",
   "name": "python3"
  },
  "language_info": {
   "codemirror_mode": {
    "name": "ipython",
    "version": 3
   },
   "file_extension": ".py",
   "mimetype": "text/x-python",
   "name": "python",
   "nbconvert_exporter": "python",
   "pygments_lexer": "ipython3",
   "version": "3.11.8"
  }
 },
 "nbformat": 4,
 "nbformat_minor": 5
}
