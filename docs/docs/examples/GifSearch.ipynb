{
 "cells": [
  {
   "cell_type": "markdown",
   "id": "6a46702b-89d8-4717-98c7-983335d802ce",
   "metadata": {},
   "source": [
    "# **GIF search with MiniLM-L6 and CLIP embeddings**\n",
    "\n",
    "<div class=\"align-center\">\n",
    "  <a href=\"https://getindexify.ai/\"><img src=\"https://getindexify.ai/Indexify_Logo_Wordmark.svg\" width=\"145\"></a>\n",
    "  <a href=\"https://discord.com/invite/kF8UZACA7r\"><img src=\"https://raw.githubusercontent.com/rishiraj/random/main/Discord%20button.png\" width=\"145\"></a><br>\n",
    "  Join Discord if you need help + ⭐ <i>Star us on <a href=\"https://github.com/tensorlakeai/indexify\">Github</a></i> ⭐\n",
    "</div>\n",
    "\n",
    "In this notebook, we'll create a semantic GIF search functionality with Indexify and Tumblr GIF dataset https://github.com/raingo/TGIF-Release. We'll use Indexify CLIP and MiniLM-L6 extractors to create embeddings for the GIFs and the search queries. We'll then use the embeddings to find the most similar GIFs to the search query."
   ]
  },
  {
   "cell_type": "markdown",
   "id": "d5afdf56",
   "metadata": {},
   "source": [
    "## **Setup**"
   ]
  },
  {
   "cell_type": "code",
   "execution_count": null,
   "id": "69e1ff27",
   "metadata": {},
   "outputs": [],
   "source": [
    "%pip install requests indexify indexify-extractor-sdk \n",
    "\n",
    "# Download Indexify Server\n",
    "!curl https://getindexify.ai | sh\n",
    "\n",
    "# Download Extractors\n",
    "!indexify-extractor download hub://embedding/clip_embedding\n",
    "!indexify-extractor download hub://embedding/minilm-l6"
   ]
  },
  {
   "cell_type": "markdown",
   "id": "3e3bfb8f",
   "metadata": {},
   "source": [
    "After installing the necessary libraries, download the server, and the extractors, you need to restart the runtime. Then, you have to run Indexify Server with the Extractors.\n",
    "\n",
    "Open 2 terminals and run the following commands:\n",
    "\n",
    "```bash\n",
    "# Terminal 1\n",
    "./indexify server -d\n",
    "\n",
    "# Terminal 2\n",
    "indexify-extractor join-server\n",
    "```"
   ]
  },
  {
   "cell_type": "markdown",
   "id": "653b3f3f-af3e-4834-b4f7-ef736dd02b17",
   "metadata": {},
   "source": [
    "##  **Create Extraction Graph**"
   ]
  },
  {
   "cell_type": "code",
   "execution_count": null,
   "id": "d1207479-0f99-49d8-9cc0-8400ed07688c",
   "metadata": {},
   "outputs": [],
   "source": [
    "from indexify import IndexifyClient, Document\n",
    "client = IndexifyClient()\n",
    "client.extractors()"
   ]
  },
  {
   "cell_type": "code",
   "execution_count": null,
   "id": "c686ab4a",
   "metadata": {},
   "outputs": [],
   "source": [
    "extraction_graph_spec = \"\"\"\n",
    "name: \"gif-search\"\n",
    "extraction_policies:\n",
    "  - extractor: \"tensorlake/clip-extractor\"\n",
    "    name: \"clip\"\n",
    "    labels_eq: \"content:image\"\n",
    "\n",
    "  - extractor: \"tensorlake/minilm-l6\"\n",
    "    name: \"minilm\"\n",
    "\"\"\"\n",
    "\n",
    "extraction_graph = ExtractionGraph.from_yaml(extraction_graph_spec)\n",
    "client.create_extraction_graph(extraction_graph)                                            "
   ]
  },
  {
   "cell_type": "code",
   "execution_count": null,
   "id": "2c13a05d-2b67-405e-85a2-67656b9b18e4",
   "metadata": {},
   "outputs": [],
   "source": [
    "client.indexes()"
   ]
  },
  {
   "cell_type": "markdown",
   "id": "c2c316e8-a32b-4398-b2fd-c99a573292d7",
   "metadata": {},
   "source": [
    "## **Ingesting Data**"
   ]
  },
  {
   "cell_type": "code",
   "execution_count": null,
   "id": "5808e72b-064a-498f-ae65-773092a956fc",
   "metadata": {
    "scrolled": true
   },
   "outputs": [],
   "source": [
    "import requests\n",
    "res = requests.get(\"https://raw.githubusercontent.com/raingo/TGIF-Release/master/data/tgif-v1.0.tsv\")\n",
    "items = res.text.split(\"\\n\")"
   ]
  },
  {
   "cell_type": "code",
   "execution_count": null,
   "id": "0e7707aa-b7ff-442e-8daa-0f267921163c",
   "metadata": {
    "scrolled": true
   },
   "outputs": [],
   "source": [
    "for item in items[0:1000]:\n",
    "    url, text = item.split(\"\\t\")\n",
    "\n",
    "    # validate image\n",
    "    r = requests.get(url)\n",
    "    if r.headers.get(\"Content-Type\") != \"image/gif\":\n",
    "        print(\"image removed\", url)\n",
    "        continue\n",
    "\n",
    "    client.ingest_remote_file(\"gif-search\", url, \"image/gif\", { \"url\":url, \"content\":\"image\" })\n",
    "    content_id = client.add_documents(\"gif-search\", Document(text=text, labels={ \"url\": url }))\n",
    "    client.wait_for_extraction(content_id)"
   ]
  },
  {
   "cell_type": "markdown",
   "id": "159eed02-f975-4a5d-9506-b39d64e4dfd6",
   "metadata": {},
   "source": [
    "## **Search Data**"
   ]
  },
  {
   "cell_type": "code",
   "execution_count": null,
   "id": "05f78341-8664-401d-b937-dda8f8a9ce43",
   "metadata": {},
   "outputs": [],
   "source": [
    "query = \"cats being curious\"\n",
    "max_results = 10"
   ]
  },
  {
   "cell_type": "code",
   "execution_count": null,
   "id": "68b8287d-7508-48d4-b57f-e1fd7c56cfff",
   "metadata": {
    "scrolled": true
   },
   "outputs": [],
   "source": [
    "minilm_results = client.search_index(\"minilm-description.embedding\", \"person dancing on camera\", max_results)\n",
    "clip_results = client.search_index(\"clip-gif.embedding\", \"person dancing on camera\", max_results)"
   ]
  },
  {
   "cell_type": "markdown",
   "id": "e3e916ff-dc70-4eef-9513-b5086605c7ef",
   "metadata": {},
   "source": [
    "### **Merge results**"
   ]
  },
  {
   "cell_type": "code",
   "execution_count": null,
   "id": "631216ef-9fbc-4fd3-a761-ef9afd537ed2",
   "metadata": {},
   "outputs": [],
   "source": [
    "results = set()\n",
    "for i in range(max_results):\n",
    "    minilm_url = minilm_results[i].get(\"labels\",{}).get(\"url\")\n",
    "    if minilm_url and minilm_url not in results:\n",
    "        results.add(minilm_url)\n",
    "\n",
    "    clip_url = clip_results[i].get(\"labels\",{}).get(\"url\")\n",
    "    if clip_url and clip_url not in results:\n",
    "        results.add(clip_url)"
   ]
  },
  {
   "cell_type": "code",
   "execution_count": null,
   "id": "41e5c460-b302-4855-b9bb-77b933a4a245",
   "metadata": {},
   "outputs": [],
   "source": [
    "list(results)"
   ]
  }
 ],
 "metadata": {
  "kernelspec": {
   "display_name": "Python 3 (ipykernel)",
   "language": "python",
   "name": "python3"
  },
  "language_info": {
   "codemirror_mode": {
    "name": "ipython",
    "version": 3
   },
   "file_extension": ".py",
   "mimetype": "text/x-python",
   "name": "python",
   "nbconvert_exporter": "python",
   "pygments_lexer": "ipython3",
   "version": "3.11.8"
  }
 },
 "nbformat": 4,
 "nbformat_minor": 5
}
