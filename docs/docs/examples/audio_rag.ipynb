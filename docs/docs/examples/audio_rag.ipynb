{
 "cells": [
  {
   "cell_type": "code",
   "execution_count": null,
   "id": "b6ed358a-f1ed-4527-8d43-31b6c5cd65fc",
   "metadata": {
    "scrolled": true
   },
   "outputs": [],
   "source": [
    "pip install accelerate ffmpeg indexify"
   ]
  },
  {
   "cell_type": "code",
   "execution_count": 5,
   "id": "12c018d1-b4e6-4fb1-a33a-76e3f6746992",
   "metadata": {},
   "outputs": [],
   "source": [
    "from indexify import IndexifyClient\n",
    "client = IndexifyClient()"
   ]
  },
  {
   "cell_type": "code",
   "execution_count": null,
   "id": "11a7d526-f5ee-466b-8f92-ad58367c0eac",
   "metadata": {},
   "outputs": [],
   "source": [
    "import urllib.request\n",
    "\n",
    "urllib.request.urlretrieve(filename=\"ALLIN-E167.mp3\", url=\"https://content.libsyn.com/p/5/d/f/5df17f8350f43745/ALLIN-E167.mp3?c_id=168165938&cs_id=168165938&destination_id=1928300&response-content-type=audio%2Fmpeg&Expires=1708908562&Signature=aLXFc-TXV3rb53Kg4ntr05zuHq3b5~6c03CPK4HNfhAwwbHbXf59Wan3NG2p0AzOfHWSqmK4A7sEarPdvi89hBMljCOpL~8HvX8aoGSmktgqkghQ4TDl~Q89DZ1gkuFHQ6BlIK5qAcdMA0NyfDhF5JN6UjI1Ja~OHuB6LjP-lZojmQddvfSdiI4oOJuODxQjffwZS1AaBO0z4yB4EcIqzwe46UWEe4ajL3mpgek9rb3ByyYarrewKq7-ZzpaKLFY6SN7cN2KMOPdyMvGw0rzNM9NfApLhyyEwDmDVOIhmoiqu2Act8U-1Oqcu23Hdm0MziL9ILPmRomu0XBfe9au1w__&Key-Pair-Id=K1YS7LZGUP96OI\")"
   ]
  },
  {
   "cell_type": "code",
   "execution_count": 8,
   "id": "1241fd1a-700a-4862-b05c-66aad94bb6c5",
   "metadata": {},
   "outputs": [],
   "source": [
    "client.upload_file(path=\"ALLIN-E167.mp3\")"
   ]
  },
  {
   "cell_type": "code",
   "execution_count": 9,
   "id": "b415a4bb-ad92-4167-96c0-62756ec48ab6",
   "metadata": {},
   "outputs": [],
   "source": [
    "client.add_extraction_policy(extractor='tensorlake/whisper-asr', name=\"audio-transcription\")"
   ]
  },
  {
   "cell_type": "code",
   "execution_count": 10,
   "id": "4fff872b-d524-46f6-b552-882094a20491",
   "metadata": {},
   "outputs": [],
   "source": [
    "client.add_extraction_policy(extractor='tensorlake/minilm-l6', name=\"transcription-embedding\", content_source='audio-transcription')"
   ]
  },
  {
   "cell_type": "code",
   "execution_count": 15,
   "id": "af813967-0d07-49ad-a211-b23ac9c5980d",
   "metadata": {},
   "outputs": [],
   "source": [
    "client.add_extraction_policy(extractor='tensorlake/minilm-l6', name=\"transcription-embedding1\", content_source='audio-transcription', input_params={'chunk_size': 200, 'overlap': 50})"
   ]
  },
  {
   "cell_type": "code",
   "execution_count": 21,
   "id": "1bfdcbff-fa06-4bb2-ac07-429b9f0547a8",
   "metadata": {},
   "outputs": [],
   "source": [
    "client.add_extraction_policy(extractor='openai-embedding-ada-002-extractor', name=\"transcription-embedding2\", content_source='audio-transcription', input_params={'chunk_size': 1000, 'overlap': 200})"
   ]
  },
  {
   "cell_type": "code",
   "execution_count": 3,
   "id": "6cf861c2-07a1-447c-b629-d67f74732f6e",
   "metadata": {},
   "outputs": [],
   "source": [
    "from indexify_langchain import IndexifyRetriever"
   ]
  },
  {
   "cell_type": "code",
   "execution_count": 22,
   "id": "7822afff-b9f0-4a79-82c2-29aeead2427c",
   "metadata": {},
   "outputs": [],
   "source": [
    "params = {\"name\": \"transcription-embedding2.embedding\", \"top_k\": 50}\n",
    "retriever = IndexifyRetriever(client=client, params=params)"
   ]
  },
  {
   "cell_type": "code",
   "execution_count": 23,
   "id": "c7145884-60c8-4ae3-ad43-550ee344a574",
   "metadata": {},
   "outputs": [],
   "source": [
    "from langchain_core.output_parsers import StrOutputParser\n",
    "from langchain_core.prompts import ChatPromptTemplate\n",
    "from langchain_core.runnables import RunnablePassthrough\n",
    "from langchain_openai import ChatOpenAI"
   ]
  },
  {
   "cell_type": "code",
   "execution_count": 24,
   "id": "74736cf9-1ea0-46df-957f-486a85b7a029",
   "metadata": {},
   "outputs": [],
   "source": [
    "template = \"\"\"Answer the question based only on the following context:\n",
    "{context}\n",
    "\n",
    "Question: {question}\n",
    "\"\"\"\n",
    "prompt = ChatPromptTemplate.from_template(template)\n",
    "\n",
    "model = ChatOpenAI(openai_api_key=\"\")\n",
    "\n",
    "chain = (\n",
    "    {\"context\": retriever, \"question\": RunnablePassthrough()}\n",
    "    | prompt\n",
    "    | model\n",
    "    | StrOutputParser()\n",
    ")\n"
   ]
  },
  {
   "cell_type": "code",
   "execution_count": 25,
   "id": "1da434f0-1a5f-476c-ab2d-dd4c726e37cc",
   "metadata": {},
   "outputs": [
    {
     "data": {
      "text/plain": [
       "'Grok is a company that has had a significant viral moment in its history recently. It was founded in 2016 and has been a long road for the company. The company has seen a surge in customers and interest, with 3,000 unique customers trying to consume their resources in a short period, ranging from Fortune 500 companies to developers. The company has been fortunate to experience this growth and potential disruption in the market. Time will tell how big the company can get, but there is a lot of market cap for Grok to gain by producing things at scale. The company has been described as a meager unicorn, with a last valuation of around a billion dollars. The potential for Grok to be disruptive in the market is significant, and it has had a very exciting and important moment in its history recently.'"
      ]
     },
     "execution_count": 25,
     "metadata": {},
     "output_type": "execute_result"
    }
   ],
   "source": [
    "chain.invoke(\"Tell me about Grok\")"
   ]
  },
  {
   "cell_type": "code",
   "execution_count": null,
   "id": "47ffe9b5-24e3-41c9-a00f-5b15dd77faf0",
   "metadata": {},
   "outputs": [],
   "source": []
  }
 ],
 "metadata": {
  "kernelspec": {
   "display_name": "Python 3 (ipykernel)",
   "language": "python",
   "name": "python3"
  },
  "language_info": {
   "codemirror_mode": {
    "name": "ipython",
    "version": 3
   },
   "file_extension": ".py",
   "mimetype": "text/x-python",
   "name": "python",
   "nbconvert_exporter": "python",
   "pygments_lexer": "ipython3",
   "version": "3.11.0rc1"
  }
 },
 "nbformat": 4,
 "nbformat_minor": 5
}
