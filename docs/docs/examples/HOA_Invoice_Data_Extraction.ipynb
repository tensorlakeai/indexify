{
 "cells": [
  {
   "cell_type": "markdown",
   "metadata": {},
   "source": [
    "# Extracting HOA Transaction Data from a PDF using Indexify\n",
    "\n",
    "In this notebook, we're going to learn how we can extract transactional data from a PDF using Indexify. For that, we'll be using a sample PDF that contains transactional data from a Home Owners Association (HOA).\n",
    "\n",
    "We will explore several way to extract this data from the PDF using Indexify Extractor into a structured format that we can use further for RAG pipeline for example.\n",
    "\n",
    "![Preview data](https://i.postimg.cc/XYCqNP0p/hoa.png)"
   ]
  },
  {
   "cell_type": "markdown",
   "metadata": {
    "id": "r9NVuXFG3qGw"
   },
   "source": [
    "## Install the Indexify Extractor SDK, Langchain Retriever and the Indexify Client"
   ]
  },
  {
   "cell_type": "code",
   "execution_count": 2,
   "metadata": {
    "id": "udB1A9ee1RFv"
   },
   "outputs": [],
   "source": [
    "%%capture\n",
    "!pip install indexify-extractor-sdk indexify virtualenv"
   ]
  },
  {
   "cell_type": "markdown",
   "metadata": {},
   "source": [
    "## Trying out different extractors offered\n",
    "\n",
    "We have several PDF and Invoice Extractor. Here are a few extractors that worked really well to get various fields from my HOA receipt.\n",
    "\n",
    "First, get a taste of playing with these extractors locally."
   ]
  },
  {
   "cell_type": "markdown",
   "metadata": {},
   "source": [
    "### PDFExtractor & SchemaExtractor\n",
    "First, we will try PDFExtractor with SchemaExtractor. By default the SchemaExtractor uses OpenAI and works on the Content of chained extractor as data for JSON extraction from schema, however we can manually overwrite both the schema and the data. It can extract all the values from text in one shot.\n",
    "\n",
    "Download the PDF extractor and Schema extractor:"
   ]
  },
  {
   "cell_type": "code",
   "execution_count": null,
   "metadata": {},
   "outputs": [],
   "source": [
    "!indexify-extractor download hub://pdf/pdf-extractor\n",
    "!indexify-extractor download hub://text/schema"
   ]
  },
  {
   "cell_type": "markdown",
   "metadata": {},
   "source": [
    "Load the PDF extractor and the file:"
   ]
  },
  {
   "cell_type": "code",
   "execution_count": 1,
   "metadata": {},
   "outputs": [
    {
     "name": "stderr",
     "output_type": "stream",
     "text": [
      "/Users/rishiraj/miniconda3/envs/tensorlake/lib/python3.10/site-packages/tqdm/auto.py:21: TqdmWarning: IProgress not found. Please update jupyter and ipywidgets. See https://ipywidgets.readthedocs.io/en/stable/user_install.html\n",
      "  from .autonotebook import tqdm as notebook_tqdm\n"
     ]
    }
   ],
   "source": [
    "import requests\n",
    "req = requests.get(\"https://pub-226479de18b2493f96b64c6674705dd8.r2.dev/Statement_HOA.pdf\")\n",
    "\n",
    "with open('Statement_HOA.pdf','wb') as f:\n",
    "    f.write(req.content)\n",
    "\n",
    "from indexify_extractor_sdk import load_extractor, Content\n",
    "\n",
    "pdfextractor, pdfconfig_cls = load_extractor(\"pdf-extractor.pdf_extractor:PDFExtractor\")\n",
    "content = Content.from_file(\"Statement_HOA.pdf\")"
   ]
  },
  {
   "cell_type": "markdown",
   "metadata": {},
   "source": [
    "Extract the data and find the content with content_type 'text/plain'::"
   ]
  },
  {
   "cell_type": "code",
   "execution_count": 21,
   "metadata": {},
   "outputs": [
    {
     "name": "stderr",
     "output_type": "stream",
     "text": [
      "100%|██████████| 13/13 [00:02<00:00,  5.51it/s]"
     ]
    },
    {
     "name": "stdout",
     "output_type": "stream",
     "text": [
      "Max number of columns: 6\n"
     ]
    },
    {
     "name": "stderr",
     "output_type": "stream",
     "text": [
      "\n"
     ]
    },
    {
     "data": {
      "text/plain": [
       "'Axis\\nSTATEMENT\\nAccount Number:\\nOwner:\\nProperty:SUMMAR\\nY OF ACCOUNT\\nLast Month Balance:\\nCurrent Amount Due:$653.03\\n$653.03\\nAccount details on back.\\nProfessionally\\nprepared by:\\nSTATEMENT MESSAGE\\nWelcome to Action Property Management! We are excited to be\\nserving your community. Our Community Care team is more than\\nhappy to assist you with any billing questions you may have. For\\ncontact options, please visit www.actionlife.com/contact. Visit the\\nAction Property Management web page at: www.actionlife.com.BILLING QUESTIONS\\nScan the QR code to\\ncontact our\\nCommunity Care\\nteam.\\nactionlife.com/contact\\nCommunityCare@actionlife.com\\nTo learn more about issues facing HOAs, say \"Hey Siri, search the web for The Uncommon Area by Action Property Management.\"\\nMake checks payable to:\\nAxis\\nPLEA\\nSE REMIT PAYMENT TO:\\n** AUTOPAY SCHEDULED **\\n** NO REMITTANCE NECESSARY **CURRENT AMOUNT DUE\\n$653.03\\nDUE DATE\\n5/1/202492287435600\\nJohn Doe\\n200 Park Avenue, \\nManhattan, New York 10166\\nAccount Number:  92287435600\\nOwner:  John DoeInvoice Number:  918273-64500\\nDate:  4/19/2024\\nRegistration Key/ID:\\nFLOWR2U'"
      ]
     },
     "execution_count": 21,
     "metadata": {},
     "output_type": "execute_result"
    }
   ],
   "source": [
    "pdf_result = pdfextractor.extract(content)\n",
    "text_content = next(content.data.decode('utf-8') for content in pdf_result if content.content_type == 'text/plain')\n",
    "text_content"
   ]
  },
  {
   "cell_type": "markdown",
   "metadata": {},
   "source": [
    "Load the Schema extractor and extract the JSON using the Schema extractor:"
   ]
  },
  {
   "cell_type": "code",
   "execution_count": null,
   "metadata": {},
   "outputs": [],
   "source": [
    "from pydantic import BaseModel\n",
    "\n",
    "class Invoice(BaseModel):\n",
    "    invoice_number: str\n",
    "    date: str\n",
    "    account_number: str\n",
    "    owner: str\n",
    "    address: str\n",
    "    last_month_balance: str\n",
    "    current_amount_due: str\n",
    "    registration_key: str\n",
    "    due_date: str"
   ]
  },
  {
   "cell_type": "code",
   "execution_count": 12,
   "metadata": {},
   "outputs": [],
   "source": [
    "schema = Invoice.model_json_schema()"
   ]
  },
  {
   "cell_type": "code",
   "execution_count": 13,
   "metadata": {},
   "outputs": [
    {
     "data": {
      "text/plain": [
       "'{\\n  \"invoice_number\": \"918273-64500\",\\n  \"date\": \"4/19/2024\",\\n  \"account_number\": \"92287435600\",\\n  \"owner\": \"John Doe\",\\n  \"address\": \"200 Park Avenue, Manhattan, New York 10166\",\\n  \"last_month_balance\": \"$653.03\",\\n  \"current_amount_due\": \"$653.03\",\\n  \"registration_key\": \"FLOWR2U\",\\n  \"due_date\": \"5/1/2024\"\\n}'"
      ]
     },
     "execution_count": 13,
     "metadata": {},
     "output_type": "execute_result"
    }
   ],
   "source": [
    "schemaextractor, schemaconfig_cls = load_extractor(\"schema.schema_extractor:SchemaExtractor\")\n",
    "\n",
    "config = schemaconfig_cls(service=\"openai\", schema=schema)\n",
    "result = schemaextractor.extract(Content.from_text(text_content), config)\n",
    "llm_content = next(content.data.decode('utf-8') for content in result if content.content_type == 'text/plain')\n",
    "llm_content"
   ]
  },
  {
   "cell_type": "markdown",
   "metadata": {},
   "source": [
    "### PDFExtractor & LLMExtractor\n",
    "Next, for more control, we will try PDFExtractor with LLMExtractor. The PDFExtractor can extract all the values from text as well as tables in one shot and passes it to the chained LLMExtractor which can be used for question answering.\n",
    "\n",
    "Download the LLM extractor:"
   ]
  },
  {
   "cell_type": "code",
   "execution_count": null,
   "metadata": {},
   "outputs": [],
   "source": [
    "!indexify-extractor download hub://text/llm"
   ]
  },
  {
   "cell_type": "markdown",
   "metadata": {},
   "source": [
    "Load the LLM extractor and extract the JSON using the LLM extractor:"
   ]
  },
  {
   "cell_type": "code",
   "execution_count": 18,
   "metadata": {},
   "outputs": [],
   "source": [
    "query = \"by when do I have to make the payment and what amount? also what was the EV charge amount?\"\n",
    "prompt = \"\"\"Extract information according to this schema and return json in this format {\"Invoice No.\": \"\", \"Date\": \"\", \"Account Number\": \"\", \"Owner\": \"\", \"Address\": \"\", \"Registration Key\": \"\", \"Last Month Balance\": \"\", \"Current Amount Due\": \"\", \"Due Date\": \"\"}:\n",
    "Axis\\nSTATEMENTInvoice No. \"Invoice No.\"\\nDate: 4/19/2024\\nAccount Number:\\nOwner:\\nProperty:\"Account Number\"\\n\"Owner\"\\n\"Property\"\\n\"Owner\"\\n\"Property\"\\n\"Address\"SUMMARY OF ACCOUNT\\nLast Month Balance:\\nCurrent Amount Due:\"Last Month Balance\"\\n\"Current Amount Due\"\\nAccount details on back.\\nProfessionally\\nprepared by:\\nSTATEMENT MESSAGE\\nWelcome to Action Property Management! We are excited to be\\nserving your community. Our Community Care team is more than\\nhappy to assist you with any billing questions you may have. For\\ncontact options, please visit www.actionlife.com/contact. Visit the\\nAction Property Management web page at: www.actionlife.com.BILLING QUESTIONS\\nScan the QR code to\\ncontact our\\nCommunity Care\\nteam.\\nactionlife.com/contact\\nCommunityCare@actionlife.com\\nRegister your Resident\\nPortal account now!\\nRegistration Key/ID:\\n\"Registration Key\"\\nresident.actionlife.com\\nTo learn more about issues facing HOAs, say \"Hey Siri, search the web for The Uncommon Area by Action Property Management.\"\\nMake checks payable to:\\nAxisAccount Number: \"Account Number\"\\nOwner: \"Owner\"\\nPLEASE REMIT PAYMENT TO:\\n** AUTOPAY SCHEDULED **\\n** NO REMITTANCE NECESSARY **CURRENT AMOUNT DUE\\n\"Current Amount Due\"\\nDUE DATE\\n\"Due Date\"\\n0049 00008330 0000922000203826 7 00065303 00000000 9\"\"\""
   ]
  },
  {
   "cell_type": "code",
   "execution_count": 19,
   "metadata": {},
   "outputs": [
    {
     "data": {
      "text/plain": [
       "'{\\n    \"Invoice No.\": \"918273-64500\",\\n    \"Date\": \"4/19/2024\",\\n    \"Account Number\": \"92287435600\",\\n    \"Owner\": \"John Doe\",\\n    \"Address\": \"200 Park Avenue, Manhattan, New York 10166\",\\n    \"Registration Key\": \"FLOWR2U\",\\n    \"Last Month Balance\": \"$653.03\",\\n    \"Current Amount Due\": \"$653.03\",\\n    \"Due Date\": \"5/1/2024\"\\n}'"
      ]
     },
     "execution_count": 19,
     "metadata": {},
     "output_type": "execute_result"
    }
   ],
   "source": [
    "llmextractor, llmconfig_cls = load_extractor(\"llm.llm_extractor:LLMExtractor\")\n",
    "\n",
    "config = llmconfig_cls(service=\"openai\", prompt=prompt)\n",
    "result = llmextractor.extract(Content.from_text(text_content), config)\n",
    "llm_content = next(content.data.decode('utf-8') for content in result if content.content_type == 'text/plain')\n",
    "llm_content"
   ]
  },
  {
   "cell_type": "markdown",
   "metadata": {},
   "source": [
    "#### Table Extraction\n",
    "The document also has tables in it so let's find the data from tables with content_type 'application/json' and get it in a dataframe:"
   ]
  },
  {
   "cell_type": "code",
   "execution_count": 22,
   "metadata": {},
   "outputs": [
    {
     "name": "stdout",
     "output_type": "stream",
     "text": [
      "             0                           1                                2  \\\n",
      "0         Date                 Description                       Assessment   \n",
      "1   02/01/2024                      Charge                 Storage Fee 2024   \n",
      "2   02/01/2024   Monthly Assessment- A12H2  Monthly Assessment- A12 H2 2024   \n",
      "3   02/06/2024                      Charge               EV Charge Fee 2024   \n",
      "4   02/11/2024                      eCheck                           eCheck   \n",
      "5   03/01/2024  Monthly Assessment- A12 H2  Monthly Assessment- A12 H2 2024   \n",
      "6   03/01/2024                      Charge                  StorageFee 2024   \n",
      "7   03/11/2024                      eCheck                           eCheck   \n",
      "8   04/01/2024                      Charge                 Storage Fee 2024   \n",
      "9   04/01/2024  Monthly Assessment- A12 H2  Monthly Assessment- A12 H2 2024   \n",
      "10  04/11/2024                      eCheck                           eCheck   \n",
      "11  05/01/2024  Monthly Assessment- A12 H2  Monthly Assessment- A12 H2 2024   \n",
      "12  05/01/2024                      Charge                  StorageFee 2024   \n",
      "\n",
      "         3           4          5  \n",
      "0     Type      Amount    Balance  \n",
      "1   Charge      $50.00    $100.00  \n",
      "2   Charge     s603.03    $703.03  \n",
      "3   Charge     8599.55  $1,302.58  \n",
      "4   eCheck  $-1,302.58      S0.00  \n",
      "5   Charge     S603.03    $603.03  \n",
      "6   Charge      $50.00    $653.03  \n",
      "7   eCheck    $-653.03      So.00  \n",
      "8   Charge      S50.00     S50.00  \n",
      "9   Charge     S603.03    $653.03  \n",
      "10  eCheck    $-653.03      So.0o  \n",
      "11  Charge     $603.03    $603.03  \n",
      "12  Charge      s50.00    S653.03  \n"
     ]
    }
   ],
   "source": [
    "import json\n",
    "import pandas as pd\n",
    "\n",
    "json_content = next(content.data for content in pdf_result if content.content_type == 'application/json')\n",
    "\n",
    "# Convert the JSON string to a Python dictionary\n",
    "data_dict = json.loads(json_content)\n",
    "\n",
    "# Convert the dictionary to a pandas DataFrame\n",
    "df = pd.DataFrame.from_dict(data_dict, orient='index')\n",
    "\n",
    "# Print the DataFrame\n",
    "print(df)"
   ]
  },
  {
   "cell_type": "markdown",
   "metadata": {},
   "source": [
    "Question answering with extracted content:"
   ]
  },
  {
   "cell_type": "code",
   "execution_count": 25,
   "metadata": {},
   "outputs": [
    {
     "data": {
      "text/plain": [
       "'You have to make the payment by May 1, 2024, and the amount due is $653.03. The EV charge amount was $8599.55.'"
      ]
     },
     "execution_count": 25,
     "metadata": {},
     "output_type": "execute_result"
    }
   ],
   "source": [
    "config = llmconfig_cls(service=\"openai\", prompt=str(data_dict) + str(llm_content))\n",
    "result = llmextractor.extract(Content.from_text(query), config)\n",
    "llm_content = next(content.data.decode('utf-8') for content in result if content.content_type == 'text/plain')\n",
    "llm_content"
   ]
  },
  {
   "cell_type": "markdown",
   "metadata": {},
   "source": [
    "### LayoutLMDocumentQA\n",
    "Next we try LayoutLMDocumentQA. It can't extract all the values in one shot, but can answer to single questions.\n",
    "\n",
    "Download the extractor:"
   ]
  },
  {
   "cell_type": "code",
   "execution_count": null,
   "metadata": {},
   "outputs": [],
   "source": [
    "!indexify-extractor download hub://pdf/layoutlm_document_qa"
   ]
  },
  {
   "cell_type": "markdown",
   "metadata": {},
   "source": [
    "Load the extractor and the file:"
   ]
  },
  {
   "cell_type": "code",
   "execution_count": 17,
   "metadata": {
    "scrolled": true
   },
   "outputs": [],
   "source": [
    "from indexify_extractor_sdk import load_extractor, Content\n",
    "extractor, config_cls = load_extractor(\"layoutlm_document_qa.layoutlm_document_qa:LayoutLMDocumentQA\")"
   ]
  },
  {
   "cell_type": "markdown",
   "metadata": {},
   "source": [
    "Ask question to the extractor:"
   ]
  },
  {
   "cell_type": "code",
   "execution_count": 9,
   "metadata": {},
   "outputs": [
    {
     "data": {
      "text/plain": [
       "[Feature(feature_type='metadata', name='metadata', value={'query': \"What's the due date?\", 'answer': '5/1/2024', 'page': 0, 'score': 0.9999791383743286}, comment=None)]"
      ]
     },
     "execution_count": 9,
     "metadata": {},
     "output_type": "execute_result"
    }
   ],
   "source": [
    "config = config_cls(query=\"What's the due date?\")\n",
    "result = extractor.extract(content, config)\n",
    "result"
   ]
  },
  {
   "cell_type": "markdown",
   "metadata": {
    "id": "nGrirc_G3zSI"
   },
   "source": [
    "## Start the Indexify Server\n",
    "\n",
    "To make this extractor continously extract - \n",
    "1. Download the Indexify Server\n",
    "2. Start it in development mode on your laptop\n",
    "3. Create extraction policies with questions that extracts the fields from the PDF\n",
    "4. Finally, you can get all the extracted value for a document by making an API call\n",
    "\n",
    "### Download the Server\n",
    "```bash\n",
    "curl https://tensorlake.ai | sh\n",
    "```"
   ]
  },
  {
   "cell_type": "code",
   "execution_count": null,
   "metadata": {
    "id": "prTC7y7i3UCu"
   },
   "outputs": [],
   "source": [
    "!./indexify server -d"
   ]
  },
  {
   "cell_type": "markdown",
   "metadata": {},
   "source": [
    "### Create the Extraction Policies\n"
   ]
  },
  {
   "cell_type": "code",
   "execution_count": 2,
   "metadata": {
    "id": "HZNysNl-631k"
   },
   "outputs": [],
   "source": [
    "from indexify import IndexifyClient\n",
    "client = IndexifyClient()"
   ]
  },
  {
   "cell_type": "code",
   "execution_count": 3,
   "metadata": {},
   "outputs": [],
   "source": [
    "client.add_extraction_policy(extractor='tensorlake/layoutlm-document-qa-extractor', name=\"hoa-fees-due-date\", input_params={\"query\": \"Whats the due date?\"})\n",
    "client.add_extraction_policy(extractor='tensorlake/layoutlm-document-qa-extractor', name=\"hoa-fees-outstanding\", input_params={\"query\": \"Whats the outstanding amount?\"})"
   ]
  },
  {
   "cell_type": "markdown",
   "metadata": {},
   "source": [
    "### Upload Files"
   ]
  },
  {
   "cell_type": "code",
   "execution_count": 4,
   "metadata": {},
   "outputs": [],
   "source": [
    "content_id = client.upload_file(\"Statement_HOA.pdf\")"
   ]
  },
  {
   "cell_type": "code",
   "execution_count": 6,
   "metadata": {},
   "outputs": [
    {
     "data": {
      "text/plain": [
       "[{'id': '3Ie8VXVxfNTPAL5L',\n",
       "  'content_id': 'efcf0931508836d3',\n",
       "  'metadata': {'answer': '5/1/2024',\n",
       "   'page': 0,\n",
       "   'query': 'Whats the due date?',\n",
       "   'score': 0.9999799728393556},\n",
       "  'extractor_name': 'tensorlake/layoutlm-document-qa-extractor'},\n",
       " {'id': 'VmCTqMFR-m7IG0nn',\n",
       "  'content_id': 'efcf0931508836d3',\n",
       "  'metadata': {'answer': '$603.03',\n",
       "   'page': 1,\n",
       "   'query': 'Whats the outstanding amount?',\n",
       "   'score': 0.9992976188659668},\n",
       "  'extractor_name': 'tensorlake/layoutlm-document-qa-extractor'}]"
      ]
     },
     "execution_count": 6,
     "metadata": {},
     "output_type": "execute_result"
    }
   ],
   "source": [
    "client.get_structured_data(content_id)"
   ]
  },
  {
   "cell_type": "code",
   "execution_count": 36,
   "metadata": {},
   "outputs": [
    {
     "data": {
      "text/plain": [
       "SqlQueryResult(result=[{'answer': '$603.03', 'content_id': 'd8ec685dd9cc3505', 'page': 1, 'query': 'Whats the outstanding amount?', 'score': 0.9992976188659668}, {'answer': '5/1/2024', 'content_id': 'd8ec685dd9cc3505', 'page': 0, 'query': 'Whats the due date?', 'score': 0.9999799728393556}])"
      ]
     },
     "execution_count": 36,
     "metadata": {},
     "output_type": "execute_result"
    }
   ],
   "source": [
    "client.sql_query(\"select * from ingestion;\")"
   ]
  }
 ],
 "metadata": {
  "colab": {
   "provenance": []
  },
  "kernelspec": {
   "display_name": "Python 3 (ipykernel)",
   "language": "python",
   "name": "python3"
  },
  "language_info": {
   "codemirror_mode": {
    "name": "ipython",
    "version": 3
   },
   "file_extension": ".py",
   "mimetype": "text/x-python",
   "name": "python",
   "nbconvert_exporter": "python",
   "pygments_lexer": "ipython3",
   "version": "3.10.14"
  }
 },
 "nbformat": 4,
 "nbformat_minor": 4
}
