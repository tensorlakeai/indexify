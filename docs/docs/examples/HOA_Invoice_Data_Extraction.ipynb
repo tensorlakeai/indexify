{
 "cells": [
  {
   "cell_type": "markdown",
   "metadata": {
    "id": "r9NVuXFG3qGw"
   },
   "source": [
    "### Install the Indexify Extractor SDK, Langchain Retriever and the Indexify Client"
   ]
  },
  {
   "cell_type": "code",
   "execution_count": 2,
   "metadata": {
    "id": "udB1A9ee1RFv"
   },
   "outputs": [],
   "source": [
    "%%capture\n",
    "!pip install indexify-extractor-sdk indexify virtualenv"
   ]
  },
  {
   "cell_type": "markdown",
   "metadata": {},
   "source": [
    "### Trying out different extractors offered\n",
    "\n",
    "We have several PDF and Invoice Extractor. Here are a few extractors that worked really well to get various fields from my HOA receipt.\n",
    "\n",
    "First, get a taste of playing with these extractors locally."
   ]
  },
  {
   "cell_type": "markdown",
   "metadata": {},
   "source": [
    "#### PDFExtractor\n",
    "First, we will try PDFExtractor. It can extract all the values from text as well as tables in one shot which can be used for question answering.\n",
    "\n",
    "Download the extractor:"
   ]
  },
  {
   "cell_type": "code",
   "execution_count": null,
   "metadata": {},
   "outputs": [],
   "source": [
    "!indexify-extractor download hub://pdf/pdf-extractor"
   ]
  },
  {
   "cell_type": "markdown",
   "metadata": {},
   "source": [
    "Load the extractor and the file:"
   ]
  },
  {
   "cell_type": "code",
   "execution_count": 19,
   "metadata": {},
   "outputs": [],
   "source": [
    "from indexify_extractor_sdk import load_extractor, Content\n",
    "extractor, config_cls = load_extractor(\"pdf-extractor.pdf_extractor:PDFExtractor\")\n",
    "content = Content.from_file(\"/Users/rishiraj/tensorlakeai/experiments/forms/Statement_HOA.pdf\")"
   ]
  },
  {
   "cell_type": "markdown",
   "metadata": {},
   "source": [
    "Extract the data:"
   ]
  },
  {
   "cell_type": "code",
   "execution_count": null,
   "metadata": {},
   "outputs": [],
   "source": [
    "result = extractor.extract(content)"
   ]
  },
  {
   "cell_type": "markdown",
   "metadata": {},
   "source": [
    "Find the content with content_type 'text/plain':"
   ]
  },
  {
   "cell_type": "code",
   "execution_count": 21,
   "metadata": {},
   "outputs": [
    {
     "data": {
      "text/plain": [
       "'Axis\\nSTATEMENTInvoice No. 20240501-336593\\nDate: 4/19/2024\\nAccount Number:\\nOwner:\\nProperty:922000203826\\nJohn Doe\\n200 Park Avenue, Manhattan\\nJohn Doe\\n200 Park Avenue Manhattan\\nNew York 10166SUMMARY OF ACCOUNT\\nLast Month Balance:\\nCurrent Amount Due:$653.03\\n$653.03\\nAccount details on back.\\nProfessionally\\nprepared by:\\nSTATEMENT MESSAGE\\nWelcome to Action Property Management! We are excited to be\\nserving your community. Our Community Care team is more than\\nhappy to assist you with any billing questions you may have. For\\ncontact options, please visit www.actionlife.com/contact. Visit the\\nAction Property Management web page at: www.actionlife.com.BILLING QUESTIONS\\nScan the QR code to\\ncontact our\\nCommunity Care\\nteam.\\nactionlife.com/contact\\nCommunityCare@actionlife.com\\nRegister your Resident\\nPortal account now!\\nRegistration Key/ID:\\nFLOWR2U\\nresident.actionlife.com\\nTo learn more about issues facing HOAs, say \"Hey Siri, search the web for The Uncommon Area by Action Property Management.\"\\nMake checks payable to:\\nAxisAccount Number: 922000203826\\nOwner: John Doe\\nPLEASE REMIT PAYMENT TO:\\n** AUTOPAY SCHEDULED **\\n** NO REMITTANCE NECESSARY **CURRENT AMOUNT DUE\\n$653.03\\nDUE DATE\\n5/1/2024\\n0049 00008330 0000922000203826 7 00065303 00000000 9'"
      ]
     },
     "execution_count": 21,
     "metadata": {},
     "output_type": "execute_result"
    }
   ],
   "source": [
    "text_content = next(content.data.decode('utf-8') for content in result if content.content_type == 'text/plain')\n",
    "text_content"
   ]
  },
  {
   "cell_type": "markdown",
   "metadata": {},
   "source": [
    "Find the content with content_type 'application/json':"
   ]
  },
  {
   "cell_type": "code",
   "execution_count": 22,
   "metadata": {},
   "outputs": [
    {
     "name": "stdout",
     "output_type": "stream",
     "text": [
      "             0                           1                                2  \\\n",
      "0         Date                 Description                       Assessment   \n",
      "1   02/01/2024                      Charge                 Storage Fee 2024   \n",
      "2   02/01/2024   Monthly Assessment- A12H2  Monthly Assessment- A12 H2 2024   \n",
      "3   02/06/2024                      Charge               EV Charge Fee 2024   \n",
      "4   02/11/2024                      eCheck                           eCheck   \n",
      "5   03/01/2024  Monthly Assessment- A12 H2  Monthly Assessment- A12 H2 2024   \n",
      "6   03/01/2024                      Charge                  StorageFee 2024   \n",
      "7   03/11/2024                      eCheck                           eCheck   \n",
      "8   04/01/2024                      Charge                 Storage Fee 2024   \n",
      "9   04/01/2024  Monthly Assessment- A12 H2  Monthly Assessment- A12 H2 2024   \n",
      "10  04/11/2024                      eCheck                           eCheck   \n",
      "11  05/01/2024   Monthly Assessment- A12H2  Monthly Assessment- A12 H2 2024   \n",
      "12  05/01/2024                      Charge                  StorageFee 2024   \n",
      "\n",
      "         3           4          5  \n",
      "0     Type      Amount    Balance  \n",
      "1   Charge      $50.00    $100.00  \n",
      "2   Charge     s603.03    $703.03  \n",
      "3   Charge     8599.55  $1,302.58  \n",
      "4   eCheck  $-1,302.58      S0.00  \n",
      "5   Charge     S603.03    $603.03  \n",
      "6   Charge      $50.00    $653.03  \n",
      "7   eCheck    $-653.03      S0.00  \n",
      "8   Charge      S50.00     $50.00  \n",
      "9   Charge     S603.03    $653.03  \n",
      "10  eCheck    $-653.03      So.00  \n",
      "11  Charge     s603.03    S603.03  \n",
      "12  Charge      s50.00    5653.03  \n"
     ]
    }
   ],
   "source": [
    "import json\n",
    "import pandas as pd\n",
    "\n",
    "json_content = next(content.data for content in result if content.content_type == 'application/json')\n",
    "\n",
    "# Convert the JSON string to a Python dictionary\n",
    "data_dict = json.loads(json_content)\n",
    "\n",
    "# Convert the dictionary to a pandas DataFrame\n",
    "df = pd.DataFrame.from_dict(data_dict, orient='index')\n",
    "\n",
    "# Print the DataFrame\n",
    "print(df)"
   ]
  },
  {
   "cell_type": "markdown",
   "metadata": {},
   "source": [
    "Extract JSON from text content:"
   ]
  },
  {
   "cell_type": "code",
   "execution_count": 26,
   "metadata": {},
   "outputs": [],
   "source": [
    "prompt = \"\"\"Extract information according to this schema and return json in this format {\"Invoice No.\": \"\", \"Date\": \"\", \"Account Number\": \"\", \"Owner\": \"\", \"Property\": \"\", \"Address\": \"\", \"Registration Key\": \"\", \"Last Month Balance\": \"\", \"Current Amount Due\": \"\", \"Due Date\": \"\"}:\n",
    "Axis\\nSTATEMENTInvoice No. \"Invoice No.\"\\nDate: 4/19/2024\\nAccount Number:\\nOwner:\\nProperty:\"Account Number\"\\n\"Owner\"\\n\"Property\"\\n\"Owner\"\\n\"Property\"\\n\"Address\"SUMMARY OF ACCOUNT\\nLast Month Balance:\\nCurrent Amount Due:\"Last Month Balance\"\\n\"Current Amount Due\"\\nAccount details on back.\\nProfessionally\\nprepared by:\\nSTATEMENT MESSAGE\\nWelcome to Action Property Management! We are excited to be\\nserving your community. Our Community Care team is more than\\nhappy to assist you with any billing questions you may have. For\\ncontact options, please visit www.actionlife.com/contact. Visit the\\nAction Property Management web page at: www.actionlife.com.BILLING QUESTIONS\\nScan the QR code to\\ncontact our\\nCommunity Care\\nteam.\\nactionlife.com/contact\\nCommunityCare@actionlife.com\\nRegister your Resident\\nPortal account now!\\nRegistration Key/ID:\\n\"Registration Key\"\\nresident.actionlife.com\\nTo learn more about issues facing HOAs, say \"Hey Siri, search the web for The Uncommon Area by Action Property Management.\"\\nMake checks payable to:\\nAxisAccount Number: \"Account Number\"\\nOwner: \"Owner\"\\nPLEASE REMIT PAYMENT TO:\\n** AUTOPAY SCHEDULED **\\n** NO REMITTANCE NECESSARY **CURRENT AMOUNT DUE\\n\"Current Amount Due\"\\nDUE DATE\\n\"Due Date\"\\n0049 00008330 0000922000203826 7 00065303 00000000 9\"\"\""
   ]
  },
  {
   "cell_type": "code",
   "execution_count": 29,
   "metadata": {},
   "outputs": [
    {
     "data": {
      "text/plain": [
       "'{\\n    \"Invoice No.\": \"20240501-336593\",\\n    \"Date\": \"4/19/2024\",\\n    \"Account Number\": \"922000203826\",\\n    \"Owner\": \"John Doe\",\\n    \"Property\": \"200 Park Avenue, Manhattan\",\\n    \"Address\": \"200 Park Avenue Manhattan, New York 10166\",\\n    \"Registration Key\": \"FLOWR2U\",\\n    \"Last Month Balance\": \"$653.03\",\\n    \"Current Amount Due\": \"$653.03\",\\n    \"Due Date\": \"5/1/2024\"\\n}'"
      ]
     },
     "execution_count": 29,
     "metadata": {},
     "output_type": "execute_result"
    }
   ],
   "source": [
    "from openai import OpenAI\n",
    "client = OpenAI(api_key=\"\")\n",
    "\n",
    "response = client.chat.completions.create(\n",
    "  model=\"gpt-3.5-turbo\",\n",
    "  messages=[\n",
    "    {\"role\": \"system\", \"content\": prompt},\n",
    "    {\"role\": \"user\", \"content\": text_content}\n",
    "  ]\n",
    ")\n",
    "\n",
    "text_dict = response.choices[0].message.content\n",
    "text_dict"
   ]
  },
  {
   "cell_type": "markdown",
   "metadata": {},
   "source": [
    "Question answering with extracted content:"
   ]
  },
  {
   "cell_type": "code",
   "execution_count": 32,
   "metadata": {},
   "outputs": [
    {
     "data": {
      "text/plain": [
       "'You have to make the payment of $653.03 by the due date of 5/1/2024. \\n\\nThe EV charge amount was $8599.55.'"
      ]
     },
     "execution_count": 32,
     "metadata": {},
     "output_type": "execute_result"
    }
   ],
   "source": [
    "response = client.chat.completions.create(\n",
    "  model=\"gpt-3.5-turbo\",\n",
    "  messages=[\n",
    "    {\"role\": \"system\", \"content\": str(data_dict) + str(text_dict)},\n",
    "    {\"role\": \"user\", \"content\": \"by when do I have to make the payment and what amount? also what was the EV charge amount?\"}\n",
    "  ]\n",
    ")\n",
    "\n",
    "text_dict = response.choices[0].message.content\n",
    "text_dict"
   ]
  },
  {
   "cell_type": "markdown",
   "metadata": {},
   "source": [
    "#### LayoutLMDocumentQA\n",
    "Next we try LayoutLMDocumentQA. It can't extract all the values in one shot, but can answer to single questions.\n",
    "\n",
    "Download the extractor:"
   ]
  },
  {
   "cell_type": "code",
   "execution_count": null,
   "metadata": {},
   "outputs": [],
   "source": [
    "!indexify-extractor download hub://pdf/layoutlm_document_qa"
   ]
  },
  {
   "cell_type": "markdown",
   "metadata": {},
   "source": [
    "Load the extractor and the file:"
   ]
  },
  {
   "cell_type": "code",
   "execution_count": 8,
   "metadata": {
    "scrolled": true
   },
   "outputs": [],
   "source": [
    "from indexify_extractor_sdk import load_extractor, Content\n",
    "extractor, config_cls = load_extractor(\"layoutlm_document_qa.document_qa:LayoutLMDocumentQA\")\n",
    "content = Content.from_file(\"/Users/diptanuc/Downloads/Statement_HOA.pdf\")"
   ]
  },
  {
   "cell_type": "markdown",
   "metadata": {},
   "source": [
    "Ask question to the extractor:"
   ]
  },
  {
   "cell_type": "code",
   "execution_count": 9,
   "metadata": {},
   "outputs": [
    {
     "data": {
      "text/plain": [
       "[Feature(feature_type='metadata', name='metadata', value={'query': \"What's the due date?\", 'answer': '5/1/2024', 'page': 0, 'score': 0.9999791383743286}, comment=None)]"
      ]
     },
     "execution_count": 9,
     "metadata": {},
     "output_type": "execute_result"
    }
   ],
   "source": [
    "config = config_cls(query=\"What's the due date?\")\n",
    "result = extractor.extract(content, config)\n",
    "result"
   ]
  },
  {
   "cell_type": "markdown",
   "metadata": {
    "id": "nGrirc_G3zSI"
   },
   "source": [
    "### Start the Indexify Server\n",
    "\n",
    "To make this extractor continously extract - \n",
    "1. Download the Indexify Server\n",
    "2. Start it in development mode on your laptop\n",
    "3. Create extraction policies with questions that extracts the fields from the PDF\n",
    "4. Finally, you can get all the extracted value for a document by making an API call\n",
    "\n",
    "##### Download the Server\n",
    "```bash\n",
    "curl https://tensorlake.ai | sh\n",
    "```"
   ]
  },
  {
   "cell_type": "code",
   "execution_count": null,
   "metadata": {
    "id": "prTC7y7i3UCu"
   },
   "outputs": [],
   "source": [
    "!./indexify server -d"
   ]
  },
  {
   "cell_type": "markdown",
   "metadata": {},
   "source": [
    "### Create the Extraction Policies\n"
   ]
  },
  {
   "cell_type": "code",
   "execution_count": 2,
   "metadata": {
    "id": "HZNysNl-631k"
   },
   "outputs": [],
   "source": [
    "from indexify import IndexifyClient\n",
    "client = IndexifyClient()"
   ]
  },
  {
   "cell_type": "code",
   "execution_count": 3,
   "metadata": {},
   "outputs": [],
   "source": [
    "client.add_extraction_policy(extractor='tensorlake/layoutlm-document-qa-extractor', name=\"hoa-fees-due-date\", input_params={\"query\": \"Whats the due date?\"})\n",
    "client.add_extraction_policy(extractor='tensorlake/layoutlm-document-qa-extractor', name=\"hoa-fees-outstanding\", input_params={\"query\": \"Whats the outstanding amount?\"})"
   ]
  },
  {
   "cell_type": "markdown",
   "metadata": {},
   "source": [
    "### Upload Files"
   ]
  },
  {
   "cell_type": "code",
   "execution_count": 4,
   "metadata": {},
   "outputs": [],
   "source": [
    "content_id = client.upload_file(\"/Users/diptanuc/Downloads/Statement_HOA.pdf\")"
   ]
  },
  {
   "cell_type": "code",
   "execution_count": 6,
   "metadata": {},
   "outputs": [
    {
     "data": {
      "text/plain": [
       "[{'id': '3Ie8VXVxfNTPAL5L',\n",
       "  'content_id': 'efcf0931508836d3',\n",
       "  'metadata': {'answer': '5/1/2024',\n",
       "   'page': 0,\n",
       "   'query': 'Whats the due date?',\n",
       "   'score': 0.9999799728393556},\n",
       "  'extractor_name': 'tensorlake/layoutlm-document-qa-extractor'},\n",
       " {'id': 'VmCTqMFR-m7IG0nn',\n",
       "  'content_id': 'efcf0931508836d3',\n",
       "  'metadata': {'answer': '$603.03',\n",
       "   'page': 1,\n",
       "   'query': 'Whats the outstanding amount?',\n",
       "   'score': 0.9992976188659668},\n",
       "  'extractor_name': 'tensorlake/layoutlm-document-qa-extractor'}]"
      ]
     },
     "execution_count": 6,
     "metadata": {},
     "output_type": "execute_result"
    }
   ],
   "source": [
    "client.get_structured_data(content_id)"
   ]
  },
  {
   "cell_type": "code",
   "execution_count": 36,
   "metadata": {},
   "outputs": [
    {
     "data": {
      "text/plain": [
       "SqlQueryResult(result=[{'answer': '$603.03', 'content_id': 'd8ec685dd9cc3505', 'page': 1, 'query': 'Whats the outstanding amount?', 'score': 0.9992976188659668}, {'answer': '5/1/2024', 'content_id': 'd8ec685dd9cc3505', 'page': 0, 'query': 'Whats the due date?', 'score': 0.9999799728393556}])"
      ]
     },
     "execution_count": 36,
     "metadata": {},
     "output_type": "execute_result"
    }
   ],
   "source": [
    "client.sql_query(\"select * from ingestion;\")"
   ]
  }
 ],
 "metadata": {
  "colab": {
   "provenance": []
  },
  "kernelspec": {
   "display_name": "Python 3 (ipykernel)",
   "language": "python",
   "name": "python3"
  },
  "language_info": {
   "codemirror_mode": {
    "name": "ipython",
    "version": 3
   },
   "file_extension": ".py",
   "mimetype": "text/x-python",
   "name": "python",
   "nbconvert_exporter": "python",
   "pygments_lexer": "ipython3",
   "version": "3.10.14"
  }
 },
 "nbformat": 4,
 "nbformat_minor": 4
}
