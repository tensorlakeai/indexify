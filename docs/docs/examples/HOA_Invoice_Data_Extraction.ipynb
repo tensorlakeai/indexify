{
 "cells": [
  {
   "cell_type": "markdown",
   "metadata": {},
   "source": [
    "# **Extracting Tabular Data from a PDF using Indexify**\n",
    "\n",
    "In this notebook, we're going to learn how we can extract transactional data from a PDF using Indexify. For that, we'll be using a sample PDF that contains transactional data from a Home Owners Association (HOA).\n",
    "\n",
    "We will explore several way to extract this data from the PDF using Indexify Extractor into a structured format that we can use further for RAG pipeline. This is the preview of the data that we will extract from the PDF.\n",
    "\n",
    "![Preview data](https://i.postimg.cc/XYCqNP0p/hoa.png)"
   ]
  },
  {
   "cell_type": "markdown",
   "metadata": {
    "id": "r9NVuXFG3qGw"
   },
   "source": [
    "## **Setup**"
   ]
  },
  {
   "cell_type": "code",
   "execution_count": null,
   "metadata": {
    "id": "udB1A9ee1RFv"
   },
   "outputs": [],
   "source": [
    "%pip install indexify-extractor-sdk indexify virtualenv"
   ]
  },
  {
   "cell_type": "markdown",
   "metadata": {},
   "source": [
    "## **Trying out different extractors offered**\n",
    "\n",
    "We have several PDF and Invoice Extractor. Here are a few extractors that worked really well to get various fields from my HOA receipt.\n",
    "\n",
    "First, get a taste of playing with these extractors locally."
   ]
  },
  {
   "cell_type": "markdown",
   "metadata": {},
   "source": [
    "### **PDFExtractor & SchemaExtractor**\n",
    "First, we will try PDFExtractor with SchemaExtractor. By default the SchemaExtractor uses OpenAI and works on the Content of chained extractor as data for JSON extraction from schema, however we can manually overwrite both the schema and the data. It can extract all the values from text in one shot.\n",
    "\n",
    "Download the PDF extractor and Schema extractor:"
   ]
  },
  {
   "cell_type": "code",
   "execution_count": null,
   "metadata": {},
   "outputs": [],
   "source": [
    "!indexify-extractor download hub://pdf/pdf-extractor\n",
    "!indexify-extractor download hub://text/schema"
   ]
  },
  {
   "cell_type": "markdown",
   "metadata": {},
   "source": [
    "Load the PDF extractor and the file:"
   ]
  },
  {
   "cell_type": "code",
   "execution_count": null,
   "metadata": {},
   "outputs": [],
   "source": [
    "import requests\n",
    "req = requests.get(\"https://pub-226479de18b2493f96b64c6674705dd8.r2.dev/Statement_HOA.pdf\")\n",
    "\n",
    "with open(\"Statement_HOA.pdf\",\"wb\") as f:\n",
    "    f.write(req.content)\n",
    "\n",
    "from indexify_extractor_sdk import load_extractor, Content\n",
    "\n",
    "pdfextractor, pdfconfig_cls = load_extractor(\"indexify_extractors.pdf-extractor.pdf_extractor:PDFExtractor\")\n",
    "content = Content.from_file(\"Statement_HOA.pdf\")"
   ]
  },
  {
   "cell_type": "markdown",
   "metadata": {},
   "source": [
    "Extract the data and find the content with content_type \"text/plain\":"
   ]
  },
  {
   "cell_type": "code",
   "execution_count": null,
   "metadata": {},
   "outputs": [],
   "source": [
    "pdf_result = pdfextractor.extract(content)\n",
    "text_content = next(content.data.decode(\"utf-8\") for content in pdf_result if content.content_type == \"text/plain\")\n",
    "text_content"
   ]
  },
  {
   "cell_type": "markdown",
   "metadata": {},
   "source": [
    "Load the Schema extractor and extract the JSON using the Schema extractor:"
   ]
  },
  {
   "cell_type": "code",
   "execution_count": null,
   "metadata": {},
   "outputs": [],
   "source": [
    "from pydantic import BaseModel\n",
    "\n",
    "class Invoice(BaseModel):\n",
    "    invoice_number: str\n",
    "    date: str\n",
    "    account_number: str\n",
    "    owner: str\n",
    "    address: str\n",
    "    last_month_balance: str\n",
    "    current_amount_due: str\n",
    "    registration_key: str\n",
    "    due_date: str"
   ]
  },
  {
   "cell_type": "code",
   "execution_count": null,
   "metadata": {},
   "outputs": [],
   "source": [
    "schema = Invoice.model_json_schema()"
   ]
  },
  {
   "cell_type": "code",
   "execution_count": null,
   "metadata": {},
   "outputs": [],
   "source": [
    "schemaextractor, schemaconfig_cls = load_extractor(\"indexify_extractors.schema.schema_extractor:SchemaExtractor\")\n",
    "\n",
    "config = schemaconfig_cls(service=\"openai\", schema=schema)\n",
    "result = schemaextractor.extract(Content.from_text(text_content), config)\n",
    "llm_content = next(content.data.decode(\"utf-8\") for content in result if content.content_type == \"text/plain\")\n",
    "llm_content"
   ]
  },
  {
   "cell_type": "markdown",
   "metadata": {},
   "source": [
    "### **PDFExtractor & LLMExtractor**\n",
    "Next, for more control, we will try PDFExtractor with LLMExtractor. The PDFExtractor can extract all the values from text as well as tables in one shot and passes it to the chained LLMExtractor which can be used for question answering.\n",
    "\n",
    "Download the LLM extractor:"
   ]
  },
  {
   "cell_type": "code",
   "execution_count": null,
   "metadata": {},
   "outputs": [],
   "source": [
    "!indexify-extractor download hub://text/llm"
   ]
  },
  {
   "cell_type": "markdown",
   "metadata": {},
   "source": [
    "Load the LLM extractor and extract the JSON using the LLM extractor:"
   ]
  },
  {
   "cell_type": "code",
   "execution_count": null,
   "metadata": {},
   "outputs": [],
   "source": [
    "query = \"by when do I have to make the payment and what amount? also what was the EV charge amount?\"\n",
    "prompt = \"\"\"Extract information according to this schema and return json in this format {\"Invoice No.\": \"\", \"Date\": \"\", \"Account Number\": \"\", \"Owner\": \"\", \"Address\": \"\", \"Registration Key\": \"\", \"Last Month Balance\": \"\", \"Current Amount Due\": \"\", \"Due Date\": \"\"}:\n",
    "Axis\\nSTATEMENTInvoice No. \"Invoice No.\"\\nDate: 4/19/2024\\nAccount Number:\\nOwner:\\nProperty:\"Account Number\"\\n\"Owner\"\\n\"Property\"\\n\"Owner\"\\n\"Property\"\\n\"Address\"SUMMARY OF ACCOUNT\\nLast Month Balance:\\nCurrent Amount Due:\"Last Month Balance\"\\n\"Current Amount Due\"\\nAccount details on back.\\nProfessionally\\nprepared by:\\nSTATEMENT MESSAGE\\nWelcome to Action Property Management! We are excited to be\\nserving your community. Our Community Care team is more than\\nhappy to assist you with any billing questions you may have. For\\ncontact options, please visit www.actionlife.com/contact. Visit the\\nAction Property Management web page at: www.actionlife.com.BILLING QUESTIONS\\nScan the QR code to\\ncontact our\\nCommunity Care\\nteam.\\nactionlife.com/contact\\nCommunityCare@actionlife.com\\nRegister your Resident\\nPortal account now!\\nRegistration Key/ID:\\n\"Registration Key\"\\nresident.actionlife.com\\nTo learn more about issues facing HOAs, say \"Hey Siri, search the web for The Uncommon Area by Action Property Management.\"\\nMake checks payable to:\\nAxisAccount Number: \"Account Number\"\\nOwner: \"Owner\"\\nPLEASE REMIT PAYMENT TO:\\n** AUTOPAY SCHEDULED **\\n** NO REMITTANCE NECESSARY **CURRENT AMOUNT DUE\\n\"Current Amount Due\"\\nDUE DATE\\n\"Due Date\"\\n0049 00008330 0000922000203826 7 00065303 00000000 9\"\"\""
   ]
  },
  {
   "cell_type": "code",
   "execution_count": null,
   "metadata": {},
   "outputs": [],
   "source": [
    "llmextractor, llmconfig_cls = load_extractor(\"indexify_extractors.llm.llm_extractor:LLMExtractor\")\n",
    "\n",
    "config = llmconfig_cls(service=\"openai\", prompt=prompt)\n",
    "result = llmextractor.extract(Content.from_text(text_content), config)\n",
    "llm_content = next(content.data.decode(\"utf-8\") for content in result if content.content_type == \"text/plain\")\n",
    "llm_content"
   ]
  },
  {
   "cell_type": "markdown",
   "metadata": {},
   "source": [
    "#### **Table Extraction**\n",
    "The document also has tables in it so let's find the data from tables with content_type \"application/json\" and get it in a dataframe:"
   ]
  },
  {
   "cell_type": "code",
   "execution_count": null,
   "metadata": {},
   "outputs": [],
   "source": [
    "import json\n",
    "import pandas as pd\n",
    "\n",
    "json_content = next(content.data for content in pdf_result if content.content_type == \"application/json\")\n",
    "\n",
    "# Convert the JSON string to a Python dictionary\n",
    "data_dict = json.loads(json_content)\n",
    "\n",
    "# Convert the dictionary to a pandas DataFrame\n",
    "df = pd.DataFrame.from_dict(data_dict, orient=\"index\")\n",
    "\n",
    "# Print the DataFrame\n",
    "print(df)"
   ]
  },
  {
   "cell_type": "markdown",
   "metadata": {},
   "source": [
    "Question answering with extracted content:"
   ]
  },
  {
   "cell_type": "code",
   "execution_count": null,
   "metadata": {},
   "outputs": [],
   "source": [
    "config = llmconfig_cls(service=\"openai\", prompt=str(data_dict) + str(llm_content))\n",
    "result = llmextractor.extract(Content.from_text(query), config)\n",
    "llm_content = next(content.data.decode(\"utf-8\") for content in result if content.content_type == \"text/plain\")\n",
    "llm_content"
   ]
  },
  {
   "cell_type": "markdown",
   "metadata": {},
   "source": [
    "### **LayoutLMDocumentQA**\n",
    "Next we try LayoutLMDocumentQA. It can't extract all the values in one shot, but can answer to single questions.\n",
    "\n",
    "Download the extractor:"
   ]
  },
  {
   "cell_type": "code",
   "execution_count": null,
   "metadata": {},
   "outputs": [],
   "source": [
    "!indexify-extractor download hub://pdf/layoutlm_document_qa"
   ]
  },
  {
   "cell_type": "markdown",
   "metadata": {},
   "source": [
    "Load the extractor and the file:"
   ]
  },
  {
   "cell_type": "code",
   "execution_count": null,
   "metadata": {
    "scrolled": true
   },
   "outputs": [],
   "source": [
    "from indexify_extractor_sdk import load_extractor, Content\n",
    "extractor, config_cls = load_extractor(\"indexify_extractors.layoutlm_document_qa.layoutlm_document_qa:LayoutLMDocumentQA\")"
   ]
  },
  {
   "cell_type": "markdown",
   "metadata": {},
   "source": [
    "Ask question to the extractor:"
   ]
  },
  {
   "cell_type": "code",
   "execution_count": null,
   "metadata": {},
   "outputs": [],
   "source": [
    "config = config_cls(query=\"What's the due date?\")\n",
    "result = extractor.extract(content, config)\n",
    "result"
   ]
  },
  {
   "cell_type": "markdown",
   "metadata": {
    "id": "nGrirc_G3zSI"
   },
   "source": [
    "## **Start the Indexify Server**\n",
    "\n",
    "To make this extractor continously extract - \n",
    "1. Download the Indexify Server\n",
    "2. Start it in development mode on your laptop\n",
    "3. Create extraction policies with questions that extracts the fields from the PDF\n",
    "4. Finally, you can get all the extracted value for a document by making an API call\n",
    "\n",
    "### **Download the Server**\n",
    "\n",
    "```bash\n",
    "!curl https://getindexify.ai | sh\n",
    "```\n",
    "\n",
    "Terminal 1:\n",
    "\n",
    "```bash\n",
    "./indexify server -d\n",
    "```"
   ]
  },
  {
   "cell_type": "markdown",
   "metadata": {},
   "source": [
    "### **Create the Extraction Graph**\n"
   ]
  },
  {
   "cell_type": "code",
   "execution_count": null,
   "metadata": {
    "id": "HZNysNl-631k"
   },
   "outputs": [],
   "source": [
    "from indexify import IndexifyClient\n",
    "client = IndexifyClient()"
   ]
  },
  {
   "cell_type": "code",
   "execution_count": null,
   "metadata": {},
   "outputs": [],
   "source": [
    "extraction_graph_spec = \"\"\"\n",
    "name: \"pdf\"\n",
    "extraction_policies:\n",
    "  - extractor: \"tensorlake/layoutlm-document-qa-extractor\"\n",
    "    name: \"hoa-fees-due-date\"\n",
    "    input_params:\n",
    "      query: \"What's the due date?\"\n",
    "\n",
    "  - extractor: \"tensorlake/layoutlm-document-qa-extractor\"\n",
    "    name: \"hoa-fees-outstanding\"\n",
    "    input_params:\n",
    "      query: \"Whats the outstanding amount?\"\n",
    "\"\"\"\n",
    "\n",
    "extraction_graph = ExtractionGraph.from_yaml(extraction_graph_spec)\n",
    "client.create_extraction_graph(extraction_graph)                                            "
   ]
  },
  {
   "cell_type": "markdown",
   "metadata": {},
   "source": [
    "### **Upload Files**"
   ]
  },
  {
   "cell_type": "code",
   "execution_count": null,
   "metadata": {},
   "outputs": [],
   "source": [
    "content_id = client.upload_file(\"pdf\", \"Statement_HOA.pdf\")\n",
    "client.wait_for_extraction(content_id)\n",
    "content_id"
   ]
  },
  {
   "cell_type": "code",
   "execution_count": null,
   "metadata": {},
   "outputs": [],
   "source": [
    "client.get_structured_data(content_id)"
   ]
  },
  {
   "cell_type": "code",
   "execution_count": null,
   "metadata": {},
   "outputs": [],
   "source": [
    "client.sql_query(\"select * from ingestion;\")"
   ]
  }
 ],
 "metadata": {
  "colab": {
   "provenance": []
  },
  "kernelspec": {
   "display_name": "Python 3 (ipykernel)",
   "language": "python",
   "name": "python3"
  },
  "language_info": {
   "codemirror_mode": {
    "name": "ipython",
    "version": 3
   },
   "file_extension": ".py",
   "mimetype": "text/x-python",
   "name": "python",
   "nbconvert_exporter": "python",
   "pygments_lexer": "ipython3",
   "version": "3.10.14"
  }
 },
 "nbformat": 4,
 "nbformat_minor": 4
}
