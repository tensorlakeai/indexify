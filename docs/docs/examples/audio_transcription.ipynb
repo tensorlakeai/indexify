{
 "cells": [
  {
   "cell_type": "markdown",
   "id": "096b6dc7",
   "metadata": {},
   "source": [
    "# **Transcribing Audio with Indexify**\n",
    "\n",
    "<div class=\"align-center\">\n",
    "  <a href=\"https://getindexify.ai/\"><img src=\"https://getindexify.ai/Indexify_Logo_Wordmark.svg\" width=\"145\"></a>\n",
    "  <a href=\"https://discord.com/invite/kF8UZACA7r\"><img src=\"https://raw.githubusercontent.com/rishiraj/random/main/Discord%20button.png\" width=\"145\"></a><br>\n",
    "  Join Discord if you need help + ⭐ <i>Star us on <a href=\"https://github.com/tensorlakeai/indexify\">Github</a></i> ⭐\n",
    "</div>\n",
    "\n",
    "In this notebook, we will use an Indexify Extractor (Whisper ASR) to transcribe audio files to texts."
   ]
  },
  {
   "cell_type": "markdown",
   "id": "e0550141",
   "metadata": {},
   "source": [
    "## **Setup**"
   ]
  },
  {
   "cell_type": "code",
   "execution_count": null,
   "id": "ce6b54e3",
   "metadata": {},
   "outputs": [],
   "source": [
    "%pip install pandas\n",
    "\n",
    "# Download Indexify Server\n",
    "!curl https://getindexify.ai | sh\n",
    "\n",
    "# Download Extractors\n",
    "!indexify-extractor download hub://audio/whisper-asr"
   ]
  },
  {
   "cell_type": "markdown",
   "id": "fb2772e4",
   "metadata": {},
   "source": [
    "After installing the necessary libraries, download the server, and the extractors, you need to restart the runtime. Then, you have to run Indexify Server with the Extractors.\n",
    "\n",
    "Open 2 terminals and run the following commands:\n",
    "\n",
    "```bash\n",
    "# Terminal 1\n",
    "./indexify server -d\n",
    "\n",
    "# Terminal 2\n",
    "indexify-extractor join-server\n",
    "```"
   ]
  },
  {
   "cell_type": "markdown",
   "id": "d35e16dc",
   "metadata": {},
   "source": [
    "## **Transcribing Audio**"
   ]
  },
  {
   "cell_type": "code",
   "execution_count": 1,
   "id": "43c01def-46d3-472f-bcae-122f5531b98a",
   "metadata": {},
   "outputs": [],
   "source": [
    "from indexify import IndexifyClient\n",
    "client = IndexifyClient()"
   ]
  },
  {
   "cell_type": "code",
   "execution_count": null,
   "id": "f5b2be0d",
   "metadata": {},
   "outputs": [],
   "source": [
    "extraction_graph_spec = \"\"\"\n",
    "name: \"audio\"\n",
    "extraction_policies:\n",
    "  - extractor: \"tensorlake/whisper-asr\"\n",
    "    name: \"transcription\"\n",
    "\"\"\"\n",
    "\n",
    "extraction_graph = ExtractionGraph.from_yaml(extraction_graph_spec)\n",
    "client.create_extraction_graph(extraction_graph) "
   ]
  },
  {
   "cell_type": "code",
   "execution_count": null,
   "id": "7f7b411f",
   "metadata": {},
   "outputs": [],
   "source": [
    "# Change the path to the audio file you want to upload.\n",
    "PATH = \"\"\n",
    "content_id = client.upload_file(\"audio\", path=PATH)\n",
    "client.wait_for_extraction(content_id)"
   ]
  }
 ],
 "metadata": {
  "kernelspec": {
   "display_name": "Python 3 (ipykernel)",
   "language": "python",
   "name": "python3"
  },
  "language_info": {
   "codemirror_mode": {
    "name": "ipython",
    "version": 3
   },
   "file_extension": ".py",
   "mimetype": "text/x-python",
   "name": "python",
   "nbconvert_exporter": "python",
   "pygments_lexer": "ipython3",
   "version": "3.12.1"
  }
 },
 "nbformat": 4,
 "nbformat_minor": 5
}
