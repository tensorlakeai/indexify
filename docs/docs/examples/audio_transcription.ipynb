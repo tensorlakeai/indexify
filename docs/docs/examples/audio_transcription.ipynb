{
 "cells": [
  {
   "cell_type": "code",
   "execution_count": 1,
   "id": "43c01def-46d3-472f-bcae-122f5531b98a",
   "metadata": {},
   "outputs": [],
   "source": [
    "from indexify import IndexifyClient\n",
    "client = IndexifyClient(service_url=\"http://100.114.163.163:8900\")"
   ]
  },
  {
   "cell_type": "markdown",
   "id": "2dee15c9-f616-41a8-88e5-bbeb34893aaf",
   "metadata": {},
   "source": [
    "!pip install pandas\n"
   ]
  },
  {
   "cell_type": "code",
   "execution_count": 78,
   "id": "1d51a3dd-ed1a-402f-932b-46b69b20d228",
   "metadata": {},
   "outputs": [
    {
     "name": "stderr",
     "output_type": "stream",
     "text": [
      "/var/folders/lr/j5bzp2894pq9hv33bhl4hkhr0000gn/T/ipykernel_13820/3150347646.py:2: DtypeWarning: Columns (6) have mixed types. Specify dtype option on import or set low_memory=False.\n",
      "  data = pandas.read_csv(\"~/Downloads/oral-arguments-2022-08-03.csv\")\n"
     ]
    },
    {
     "data": {
      "text/plain": [
       "79719"
      ]
     },
     "execution_count": 78,
     "metadata": {},
     "output_type": "execute_result"
    }
   ],
   "source": [
    "import pandas\n",
    "data = pandas.read_csv(\"~/Downloads/oral-arguments-2022-08-03.csv\")\n",
    "len(data)"
   ]
  },
  {
   "cell_type": "markdown",
   "id": "8a24f84e-0029-4a97-8981-4df4b32e03fe",
   "metadata": {},
   "source": [
    "Install indexify -\n",
    "\n",
    "curl https://www.tensorlake.ai | sh\n",
    "\n",
    "indexify server -d\n",
    "\n",
    "\n",
    "Download Whisper extractor -\n",
    "```\n",
    "indexify-extractor download hub://audio/whisper-asr\n",
    "cd indexify-extractor\n",
    "indexify-extractor join-server whisper:WhisperExtractor\n",
    "```\n",
    "\n",
    "Or run with docker\n",
    "```\n",
    "docker run -d -v /tmp/indexify-blob-storage:/tmp/indexify-blob-storage -p 9500:9500 tensorlake/whisper-asr join-server --workers=1 --coordinator-addr=host.docker.internal:8950 --ingestion-addr=host.docker.internal:8900 --advertise-addr=0.0.0.0:9500\n",
    "```\n"
   ]
  },
  {
   "cell_type": "code",
   "execution_count": 81,
   "id": "cd048dae-ff3f-4ffb-af12-dad2b88eba97",
   "metadata": {},
   "outputs": [
    {
     "name": "stdout",
     "output_type": "stream",
     "text": [
      "79719\n"
     ]
    },
    {
     "data": {
      "text/plain": [
       "79539"
      ]
     },
     "execution_count": 81,
     "metadata": {},
     "output_type": "execute_result"
    }
   ],
   "source": [
    "data = data[[\"download_url\", \"docket_id\"]]\n",
    "non_empty_download_urls =data[data[\"download_url\"].str.startswith(\"http\")]\n",
    "print(len(non_empty_download_urls))\n",
    "unique_urls =  non_empty_download_urls.drop_duplicates(subset=['download_url'])\n",
    "len(unique_urls)"
   ]
  },
  {
   "cell_type": "code",
   "execution_count": 127,
   "id": "438e6eb4-aed2-49f0-8d8c-6aabc78072c9",
   "metadata": {},
   "outputs": [],
   "source": [
    "for index, row in unique_urls.head(100).iterrows():\n",
    "    client.ingest_remote_file(url=row[\"download_url\"], mime_type=\"audio/mpeg\", labels={\"docket_id\": str(row[\"docket_id\"])})"
   ]
  },
  {
   "cell_type": "code",
   "execution_count": 110,
   "id": "8be29754-1ef7-4cdf-81e7-eaf2555259ba",
   "metadata": {},
   "outputs": [],
   "source": [
    "client.add_extraction_policy(extractor='tensorlake/whisper-asr', name=\"audio-transcription\")"
   ]
  },
  {
   "cell_type": "code",
   "execution_count": null,
   "id": "e6429050-94a0-407d-9c74-dcb2b9e55819",
   "metadata": {},
   "outputs": [],
   "source": []
  }
 ],
 "metadata": {
  "kernelspec": {
   "display_name": "Python 3 (ipykernel)",
   "language": "python",
   "name": "python3"
  },
  "language_info": {
   "codemirror_mode": {
    "name": "ipython",
    "version": 3
   },
   "file_extension": ".py",
   "mimetype": "text/x-python",
   "name": "python",
   "nbconvert_exporter": "python",
   "pygments_lexer": "ipython3",
   "version": "3.12.1"
  }
 },
 "nbformat": 4,
 "nbformat_minor": 5
}
