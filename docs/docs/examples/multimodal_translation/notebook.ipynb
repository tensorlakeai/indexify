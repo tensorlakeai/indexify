{
 "cells": [
  {
   "cell_type": "markdown",
   "metadata": {},
   "source": [
    "# PDF Translation with Indexify and GPT-4o\n",
    "\n",
    "This cookbook demonstrates how to build a robust PDF translation pipeline from English to French using Indexify and OpenAI's GPT-4o model. You will learn how to efficiently translate PDF documents for various applications such as multilingual document processing, content localization, and cross-language information retrieval.\n",
    "\n",
    "## Introduction\n",
    "\n",
    "PDF translation involves converting the textual content of a PDF document from one language to another while maintaining the original formatting and structure as much as possible. By leveraging the capabilities of GPT-4o, we can achieve high-quality translations directly from PDF files, streamlining the translation process.\n",
    "\n",
    "## Prerequisites\n",
    "\n",
    "Before we begin, ensure you have the following:\n",
    "\n",
    "- Python 3.9 or later\n",
    "- `pip` (Python package manager)\n",
    "- An OpenAI API key\n",
    "- Basic familiarity with Python and command-line interfaces\n",
    "\n",
    "## Setup\n",
    "\n",
    "### Install Indexify\n",
    "\n",
    "First, let's install Indexify using the official installation script in a terminal:\n",
    "\n",
    "```bash\n",
    "curl https://getindexify.ai | sh\n",
    "```\n",
    "\n",
    "Start the Indexify server:\n",
    "```bash\n",
    "./indexify server -d\n",
    "```\n",
    "\n",
    "### Install Required Extractor\n",
    "\n",
    "Next, we'll install the necessary extractor in a new terminal:\n",
    "\n",
    "```bash\n",
    "pip install indexify-extractor-sdk\n",
    "indexify-extractor download tensorlake/openai\n",
    "```\n",
    "\n",
    "Once the extractor is downloaded, you can start it:\n",
    "```bash\n",
    "indexify-extractor join-server\n",
    "```"
   ]
  },
  {
   "cell_type": "markdown",
   "metadata": {},
   "source": [
    "## Creating the Extraction Graph\n",
    "\n",
    "The extraction graph defines the flow of data through our translation pipeline. We'll create a graph that sends the PDF directly to GPT-4o for translation."
   ]
  },
  {
   "cell_type": "code",
   "execution_count": null,
   "metadata": {},
   "outputs": [],
   "source": [
    "from indexify import IndexifyClient, ExtractionGraph\n",
    "\n",
    "client = IndexifyClient()\n",
    "\n",
    "extraction_graph_spec = \"\"\"\n",
    "name: 'pdf_translator'\n",
    "extraction_policies:\n",
    "  - extractor: 'tensorlake/openai'\n",
    "    name: 'pdf_to_french'\n",
    "    input_params:\n",
    "      model_name: 'gpt-4o'\n",
    "      key: 'YOUR_OPENAI_API_KEY'\n",
    "      system_prompt: 'Translate the content of the following PDF from English to French. Maintain the original formatting and structure as much as possible. Provide the translation in plain text format.'\n",
    "\"\"\"\n",
    "\n",
    "extraction_graph = ExtractionGraph.from_yaml(extraction_graph_spec)\n",
    "client.create_extraction_graph(extraction_graph)"
   ]
  },
  {
   "cell_type": "markdown",
   "metadata": {},
   "source": [
    "Replace `'YOUR_OPENAI_API_KEY'` with your actual OpenAI API key."
   ]
  },
  {
   "cell_type": "markdown",
   "metadata": {},
   "source": [
    "## Implementing the PDF Translation Pipeline\n",
    "\n",
    "Now that we have our extraction graph set up, we can upload files and retrieve the translations:"
   ]
  },
  {
   "cell_type": "code",
   "execution_count": null,
   "metadata": {},
   "outputs": [],
   "source": [
    "import requests\n",
    "from indexify import IndexifyClient\n",
    "\n",
    "def download_pdf(url, save_path):\n",
    "    response = requests.get(url)\n",
    "    with open(save_path, 'wb') as f:\n",
    "        f.write(response.content)\n",
    "    print(f\"PDF downloaded and saved to {save_path}\")\n",
    "\n",
    "\n",
    "def translate_pdf(pdf_path):\n",
    "    client = IndexifyClient()\n",
    "    \n",
    "    # Upload the PDF file\n",
    "    content_id = client.upload_file(\"pdf_translator\", pdf_path)\n",
    "    \n",
    "    # Wait for the translation to complete\n",
    "    client.wait_for_extraction(content_id)\n",
    "    \n",
    "    # Retrieve the translated content\n",
    "    translated_content = client.get_extracted_content(\n",
    "        content_id=content_id,\n",
    "        graph_name=\"pdf_translator\",\n",
    "        policy_name=\"pdf_to_french\"\n",
    "    )\n",
    "    \n",
    "    # Decode the translated content\n",
    "    translation = translated_content[0]['content'].decode('utf-8')\n",
    "    return translation"
   ]
  },
  {
   "cell_type": "code",
   "execution_count": null,
   "metadata": {},
   "outputs": [],
   "source": [
    "pdf_url = \"https://arxiv.org/pdf/2310.06825.pdf\"\n",
    "pdf_path = \"reference_document.pdf\"\n",
    "\n",
    "# Download the PDF\n",
    "download_pdf(pdf_url, pdf_path)\n",
    "translated_text = translate_pdf(pdf_path)\n",
    "\n",
    "print(\"Translated Content (first 500 characters):\")\n",
    "print(translated_text[:500])"
   ]
  },
  {
   "cell_type": "markdown",
   "metadata": {},
   "source": [
    "## Customization and Advanced Usage\n",
    "\n",
    "You can customize the translation process by modifying the `system_prompt` in the extraction graph. For example:\n",
    "\n",
    "- To translate to a different language:\n",
    "  ```yaml\n",
    "  system_prompt: 'Translate the content of the following PDF from English to Spanish. Maintain the original formatting and structure as much as possible. Provide the translation in plain text format.'\n",
    "  ```\n",
    "\n",
    "- To focus on specific sections or types of content:\n",
    "  ```yaml\n",
    "  system_prompt: 'Translate only the main body text of the following PDF from English to French, ignoring headers, footers, and references. Maintain the original paragraph structure. Provide the translation in plain text format.'\n",
    "  ```\n",
    "\n",
    "## Conclusion\n",
    "\n",
    "This example demonstrates the power of using Indexify with GPT-4o for PDF translation. Some key advantages include:\n",
    "\n",
    "1. **Simplified Pipeline**: GPT-4o can directly process PDFs, eliminating the need for a separate PDF text extraction step.\n",
    "2. **High-Quality Translation**: Leveraging GPT-4o ensures high-quality translations that maintain context and nuance.\n",
    "3. **Scalability**: Indexify allows for processing of multiple PDFs efficiently, making it suitable for large-scale translation tasks.\n",
    "\n",
    "## Next Steps\n",
    "\n",
    "- Explore more about Indexify in the official documentation: https://docs.getindexify.ai\n",
    "- Experiment with different language pairs or customized translation instructions by modifying the system prompt."
   ]
  }
 ],
 "metadata": {
  "language_info": {
   "name": "python"
  }
 },
 "nbformat": 4,
 "nbformat_minor": 2
}
