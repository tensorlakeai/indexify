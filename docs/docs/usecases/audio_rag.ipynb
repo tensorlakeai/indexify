{
 "cells": [
  {
   "cell_type": "code",
   "execution_count": 1,
   "id": "b6ed358a-f1ed-4527-8d43-31b6c5cd65fc",
   "metadata": {
    "scrolled": true
   },
   "outputs": [
    {
     "name": "stdout",
     "output_type": "stream",
     "text": [
      "Requirement already satisfied: accelerate in /Users/diptanuc/Projects/indexify-extractors/ve/lib/python3.12/site-packages (0.27.2)\n",
      "Requirement already satisfied: numpy>=1.17 in /Users/diptanuc/Projects/indexify-extractors/ve/lib/python3.12/site-packages (from accelerate) (1.26.4)\n",
      "Requirement already satisfied: packaging>=20.0 in /Users/diptanuc/Projects/indexify-extractors/ve/lib/python3.12/site-packages (from accelerate) (23.2)\n",
      "Requirement already satisfied: psutil in /Users/diptanuc/Projects/indexify-extractors/ve/lib/python3.12/site-packages (from accelerate) (5.9.8)\n",
      "Requirement already satisfied: pyyaml in /Users/diptanuc/Projects/indexify-extractors/ve/lib/python3.12/site-packages (from accelerate) (6.0.1)\n",
      "Requirement already satisfied: torch>=1.10.0 in /Users/diptanuc/Projects/indexify-extractors/ve/lib/python3.12/site-packages (from accelerate) (2.2.0)\n",
      "Requirement already satisfied: huggingface-hub in /Users/diptanuc/Projects/indexify-extractors/ve/lib/python3.12/site-packages (from accelerate) (0.20.3)\n",
      "Requirement already satisfied: safetensors>=0.3.1 in /Users/diptanuc/Projects/indexify-extractors/ve/lib/python3.12/site-packages (from accelerate) (0.4.2)\n",
      "Requirement already satisfied: filelock in /Users/diptanuc/Projects/indexify-extractors/ve/lib/python3.12/site-packages (from torch>=1.10.0->accelerate) (3.13.1)\n",
      "Requirement already satisfied: typing-extensions>=4.8.0 in /Users/diptanuc/Projects/indexify-extractors/ve/lib/python3.12/site-packages (from torch>=1.10.0->accelerate) (4.9.0)\n",
      "Requirement already satisfied: sympy in /Users/diptanuc/Projects/indexify-extractors/ve/lib/python3.12/site-packages (from torch>=1.10.0->accelerate) (1.12)\n",
      "Requirement already satisfied: networkx in /Users/diptanuc/Projects/indexify-extractors/ve/lib/python3.12/site-packages (from torch>=1.10.0->accelerate) (3.2.1)\n",
      "Requirement already satisfied: jinja2 in /Users/diptanuc/Projects/indexify-extractors/ve/lib/python3.12/site-packages (from torch>=1.10.0->accelerate) (3.1.3)\n",
      "Requirement already satisfied: fsspec in /Users/diptanuc/Projects/indexify-extractors/ve/lib/python3.12/site-packages (from torch>=1.10.0->accelerate) (2023.10.0)\n",
      "Requirement already satisfied: requests in /Users/diptanuc/Projects/indexify-extractors/ve/lib/python3.12/site-packages (from huggingface-hub->accelerate) (2.31.0)\n",
      "Requirement already satisfied: tqdm>=4.42.1 in /Users/diptanuc/Projects/indexify-extractors/ve/lib/python3.12/site-packages (from huggingface-hub->accelerate) (4.66.2)\n",
      "Requirement already satisfied: MarkupSafe>=2.0 in /Users/diptanuc/Projects/indexify-extractors/ve/lib/python3.12/site-packages (from jinja2->torch>=1.10.0->accelerate) (2.1.5)\n",
      "Requirement already satisfied: charset-normalizer<4,>=2 in /Users/diptanuc/Projects/indexify-extractors/ve/lib/python3.12/site-packages (from requests->huggingface-hub->accelerate) (3.3.2)\n",
      "Requirement already satisfied: idna<4,>=2.5 in /Users/diptanuc/Projects/indexify-extractors/ve/lib/python3.12/site-packages (from requests->huggingface-hub->accelerate) (3.6)\n",
      "Requirement already satisfied: urllib3<3,>=1.21.1 in /Users/diptanuc/Projects/indexify-extractors/ve/lib/python3.12/site-packages (from requests->huggingface-hub->accelerate) (2.2.0)\n",
      "Requirement already satisfied: certifi>=2017.4.17 in /Users/diptanuc/Projects/indexify-extractors/ve/lib/python3.12/site-packages (from requests->huggingface-hub->accelerate) (2024.2.2)\n",
      "Requirement already satisfied: mpmath>=0.19 in /Users/diptanuc/Projects/indexify-extractors/ve/lib/python3.12/site-packages (from sympy->torch>=1.10.0->accelerate) (1.3.0)\n",
      "\n",
      "\u001b[1m[\u001b[0m\u001b[34;49mnotice\u001b[0m\u001b[1;39;49m]\u001b[0m\u001b[39;49m A new release of pip is available: \u001b[0m\u001b[31;49m23.3.2\u001b[0m\u001b[39;49m -> \u001b[0m\u001b[32;49m24.0\u001b[0m\n",
      "\u001b[1m[\u001b[0m\u001b[34;49mnotice\u001b[0m\u001b[1;39;49m]\u001b[0m\u001b[39;49m To update, run: \u001b[0m\u001b[32;49mpip install --upgrade pip\u001b[0m\n",
      "Note: you may need to restart the kernel to use updated packages.\n"
     ]
    }
   ],
   "source": [
    "pip install accelerate ffmpeg indexify"
   ]
  },
  {
   "cell_type": "code",
   "execution_count": 15,
   "id": "12c018d1-b4e6-4fb1-a33a-76e3f6746992",
   "metadata": {},
   "outputs": [],
   "source": [
    "from indexify import IndexifyClient\n",
    "client = IndexifyClient()"
   ]
  },
  {
   "cell_type": "code",
   "execution_count": 20,
   "id": "11a7d526-f5ee-466b-8f92-ad58367c0eac",
   "metadata": {},
   "outputs": [
    {
     "data": {
      "text/plain": [
       "('ALLIN-E167.mp3', <http.client.HTTPMessage at 0x12a06b6e0>)"
      ]
     },
     "execution_count": 20,
     "metadata": {},
     "output_type": "execute_result"
    }
   ],
   "source": [
    "import urllib.request\n",
    "\n",
    "urllib.request.urlretrieve(filename=\"ALLIN-E167.mp3\", url=\"https://content.libsyn.com/p/5/d/f/5df17f8350f43745/ALLIN-E167.mp3?c_id=168165938&cs_id=168165938&destination_id=1928300&response-content-type=audio%2Fmpeg&Expires=1708908562&Signature=aLXFc-TXV3rb53Kg4ntr05zuHq3b5~6c03CPK4HNfhAwwbHbXf59Wan3NG2p0AzOfHWSqmK4A7sEarPdvi89hBMljCOpL~8HvX8aoGSmktgqkghQ4TDl~Q89DZ1gkuFHQ6BlIK5qAcdMA0NyfDhF5JN6UjI1Ja~OHuB6LjP-lZojmQddvfSdiI4oOJuODxQjffwZS1AaBO0z4yB4EcIqzwe46UWEe4ajL3mpgek9rb3ByyYarrewKq7-ZzpaKLFY6SN7cN2KMOPdyMvGw0rzNM9NfApLhyyEwDmDVOIhmoiqu2Act8U-1Oqcu23Hdm0MziL9ILPmRomu0XBfe9au1w__&Key-Pair-Id=K1YS7LZGUP96OI\")"
   ]
  },
  {
   "cell_type": "code",
   "execution_count": 21,
   "id": "1241fd1a-700a-4862-b05c-66aad94bb6c5",
   "metadata": {},
   "outputs": [],
   "source": [
    "client.upload_file(path=\"ALLIN-E167.mp3\")"
   ]
  },
  {
   "cell_type": "code",
   "execution_count": 22,
   "id": "b415a4bb-ad92-4167-96c0-62756ec48ab6",
   "metadata": {},
   "outputs": [],
   "source": [
    "client.add_extraction_policy(extractor='tensorlake/whisper-asr', name=\"audio-transcription\")"
   ]
  },
  {
   "cell_type": "code",
   "execution_count": 23,
   "id": "4fff872b-d524-46f6-b552-882094a20491",
   "metadata": {},
   "outputs": [],
   "source": [
    "client.add_extraction_policy(extractor='tensorlake/minilm-l6', name=\"transcription-embedding\", content_source='audio-transcription')"
   ]
  },
  {
   "cell_type": "code",
   "execution_count": 4,
   "id": "6cf861c2-07a1-447c-b629-d67f74732f6e",
   "metadata": {},
   "outputs": [],
   "source": [
    "from indexify_langchain import IndexifyRetriever"
   ]
  },
  {
   "cell_type": "code",
   "execution_count": 5,
   "id": "7822afff-b9f0-4a79-82c2-29aeead2427c",
   "metadata": {},
   "outputs": [],
   "source": [
    "params = {\"name\": \"transcription-embedding.embedding\", \"top_k\": 50}\n",
    "retriever = IndexifyRetriever(client=client, params=params)"
   ]
  },
  {
   "cell_type": "code",
   "execution_count": 6,
   "id": "c7145884-60c8-4ae3-ad43-550ee344a574",
   "metadata": {},
   "outputs": [],
   "source": [
    "from langchain_core.output_parsers import StrOutputParser\n",
    "from langchain_core.prompts import ChatPromptTemplate\n",
    "from langchain_core.runnables import RunnablePassthrough\n",
    "from langchain_openai import ChatOpenAI"
   ]
  },
  {
   "cell_type": "code",
   "execution_count": 12,
   "id": "74736cf9-1ea0-46df-957f-486a85b7a029",
   "metadata": {},
   "outputs": [],
   "source": [
    "template = \"\"\"Answer the question based only on the following context:\n",
    "{context}\n",
    "\n",
    "Question: {question}\n",
    "\"\"\"\n",
    "prompt = ChatPromptTemplate.from_template(template)\n",
    "\n",
    "model = ChatOpenAI(openai_api_key=\"\")\n",
    "\n",
    "chain = (\n",
    "    {\"context\": retriever, \"question\": RunnablePassthrough()}\n",
    "    | prompt\n",
    "    | model\n",
    "    | StrOutputParser()\n",
    ")\n"
   ]
  },
  {
   "cell_type": "code",
   "execution_count": 14,
   "id": "1da434f0-1a5f-476c-ab2d-dd4c726e37cc",
   "metadata": {},
   "outputs": [
    {
     "data": {
      "text/plain": [
       "\"Chamath's firm is called Social Capital.\""
      ]
     },
     "execution_count": 14,
     "metadata": {},
     "output_type": "execute_result"
    }
   ],
   "source": [
    "chain.invoke(\"What is Chamath's firm called?\")"
   ]
  },
  {
   "cell_type": "code",
   "execution_count": null,
   "id": "47ffe9b5-24e3-41c9-a00f-5b15dd77faf0",
   "metadata": {},
   "outputs": [],
   "source": []
  }
 ],
 "metadata": {
  "kernelspec": {
   "display_name": "Python 3 (ipykernel)",
   "language": "python",
   "name": "python3"
  },
  "language_info": {
   "codemirror_mode": {
    "name": "ipython",
    "version": 3
   },
   "file_extension": ".py",
   "mimetype": "text/x-python",
   "name": "python",
   "nbconvert_exporter": "python",
   "pygments_lexer": "ipython3",
   "version": "3.12.1"
  }
 },
 "nbformat": 4,
 "nbformat_minor": 5
}
