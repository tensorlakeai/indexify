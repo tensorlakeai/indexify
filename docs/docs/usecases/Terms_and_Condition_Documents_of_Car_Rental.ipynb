{
  "nbformat": 4,
  "nbformat_minor": 0,
  "metadata": {
    "colab": {
      "provenance": []
    },
    "kernelspec": {
      "name": "python3",
      "display_name": "Python 3"
    },
    "language_info": {
      "name": "python"
    }
  },
  "cells": [
    {
      "cell_type": "markdown",
      "source": [
        "### Install the Indexify Extractor SDK, Langchain Retriever and the Indexify Client"
      ],
      "metadata": {
        "id": "r9NVuXFG3qGw"
      }
    },
    {
      "cell_type": "code",
      "execution_count": null,
      "metadata": {
        "id": "udB1A9ee1RFv"
      },
      "outputs": [],
      "source": [
        "%%capture\n",
        "!pip install indexify-extractor-sdk indexify-langchain indexify"
      ]
    },
    {
      "cell_type": "markdown",
      "source": [
        "### Start the Indexify Server"
      ],
      "metadata": {
        "id": "nGrirc_G3zSI"
      }
    },
    {
      "cell_type": "code",
      "source": [
        "!./indexify server -d"
      ],
      "metadata": {
        "id": "prTC7y7i3UCu"
      },
      "execution_count": null,
      "outputs": []
    },
    {
      "cell_type": "markdown",
      "source": [
        "### Download an Embedding Extractor\n",
        "On another terminal we'll download and start the embedding extractor which we will use to index text from the Rental pdf document."
      ],
      "metadata": {
        "id": "KEHbUyCM3-vm"
      }
    },
    {
      "cell_type": "code",
      "source": [
        "!indexify-extractor download hub://embedding/minilm-l6\n",
        "!indexify-extractor join-server minilm-l6.minilm_l6:MiniLML6Extractor"
      ],
      "metadata": {
        "id": "GYQmZBoR4UsY"
      },
      "execution_count": null,
      "outputs": []
    },
    {
      "cell_type": "markdown",
      "source": [
        "### Download the PDF Extractor\n",
        "On another terminal we'll install the necessary dependencies and start the PDF extractor which we will use to get text, bytes or json out of Rental PDF documents."
      ],
      "metadata": {
        "id": "IfA8GSfG4cF7"
      }
    },
    {
      "cell_type": "markdown",
      "source": [
        "Install Poppler on your machine"
      ],
      "metadata": {
        "id": "mBUpNXkV5vZ_"
      }
    },
    {
      "cell_type": "code",
      "source": [
        "!sudo apt-get install -y poppler-utils"
      ],
      "metadata": {
        "id": "lk6YqXfG5_De"
      },
      "execution_count": null,
      "outputs": []
    },
    {
      "cell_type": "markdown",
      "source": [
        "Download and start the PDF extractor"
      ],
      "metadata": {
        "id": "n3EDV6Xk6LbU"
      }
    },
    {
      "cell_type": "code",
      "source": [
        "!indexify-extractor download hub://pdf/pdf-extractor\n",
        "!indexify-extractor join-server pdf-extractor.pdf_extractor:PDFExtractor"
      ],
      "metadata": {
        "id": "_167kZaE6b3Q"
      },
      "execution_count": null,
      "outputs": []
    },
    {
      "cell_type": "markdown",
      "source": [
        "### Create Extraction Policies\n",
        "Instantiate the Indexify Client"
      ],
      "metadata": {
        "id": "sTIlKuPp6wxg"
      }
    },
    {
      "cell_type": "code",
      "source": [
        "from indexify import IndexifyClient\n",
        "client = IndexifyClient()"
      ],
      "metadata": {
        "id": "HZNysNl-631k"
      },
      "execution_count": null,
      "outputs": []
    },
    {
      "cell_type": "markdown",
      "source": [
        "First, create a policy to get texts and contents out of the Rental PDF."
      ],
      "metadata": {
        "id": "GQr1749x6_CW"
      }
    },
    {
      "cell_type": "code",
      "source": [
        "client.add_extraction_policy(extractor='tensorlake/pdf-extractor', name=\"pdf-extraction\")"
      ],
      "metadata": {
        "id": "uff8cBlq7Mrv"
      },
      "execution_count": null,
      "outputs": []
    },
    {
      "cell_type": "markdown",
      "source": [
        "Second, from the texts and contents create an embedding based index."
      ],
      "metadata": {
        "id": "JunwusCA7ZA5"
      }
    },
    {
      "cell_type": "code",
      "source": [
        "client.add_extraction_policy(extractor='tensorlake/minilm-l6', name=\"get-embeddings\", content_source=\"pdf-extraction\")"
      ],
      "metadata": {
        "id": "v8jQ3zcJ7htj"
      },
      "execution_count": null,
      "outputs": []
    },
    {
      "cell_type": "markdown",
      "source": [
        "### Upload a Rental PDF File"
      ],
      "metadata": {
        "id": "ZGqpkx3P7gsh"
      }
    },
    {
      "cell_type": "code",
      "source": [
        "import requests\n",
        "req = requests.get(\"https://www.timescar-rental.com/pdf/agreement/en_agreement_200401.pdf\")\n",
        "\n",
        "with open('en_agreement_200401.pdf','wb') as f:\n",
        "    f.write(req.content)"
      ],
      "metadata": {
        "id": "Eaw5wDEL79dy"
      },
      "execution_count": null,
      "outputs": []
    },
    {
      "cell_type": "code",
      "source": [
        "client.upload_file(path=\"en_agreement_200401.pdf\")"
      ],
      "metadata": {
        "id": "ETideBqK8GGp"
      },
      "execution_count": null,
      "outputs": []
    },
    {
      "cell_type": "markdown",
      "source": [
        "### What is happening behind the scenes\n",
        "\n",
        "Indexify is designed to seamlessly respond to ingestion events by assessing all existing policies and triggering the necessary extractors for extraction. Once the PDF extractor completes the process of extracting texts, bytes, and JSONs from the document, it automatically initiates the embedding extractor to chunk the content, extract embeddings, and populate an index.\n",
        "\n",
        "With Indexify, you have the ability to upload hundreds of Rental PDF files simultaneously, and the platform will efficiently handle the extraction and indexing of the contents without requiring manual intervention. To expedite the extraction process, you can deploy multiple instances of the extractors, and Indexify's built-in scheduler will transparently distribute the workload among them, ensuring optimal performance and efficiency."
      ],
      "metadata": {
        "id": "I2WDexIU8LFy"
      }
    },
    {
      "cell_type": "markdown",
      "source": [
        "### Perform RAG\n",
        "Initialize the Langchain Retreiver."
      ],
      "metadata": {
        "id": "B6SQ0xDt9a_9"
      }
    },
    {
      "cell_type": "code",
      "source": [
        "from indexify_langchain import IndexifyRetriever\n",
        "params = {\"name\": \"get-embeddings.embedding\", \"top_k\": 3}\n",
        "retriever = IndexifyRetriever(client=client, params=params)"
      ],
      "metadata": {
        "id": "2raD6aeB9Th1"
      },
      "execution_count": null,
      "outputs": []
    },
    {
      "cell_type": "markdown",
      "source": [
        "Now create a chain to prompt OpenAI with data retreived from Indexify to create a simple Q&A bot"
      ],
      "metadata": {
        "id": "K8Q1ulDM9u-e"
      }
    },
    {
      "cell_type": "code",
      "source": [
        "from langchain_core.output_parsers import StrOutputParser\n",
        "from langchain_core.prompts import ChatPromptTemplate\n",
        "from langchain_core.runnables import RunnablePassthrough\n",
        "from langchain_openai import ChatOpenAI"
      ],
      "metadata": {
        "id": "8FUO8cLA9unF"
      },
      "execution_count": null,
      "outputs": []
    },
    {
      "cell_type": "code",
      "source": [
        "template = \"\"\"Answer the question based only on the following context:\n",
        "{context}\n",
        "\n",
        "Question: {question}\n",
        "\"\"\"\n",
        "prompt = ChatPromptTemplate.from_template(template)\n",
        "\n",
        "model = ChatOpenAI()\n",
        "\n",
        "chain = (\n",
        "    {\"context\": retriever, \"question\": RunnablePassthrough()}\n",
        "    | prompt\n",
        "    | model\n",
        "    | StrOutputParser()\n",
        ")"
      ],
      "metadata": {
        "id": "yfgv3imm9ZPG"
      },
      "execution_count": null,
      "outputs": []
    },
    {
      "cell_type": "markdown",
      "source": [
        "Now ask any question related to the ingested Rental PDF document"
      ],
      "metadata": {
        "id": "ckexWnEe-B3c"
      }
    },
    {
      "cell_type": "code",
      "source": [
        "chain.invoke(\"Who will be responsible for damages not compensated by the insurance?\")\n",
        "# The Renter and the Driver shall be responsible for damages not compensated for by the insurance benefit or compensation."
      ],
      "metadata": {
        "id": "cSc4uBLA-IEB"
      },
      "execution_count": null,
      "outputs": []
    }
  ]
}